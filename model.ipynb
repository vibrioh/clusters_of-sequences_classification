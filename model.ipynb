{
 "cells": [
  {
   "cell_type": "code",
   "execution_count": 78,
   "metadata": {
    "collapsed": true
   },
   "outputs": [],
   "source": [
    "#! /usr/bin/python3\n",
    "\n",
    "__author__ = \"Jun Hu <jh3846@columbia.edu\"\n",
    "__date__ = \"Apr 10, 2018\"\n",
    "\n",
    "import logging\n",
    "\n",
    "logger = logging.getLogger('etl')\n",
    "logger.setLevel(logging.DEBUG)\n",
    "\n",
    "ch = logging.StreamHandler()\n",
    "ch.setLevel(logging.DEBUG)\n",
    "\n",
    "formatter_c = logging.Formatter('[%(asctime)s]-[%(process)d]-[%(thread)d]-[%(name)s]-[%(lineno)s]-[%(levelname)s]: %(message)s')\n",
    "ch.setFormatter(formatter_c)\n",
    "\n",
    "logger.addHandler(ch)\n",
    "\n",
    "import pandas as pd\n",
    "import time\n",
    "\n",
    "from sklearn.feature_extraction.text import TfidfVectorizer\n",
    "\n",
    "import numpy as np\n",
    "\n",
    "from keras.models import Sequential\n",
    "import keras.backend as K\n",
    "from keras.layers import Dense\n",
    "from keras.utils import np_utils\n",
    "from sklearn.preprocessing import LabelEncoder\n",
    "from keras.layers import Dropout\n",
    "from keras.callbacks import EarlyStopping\n",
    "from keras.utils.vis_utils import plot_model\n",
    "from keras import regularizers, optimizers\n",
    "from keras.layers import Embedding\n",
    "from keras.layers import Conv1D, GlobalMaxPooling1D\n",
    "\n",
    "import matplotlib.pyplot as plt\n",
    "%matplotlib inline"
   ]
  },
  {
   "cell_type": "code",
   "execution_count": 2,
   "metadata": {},
   "outputs": [],
   "source": [
    "df1 = pd.read_pickle(\"/Users/junhu/Projects/bcr_data/d1.pickle\")\n",
    "df2 = pd.read_pickle(\"/Users/junhu/Projects/bcr_data/d2.pickle\")\n",
    "df3 = pd.read_pickle(\"/Users/junhu/Projects/bcr_data/d3.pickle\")\n",
    "df4 = pd.read_pickle(\"/Users/junhu/Projects/bcr_data/d4.pickle\")\n",
    "df5 = pd.read_pickle(\"/Users/junhu/Projects/bcr_data/d5.pickle\")"
   ]
  },
  {
   "cell_type": "code",
   "execution_count": 3,
   "metadata": {},
   "outputs": [
    {
     "name": "stderr",
     "output_type": "stream",
     "text": [
      "[2018-04-25 10:18:55,248]-[22022]-[140735658623872]-[etl]-[2]-[DEBUG]: (4241, 17)\n"
     ]
    },
    {
     "data": {
      "text/html": [
       "<div>\n",
       "<style scoped>\n",
       "    .dataframe tbody tr th:only-of-type {\n",
       "        vertical-align: middle;\n",
       "    }\n",
       "\n",
       "    .dataframe tbody tr th {\n",
       "        vertical-align: top;\n",
       "    }\n",
       "\n",
       "    .dataframe thead th {\n",
       "        text-align: right;\n",
       "    }\n",
       "</style>\n",
       "<table border=\"1\" class=\"dataframe\">\n",
       "  <thead>\n",
       "    <tr style=\"text-align: right;\">\n",
       "      <th></th>\n",
       "      <th>cancer</th>\n",
       "      <th>unigram</th>\n",
       "      <th>bigram</th>\n",
       "      <th>trigram</th>\n",
       "      <th>four_gram</th>\n",
       "      <th>five_gram</th>\n",
       "      <th>six_gram</th>\n",
       "      <th>trigram_skip2</th>\n",
       "      <th>trigram_skip3</th>\n",
       "      <th>unigram_cls</th>\n",
       "      <th>bigram_cls</th>\n",
       "      <th>trigram_cls</th>\n",
       "      <th>four_gram_cls</th>\n",
       "      <th>five_gram_cls</th>\n",
       "      <th>six_gram_cls</th>\n",
       "      <th>trigram_cls_skip2</th>\n",
       "      <th>trigram_cls_skip3</th>\n",
       "    </tr>\n",
       "  </thead>\n",
       "  <tbody>\n",
       "    <tr>\n",
       "      <th>0</th>\n",
       "      <td>THCA</td>\n",
       "      <td>D Y W G Q G R S D D T A V Y F C G D S P P F F ...</td>\n",
       "      <td>DY YW WG GQ QG RS SD DD DT TA AV VY YF FC GD D...</td>\n",
       "      <td>DYW YWG WGQ GQG RSD SDD DDT DTA TAV AVY VYF YF...</td>\n",
       "      <td>DYWG YWGQ WGQG RSDD SDDT DDTA DTAV TAVY AVYF V...</td>\n",
       "      <td>DYWGQ YWGQG RSDDT SDDTA DDTAV DTAVY TAVYF AVYF...</td>\n",
       "      <td>DYWGQG RSDDTA SDDTAV DDTAVY DTAVYF TAVYFC GDSP...</td>\n",
       "      <td>DWQ YGG RDT SDA DTV DAY TVF AYC GSP DPF SPF PF...</td>\n",
       "      <td>RTF SAC GPY DFW SFG PDQ PYG RTF SAC DVA DYR TF...</td>\n",
       "      <td>4 Y W G 5 G 6 3 4 4 3 1 1 Y F 2 G 4 3 P P F F ...</td>\n",
       "      <td>4Y YW WG G5 5G 63 34 44 43 31 11 1Y YF F2 G4 4...</td>\n",
       "      <td>4YW YWG WG5 G5G 634 344 443 431 311 11Y 1YF YF...</td>\n",
       "      <td>4YWG YWG5 WG5G 6344 3443 4431 4311 311Y 11YF 1...</td>\n",
       "      <td>4YWG5 YWG5G 63443 34431 44311 4311Y 311YF 11YF...</td>\n",
       "      <td>4YWG5G 634431 344311 44311Y 4311YF 311YF2 G43P...</td>\n",
       "      <td>4W5 YGG 643 341 431 41Y 31F 1Y2 G3P 4PF 3PF PF...</td>\n",
       "      <td>63F 312 GPY 4FW 3FG P45 PYG 63F 312 411 4Y6 3F...</td>\n",
       "    </tr>\n",
       "    <tr>\n",
       "      <th>1</th>\n",
       "      <td>LUSC</td>\n",
       "      <td>Y Y C A R G V V Y Y C A R V G Y Y Y D S S D Y ...</td>\n",
       "      <td>YY YC CA AR RG GV VV YY YC CA AR RV VG GY YY Y...</td>\n",
       "      <td>YYC YCA CAR ARG RGV GVV YYC YCA CAR ARV RVG VG...</td>\n",
       "      <td>YYCA YCAR CARG ARGV RGVV YYCA YCAR CARV ARVG R...</td>\n",
       "      <td>YYCAR YCARG CARGV ARGVV YYCAR YCARV CARVG ARVG...</td>\n",
       "      <td>YYCARG YCARGV CARGVV YYCARV YCARVG CARVGY ARVG...</td>\n",
       "      <td>YCR YAG CRV AGV YCR YAV CRG AVY RGY VYY GYD YY...</td>\n",
       "      <td>YRY YVY CGD AYS RYS VYD GDY YSP YSM YSL CLR AW...</td>\n",
       "      <td>Y Y 2 1 6 G 1 1 Y Y 2 1 6 1 G Y Y Y 4 3 3 4 Y ...</td>\n",
       "      <td>YY Y2 21 16 6G G1 11 YY Y2 21 16 61 1G GY YY Y...</td>\n",
       "      <td>YY2 Y21 216 16G 6G1 G11 YY2 Y21 216 161 61G 1G...</td>\n",
       "      <td>YY21 Y216 216G 16G1 6G11 YY21 Y216 2161 161G 6...</td>\n",
       "      <td>YY216 Y216G 216G1 16G11 YY216 Y2161 2161G 161G...</td>\n",
       "      <td>YY216G Y216G1 216G11 YY2161 Y2161G 2161GY 161G...</td>\n",
       "      <td>Y26 Y1G 261 1G1 Y26 Y11 26G 11Y 6GY 1YY GY4 YY...</td>\n",
       "      <td>Y6Y Y1Y 2G4 1Y3 6Y3 1Y4 G4Y Y3P Y32 Y31 216 1W...</td>\n",
       "    </tr>\n",
       "    <tr>\n",
       "      <th>2</th>\n",
       "      <td>OV</td>\n",
       "      <td>R E H S S S S W Y F D Y W G Q G Y Y C A R H E ...</td>\n",
       "      <td>RE EH HS SS SS SS SW WY YF FD DY YW WG GQ QG Y...</td>\n",
       "      <td>REH EHS HSS SSS SSS SSW SWY WYF YFD FDY DYW YW...</td>\n",
       "      <td>REHS EHSS HSSS SSSS SSSW SSWY SWYF WYFD YFDY F...</td>\n",
       "      <td>REHSS EHSSS HSSSS SSSSW SSSWY SSWYF SWYFD WYFD...</td>\n",
       "      <td>REHSSS EHSSSS HSSSSW SSSSWY SSSWYF SSWYFD SWYF...</td>\n",
       "      <td>RHS ESS HSS SSW SSY SWF SYD WFY YDW FYG DWQ YG...</td>\n",
       "      <td>RSY ESF HSD SWY SYW SFG SDQ WYG YRG YHQ CES AD...</td>\n",
       "      <td>6 4 6 3 3 3 3 W Y F 4 Y W G 5 G Y Y 2 1 6 6 4 ...</td>\n",
       "      <td>64 46 63 33 33 33 3W WY YF F4 4Y YW WG G5 5G Y...</td>\n",
       "      <td>646 463 633 333 333 33W 3WY WYF YF4 F4Y 4YW YW...</td>\n",
       "      <td>6463 4633 6333 3333 333W 33WY 3WYF WYF4 YF4Y F...</td>\n",
       "      <td>64633 46333 63333 3333W 333WY 33WYF 3WYF4 WYF4...</td>\n",
       "      <td>646333 463333 63333W 3333WY 333WYF 33WYF4 3WYF...</td>\n",
       "      <td>663 433 633 33W 33Y 3WF 3Y4 WFY Y4W FYG 4W5 YG...</td>\n",
       "      <td>63Y 43F 634 3WY 3YW 3FG 345 WYG Y6G Y65 243 14...</td>\n",
       "    </tr>\n",
       "    <tr>\n",
       "      <th>3</th>\n",
       "      <td>COAD</td>\n",
       "      <td>D Y Y F D Y W G Q G Y Y C A R E P N G P A Y Y ...</td>\n",
       "      <td>DY YY YF FD DY YW WG GQ QG YY YC CA AR RE EP P...</td>\n",
       "      <td>DYY YYF YFD FDY DYW YWG WGQ GQG YYC YCA CAR AR...</td>\n",
       "      <td>DYYF YYFD YFDY FDYW DYWG YWGQ WGQG YYCA YCAR C...</td>\n",
       "      <td>DYYFD YYFDY YFDYW FDYWG DYWGQ YWGQG YYCAR YCAR...</td>\n",
       "      <td>DYYFDY YYFDYW YFDYWG FDYWGQ DYWGQG YYCARE YCAR...</td>\n",
       "      <td>DYD YFY YDW FYG DWQ YGG YCR YAE CRP AEN RPG EN...</td>\n",
       "      <td>DDQ YYG YRG YEP AYV YGW YMG YDQ YVG DYK TYE AY...</td>\n",
       "      <td>4 Y Y F 4 Y W G 5 G Y Y 2 1 6 4 P 5 G P 1 Y Y ...</td>\n",
       "      <td>4Y YY YF F4 4Y YW WG G5 5G YY Y2 21 16 64 4P P...</td>\n",
       "      <td>4YY YYF YF4 F4Y 4YW YWG WG5 G5G YY2 Y21 216 16...</td>\n",
       "      <td>4YYF YYF4 YF4Y F4YW 4YWG YWG5 WG5G YY21 Y216 2...</td>\n",
       "      <td>4YYF4 YYF4Y YF4YW F4YWG 4YWG5 YWG5G YY216 Y216...</td>\n",
       "      <td>4YYF4Y YYF4YW YF4YWG F4YWG5 4YWG5G YY2164 Y216...</td>\n",
       "      <td>4Y4 YFY Y4W FYG 4W5 YGG Y26 Y14 26P 145 6PG 45...</td>\n",
       "      <td>445 YYG Y6G Y4P 1Y1 YGW Y2G Y45 Y1G 4Y6 3Y4 1Y...</td>\n",
       "    </tr>\n",
       "    <tr>\n",
       "      <th>4</th>\n",
       "      <td>THCA</td>\n",
       "      <td>Y S S G S T L D Y W G Q G Y Y Y G M D V W G Q ...</td>\n",
       "      <td>YS SS SG GS ST TL LD DY YW WG GQ QG YY YY YG G...</td>\n",
       "      <td>YSS SSG SGS GST STL TLD LDY DYW YWG WGQ GQG YY...</td>\n",
       "      <td>YSSG SSGS SGST GSTL STLD TLDY LDYW DYWG YWGQ W...</td>\n",
       "      <td>YSSGS SSGST SGSTL GSTLD STLDY TLDYW LDYWG DYWG...</td>\n",
       "      <td>YSSGST SSGSTL SGSTLD GSTLDY STLDYW TLDYWG LDYW...</td>\n",
       "      <td>YSS SGT SSL GTD SLY TDW LYG DWQ YGG YYM YGD YM...</td>\n",
       "      <td>YSY STW SLG GDQ SYG YMG YDQ YVG EYV TGW NMG YD...</td>\n",
       "      <td>Y 3 3 G 3 3 1 4 Y W G 5 G Y Y Y G 2 4 1 W G 5 ...</td>\n",
       "      <td>Y3 33 3G G3 33 31 14 4Y YW WG G5 5G YY YY YG G...</td>\n",
       "      <td>Y33 33G 3G3 G33 331 314 14Y 4YW YWG WG5 G5G YY...</td>\n",
       "      <td>Y33G 33G3 3G33 G331 3314 314Y 14YW 4YWG YWG5 W...</td>\n",
       "      <td>Y33G3 33G33 3G331 G3314 3314Y 314YW 14YWG 4YWG...</td>\n",
       "      <td>Y33G33 33G331 3G3314 G3314Y 3314YW 314YWG 14YW...</td>\n",
       "      <td>Y33 3G3 331 G34 31Y 34W 1YG 4W5 YGG YY2 YG4 Y2...</td>\n",
       "      <td>Y3Y 33W 31G G45 3YG Y2G Y45 Y1G 4Y1 3GW 52G Y4...</td>\n",
       "    </tr>\n",
       "  </tbody>\n",
       "</table>\n",
       "</div>"
      ],
      "text/plain": [
       "<div>\n",
       "<style scoped>\n",
       "    .dataframe tbody tr th:only-of-type {\n",
       "        vertical-align: middle;\n",
       "    }\n",
       "\n",
       "    .dataframe tbody tr th {\n",
       "        vertical-align: top;\n",
       "    }\n",
       "\n",
       "    .dataframe thead th {\n",
       "        text-align: right;\n",
       "    }\n",
       "</style>\n",
       "<table border=\"1\" class=\"dataframe\">\n",
       "  <thead>\n",
       "    <tr style=\"text-align: right;\">\n",
       "      <th></th>\n",
       "      <th>cancer</th>\n",
       "      <th>unigram</th>\n",
       "      <th>bigram</th>\n",
       "      <th>trigram</th>\n",
       "      <th>four_gram</th>\n",
       "      <th>five_gram</th>\n",
       "      <th>six_gram</th>\n",
       "      <th>trigram_skip2</th>\n",
       "      <th>trigram_skip3</th>\n",
       "      <th>unigram_cls</th>\n",
       "      <th>bigram_cls</th>\n",
       "      <th>trigram_cls</th>\n",
       "      <th>four_gram_cls</th>\n",
       "      <th>five_gram_cls</th>\n",
       "      <th>six_gram_cls</th>\n",
       "      <th>trigram_cls_skip2</th>\n",
       "      <th>trigram_cls_skip3</th>\n",
       "    </tr>\n",
       "  </thead>\n",
       "  <tbody>\n",
       "    <tr>\n",
       "      <th>0</th>\n",
       "      <td>THCA</td>\n",
       "      <td>D Y W G Q G R S D D T A V Y F C G D S P P F F ...</td>\n",
       "      <td>DY YW WG GQ QG RS SD DD DT TA AV VY YF FC GD D...</td>\n",
       "      <td>DYW YWG WGQ GQG RSD SDD DDT DTA TAV AVY VYF YF...</td>\n",
       "      <td>DYWG YWGQ WGQG RSDD SDDT DDTA DTAV TAVY AVYF V...</td>\n",
       "      <td>DYWGQ YWGQG RSDDT SDDTA DDTAV DTAVY TAVYF AVYF...</td>\n",
       "      <td>DYWGQG RSDDTA SDDTAV DDTAVY DTAVYF TAVYFC GDSP...</td>\n",
       "      <td>DWQ YGG RDT SDA DTV DAY TVF AYC GSP DPF SPF PF...</td>\n",
       "      <td>RTF SAC GPY DFW SFG PDQ PYG RTF SAC DVA DYR TF...</td>\n",
       "      <td>4 Y W G 5 G 6 3 4 4 3 1 1 Y F 2 G 4 3 P P F F ...</td>\n",
       "      <td>4Y YW WG G5 5G 63 34 44 43 31 11 1Y YF F2 G4 4...</td>\n",
       "      <td>4YW YWG WG5 G5G 634 344 443 431 311 11Y 1YF YF...</td>\n",
       "      <td>4YWG YWG5 WG5G 6344 3443 4431 4311 311Y 11YF 1...</td>\n",
       "      <td>4YWG5 YWG5G 63443 34431 44311 4311Y 311YF 11YF...</td>\n",
       "      <td>4YWG5G 634431 344311 44311Y 4311YF 311YF2 G43P...</td>\n",
       "      <td>4W5 YGG 643 341 431 41Y 31F 1Y2 G3P 4PF 3PF PF...</td>\n",
       "      <td>63F 312 GPY 4FW 3FG P45 PYG 63F 312 411 4Y6 3F...</td>\n",
       "    </tr>\n",
       "    <tr>\n",
       "      <th>1</th>\n",
       "      <td>LUSC</td>\n",
       "      <td>Y Y C A R G V V Y Y C A R V G Y Y Y D S S D Y ...</td>\n",
       "      <td>YY YC CA AR RG GV VV YY YC CA AR RV VG GY YY Y...</td>\n",
       "      <td>YYC YCA CAR ARG RGV GVV YYC YCA CAR ARV RVG VG...</td>\n",
       "      <td>YYCA YCAR CARG ARGV RGVV YYCA YCAR CARV ARVG R...</td>\n",
       "      <td>YYCAR YCARG CARGV ARGVV YYCAR YCARV CARVG ARVG...</td>\n",
       "      <td>YYCARG YCARGV CARGVV YYCARV YCARVG CARVGY ARVG...</td>\n",
       "      <td>YCR YAG CRV AGV YCR YAV CRG AVY RGY VYY GYD YY...</td>\n",
       "      <td>YRY YVY CGD AYS RYS VYD GDY YSP YSM YSL CLR AW...</td>\n",
       "      <td>Y Y 2 1 6 G 1 1 Y Y 2 1 6 1 G Y Y Y 4 3 3 4 Y ...</td>\n",
       "      <td>YY Y2 21 16 6G G1 11 YY Y2 21 16 61 1G GY YY Y...</td>\n",
       "      <td>YY2 Y21 216 16G 6G1 G11 YY2 Y21 216 161 61G 1G...</td>\n",
       "      <td>YY21 Y216 216G 16G1 6G11 YY21 Y216 2161 161G 6...</td>\n",
       "      <td>YY216 Y216G 216G1 16G11 YY216 Y2161 2161G 161G...</td>\n",
       "      <td>YY216G Y216G1 216G11 YY2161 Y2161G 2161GY 161G...</td>\n",
       "      <td>Y26 Y1G 261 1G1 Y26 Y11 26G 11Y 6GY 1YY GY4 YY...</td>\n",
       "      <td>Y6Y Y1Y 2G4 1Y3 6Y3 1Y4 G4Y Y3P Y32 Y31 216 1W...</td>\n",
       "    </tr>\n",
       "    <tr>\n",
       "      <th>2</th>\n",
       "      <td>OV</td>\n",
       "      <td>R E H S S S S W Y F D Y W G Q G Y Y C A R H E ...</td>\n",
       "      <td>RE EH HS SS SS SS SW WY YF FD DY YW WG GQ QG Y...</td>\n",
       "      <td>REH EHS HSS SSS SSS SSW SWY WYF YFD FDY DYW YW...</td>\n",
       "      <td>REHS EHSS HSSS SSSS SSSW SSWY SWYF WYFD YFDY F...</td>\n",
       "      <td>REHSS EHSSS HSSSS SSSSW SSSWY SSWYF SWYFD WYFD...</td>\n",
       "      <td>REHSSS EHSSSS HSSSSW SSSSWY SSSWYF SSWYFD SWYF...</td>\n",
       "      <td>RHS ESS HSS SSW SSY SWF SYD WFY YDW FYG DWQ YG...</td>\n",
       "      <td>RSY ESF HSD SWY SYW SFG SDQ WYG YRG YHQ CES AD...</td>\n",
       "      <td>6 4 6 3 3 3 3 W Y F 4 Y W G 5 G Y Y 2 1 6 6 4 ...</td>\n",
       "      <td>64 46 63 33 33 33 3W WY YF F4 4Y YW WG G5 5G Y...</td>\n",
       "      <td>646 463 633 333 333 33W 3WY WYF YF4 F4Y 4YW YW...</td>\n",
       "      <td>6463 4633 6333 3333 333W 33WY 3WYF WYF4 YF4Y F...</td>\n",
       "      <td>64633 46333 63333 3333W 333WY 33WYF 3WYF4 WYF4...</td>\n",
       "      <td>646333 463333 63333W 3333WY 333WYF 33WYF4 3WYF...</td>\n",
       "      <td>663 433 633 33W 33Y 3WF 3Y4 WFY Y4W FYG 4W5 YG...</td>\n",
       "      <td>63Y 43F 634 3WY 3YW 3FG 345 WYG Y6G Y65 243 14...</td>\n",
       "    </tr>\n",
       "    <tr>\n",
       "      <th>3</th>\n",
       "      <td>COAD</td>\n",
       "      <td>D Y Y F D Y W G Q G Y Y C A R E P N G P A Y Y ...</td>\n",
       "      <td>DY YY YF FD DY YW WG GQ QG YY YC CA AR RE EP P...</td>\n",
       "      <td>DYY YYF YFD FDY DYW YWG WGQ GQG YYC YCA CAR AR...</td>\n",
       "      <td>DYYF YYFD YFDY FDYW DYWG YWGQ WGQG YYCA YCAR C...</td>\n",
       "      <td>DYYFD YYFDY YFDYW FDYWG DYWGQ YWGQG YYCAR YCAR...</td>\n",
       "      <td>DYYFDY YYFDYW YFDYWG FDYWGQ DYWGQG YYCARE YCAR...</td>\n",
       "      <td>DYD YFY YDW FYG DWQ YGG YCR YAE CRP AEN RPG EN...</td>\n",
       "      <td>DDQ YYG YRG YEP AYV YGW YMG YDQ YVG DYK TYE AY...</td>\n",
       "      <td>4 Y Y F 4 Y W G 5 G Y Y 2 1 6 4 P 5 G P 1 Y Y ...</td>\n",
       "      <td>4Y YY YF F4 4Y YW WG G5 5G YY Y2 21 16 64 4P P...</td>\n",
       "      <td>4YY YYF YF4 F4Y 4YW YWG WG5 G5G YY2 Y21 216 16...</td>\n",
       "      <td>4YYF YYF4 YF4Y F4YW 4YWG YWG5 WG5G YY21 Y216 2...</td>\n",
       "      <td>4YYF4 YYF4Y YF4YW F4YWG 4YWG5 YWG5G YY216 Y216...</td>\n",
       "      <td>4YYF4Y YYF4YW YF4YWG F4YWG5 4YWG5G YY2164 Y216...</td>\n",
       "      <td>4Y4 YFY Y4W FYG 4W5 YGG Y26 Y14 26P 145 6PG 45...</td>\n",
       "      <td>445 YYG Y6G Y4P 1Y1 YGW Y2G Y45 Y1G 4Y6 3Y4 1Y...</td>\n",
       "    </tr>\n",
       "    <tr>\n",
       "      <th>4</th>\n",
       "      <td>THCA</td>\n",
       "      <td>Y S S G S T L D Y W G Q G Y Y Y G M D V W G Q ...</td>\n",
       "      <td>YS SS SG GS ST TL LD DY YW WG GQ QG YY YY YG G...</td>\n",
       "      <td>YSS SSG SGS GST STL TLD LDY DYW YWG WGQ GQG YY...</td>\n",
       "      <td>YSSG SSGS SGST GSTL STLD TLDY LDYW DYWG YWGQ W...</td>\n",
       "      <td>YSSGS SSGST SGSTL GSTLD STLDY TLDYW LDYWG DYWG...</td>\n",
       "      <td>YSSGST SSGSTL SGSTLD GSTLDY STLDYW TLDYWG LDYW...</td>\n",
       "      <td>YSS SGT SSL GTD SLY TDW LYG DWQ YGG YYM YGD YM...</td>\n",
       "      <td>YSY STW SLG GDQ SYG YMG YDQ YVG EYV TGW NMG YD...</td>\n",
       "      <td>Y 3 3 G 3 3 1 4 Y W G 5 G Y Y Y G 2 4 1 W G 5 ...</td>\n",
       "      <td>Y3 33 3G G3 33 31 14 4Y YW WG G5 5G YY YY YG G...</td>\n",
       "      <td>Y33 33G 3G3 G33 331 314 14Y 4YW YWG WG5 G5G YY...</td>\n",
       "      <td>Y33G 33G3 3G33 G331 3314 314Y 14YW 4YWG YWG5 W...</td>\n",
       "      <td>Y33G3 33G33 3G331 G3314 3314Y 314YW 14YWG 4YWG...</td>\n",
       "      <td>Y33G33 33G331 3G3314 G3314Y 3314YW 314YWG 14YW...</td>\n",
       "      <td>Y33 3G3 331 G34 31Y 34W 1YG 4W5 YGG YY2 YG4 Y2...</td>\n",
       "      <td>Y3Y 33W 31G G45 3YG Y2G Y45 Y1G 4Y1 3GW 52G Y4...</td>\n",
       "    </tr>\n",
       "  </tbody>\n",
       "</table>\n",
       "</div>"
      ]
     },
     "execution_count": 3,
     "metadata": {},
     "output_type": "execute_result"
    }
   ],
   "source": [
    "df = pd.concat([df1, df2, df3, df4, df5], axis=1)\n",
    "logger.debug(df.shape)\n",
    "df.head()"
   ]
  },
  {
   "cell_type": "code",
   "execution_count": 5,
   "metadata": {},
   "outputs": [
    {
     "name": "stderr",
     "output_type": "stream",
     "text": [
      "[2018-04-25 11:15:19,699]-[22022]-[140735658623872]-[etl]-[12]-[DEBUG]: --- 76.75185108184814 seconds ---\n"
     ]
    },
    {
     "name": "stderr",
     "output_type": "stream",
     "text": [
      "[2018-04-25 11:16:53,194]-[22022]-[140735658623872]-[etl]-[12]-[DEBUG]: --- 93.47376084327698 seconds ---\n"
     ]
    },
    {
     "name": "stderr",
     "output_type": "stream",
     "text": [
      "[2018-04-25 11:18:36,356]-[22022]-[140735658623872]-[etl]-[12]-[DEBUG]: --- 103.15917897224426 seconds ---\n"
     ]
    },
    {
     "name": "stderr",
     "output_type": "stream",
     "text": [
      "[2018-04-25 11:20:43,553]-[22022]-[140735658623872]-[etl]-[12]-[DEBUG]: --- 127.19161915779114 seconds ---\n"
     ]
    },
    {
     "name": "stderr",
     "output_type": "stream",
     "text": [
      "[2018-04-25 11:23:21,043]-[22022]-[140735658623872]-[etl]-[12]-[DEBUG]: --- 157.48258709907532 seconds ---\n"
     ]
    },
    {
     "name": "stderr",
     "output_type": "stream",
     "text": [
      "[2018-04-25 11:29:04,863]-[22022]-[140735658623872]-[etl]-[12]-[DEBUG]: --- 343.8124759197235 seconds ---\n"
     ]
    },
    {
     "name": "stderr",
     "output_type": "stream",
     "text": [
      "[2018-04-25 11:30:59,281]-[22022]-[140735658623872]-[etl]-[12]-[DEBUG]: --- 114.41038990020752 seconds ---\n"
     ]
    },
    {
     "name": "stderr",
     "output_type": "stream",
     "text": [
      "[2018-04-25 11:32:18,341]-[22022]-[140735658623872]-[etl]-[12]-[DEBUG]: --- 79.0519049167633 seconds ---\n"
     ]
    },
    {
     "name": "stderr",
     "output_type": "stream",
     "text": [
      "[2018-04-25 11:33:58,489]-[22022]-[140735658623872]-[etl]-[12]-[DEBUG]: --- 100.13671517372131 seconds ---\n"
     ]
    },
    {
     "name": "stderr",
     "output_type": "stream",
     "text": [
      "[2018-04-25 11:36:10,731]-[22022]-[140735658623872]-[etl]-[12]-[DEBUG]: --- 132.23745489120483 seconds ---\n"
     ]
    },
    {
     "name": "stderr",
     "output_type": "stream",
     "text": [
      "[2018-04-25 11:38:15,154]-[22022]-[140735658623872]-[etl]-[12]-[DEBUG]: --- 124.40299201011658 seconds ---\n"
     ]
    },
    {
     "name": "stderr",
     "output_type": "stream",
     "text": [
      "[2018-04-25 11:43:27,356]-[22022]-[140735658623872]-[etl]-[12]-[DEBUG]: --- 312.19010305404663 seconds ---\n"
     ]
    },
    {
     "name": "stderr",
     "output_type": "stream",
     "text": [
      "[2018-04-25 11:45:54,839]-[22022]-[140735658623872]-[etl]-[12]-[DEBUG]: --- 147.4755940437317 seconds ---\n"
     ]
    },
    {
     "name": "stderr",
     "output_type": "stream",
     "text": [
      "[2018-04-25 11:48:23,592]-[22022]-[140735658623872]-[etl]-[12]-[DEBUG]: --- 148.74259400367737 seconds ---\n"
     ]
    },
    {
     "name": "stderr",
     "output_type": "stream",
     "text": [
      "[2018-04-25 11:50:03,558]-[22022]-[140735658623872]-[etl]-[12]-[DEBUG]: --- 99.95715475082397 seconds ---\n"
     ]
    },
    {
     "name": "stderr",
     "output_type": "stream",
     "text": [
      "[2018-04-25 11:50:57,879]-[22022]-[140735658623872]-[etl]-[12]-[DEBUG]: --- 54.31193494796753 seconds ---\n"
     ]
    },
    {
     "name": "stderr",
     "output_type": "stream",
     "text": [
      "[2018-04-25 11:50:57,915]-[22022]-[140735658623872]-[etl]-[13]-[DEBUG]: --- 2261.245082139969 seconds ---\n"
     ]
    }
   ],
   "source": [
    "start_time = time.time()\n",
    "\n",
    "df_vec4000 = df.copy()\n",
    "max_features = 4000\n",
    "\n",
    "# ou can change the token_pattern parameter from (?u)\\\\b\\\\w\\\\w+\\\\b (default) to (?u)\\\\b\\\\w\\\\w*\\\\b; The default matches token that has two or more word characters (in case you are not familiar with regex, + means one or more, so \\\\w\\\\w+ matches word with two or more word characters; * on the other hand means zero or more, \\\\w\\\\w* will thus match word with one or more characters):\n",
    "tfidf = TfidfVectorizer(max_features=max_features, stop_words=None, lowercase=False, token_pattern='(?u)\\\\b\\\\w\\\\w*\\\\b')\n",
    "\n",
    "for i in range(1, 17):\n",
    "    start_time1 = time.time()\n",
    "    df_vec4000.iloc[:, i] = tfidf.fit_transform(df_vec4000.iloc[:, i]).toarray().tolist()\n",
    "    logger.debug(\"--- %s seconds ---\" % (time.time() - start_time1))\n",
    "logger.debug(\"--- %s seconds ---\" % (time.time() - start_time))\n",
    "df_vec4000.to_pickle(\"/Users/junhu/Projects/bcr_data/df_vec4000.pickle\")\n",
    "\n"
   ]
  },
  {
   "cell_type": "code",
   "execution_count": 5,
   "metadata": {},
   "outputs": [
    {
     "name": "stderr",
     "output_type": "stream",
     "text": [
      "[2018-04-24 19:54:01,722]-[5244]-[8988]-[etl]-[12]-[DEBUG]: --- 75.05780625343323 seconds ---\n"
     ]
    },
    {
     "name": "stderr",
     "output_type": "stream",
     "text": [
      "[2018-04-24 19:55:24,654]-[5244]-[8988]-[etl]-[12]-[DEBUG]: --- 82.93081402778625 seconds ---\n"
     ]
    },
    {
     "name": "stderr",
     "output_type": "stream",
     "text": [
      "[2018-04-24 19:56:46,521]-[5244]-[8988]-[etl]-[12]-[DEBUG]: --- 81.864905834198 seconds ---\n"
     ]
    },
    {
     "name": "stderr",
     "output_type": "stream",
     "text": [
      "[2018-04-24 19:58:21,999]-[5244]-[8988]-[etl]-[12]-[DEBUG]: --- 95.47649383544922 seconds ---\n"
     ]
    },
    {
     "name": "stderr",
     "output_type": "stream",
     "text": [
      "[2018-04-24 20:05:33,854]-[5244]-[8988]-[etl]-[12]-[DEBUG]: --- 431.85456562042236 seconds ---\n"
     ]
    },
    {
     "name": "stderr",
     "output_type": "stream",
     "text": [
      "[2018-04-24 20:15:45,171]-[5244]-[8988]-[etl]-[12]-[DEBUG]: --- 611.3135178089142 seconds ---\n"
     ]
    },
    {
     "name": "stderr",
     "output_type": "stream",
     "text": [
      "[2018-04-24 20:19:55,574]-[5244]-[8988]-[etl]-[12]-[DEBUG]: --- 250.4016752243042 seconds ---\n"
     ]
    },
    {
     "name": "stderr",
     "output_type": "stream",
     "text": [
      "[2018-04-24 20:21:05,720]-[5244]-[8988]-[etl]-[12]-[DEBUG]: --- 70.14262890815735 seconds ---\n"
     ]
    },
    {
     "name": "stderr",
     "output_type": "stream",
     "text": [
      "[2018-04-24 21:02:35,201]-[5244]-[8988]-[etl]-[12]-[DEBUG]: --- 2489.479713201523 seconds ---\n"
     ]
    },
    {
     "name": "stderr",
     "output_type": "stream",
     "text": [
      "[2018-04-24 21:07:49,722]-[5244]-[8988]-[etl]-[12]-[DEBUG]: --- 314.5038962364197 seconds ---\n"
     ]
    },
    {
     "name": "stderr",
     "output_type": "stream",
     "text": [
      "[2018-04-24 21:12:28,719]-[5244]-[8988]-[etl]-[12]-[DEBUG]: --- 278.69273853302 seconds ---\n"
     ]
    },
    {
     "name": "stderr",
     "output_type": "stream",
     "text": [
      "[2018-04-24 21:15:17,014]-[5244]-[8988]-[etl]-[12]-[DEBUG]: --- 168.2946493625641 seconds ---\n"
     ]
    },
    {
     "name": "stderr",
     "output_type": "stream",
     "text": [
      "[2018-04-24 21:19:15,221]-[5244]-[8988]-[etl]-[12]-[DEBUG]: --- 238.20289039611816 seconds ---\n"
     ]
    },
    {
     "name": "stderr",
     "output_type": "stream",
     "text": [
      "[2018-04-24 21:22:05,068]-[5244]-[8988]-[etl]-[12]-[DEBUG]: --- 169.8456814289093 seconds ---\n"
     ]
    },
    {
     "name": "stderr",
     "output_type": "stream",
     "text": [
      "[2018-04-24 21:26:50,152]-[5244]-[8988]-[etl]-[12]-[DEBUG]: --- 285.0818667411804 seconds ---\n"
     ]
    },
    {
     "name": "stderr",
     "output_type": "stream",
     "text": [
      "[2018-04-24 21:27:51,585]-[5244]-[8988]-[etl]-[12]-[DEBUG]: --- 61.430301904678345 seconds ---\n"
     ]
    },
    {
     "name": "stderr",
     "output_type": "stream",
     "text": [
      "[2018-04-24 21:27:51,591]-[5244]-[8988]-[etl]-[13]-[DEBUG]: --- 5704.9492337703705 seconds ---\n"
     ]
    }
   ],
   "source": [
    "# start_time = time.time()\n",
    "# \n",
    "# df_vec10000 = df.copy()\n",
    "# max_features = 10000\n",
    "# \n",
    "# # ou can change the token_pattern parameter from (?u)\\\\b\\\\w\\\\w+\\\\b (default) to (?u)\\\\b\\\\w\\\\w*\\\\b; The default matches token that has two or more word characters (in case you are not familiar with regex, + means one or more, so \\\\w\\\\w+ matches word with two or more word characters; * on the other hand means zero or more, \\\\w\\\\w* will thus match word with one or more characters):\n",
    "# tfidf = TfidfVectorizer(max_features=max_features, stop_words=None, lowercase=False, token_pattern='(?u)\\\\b\\\\w\\\\w*\\\\b')\n",
    "# \n",
    "# for i in range(1, 17):\n",
    "#     start_time1 = time.time()\n",
    "#     df_vec10000.iloc[:, i] = tfidf.fit_transform(df_vec10000.iloc[:, i]).toarray().tolist()\n",
    "#     logger.debug(\"--- %s seconds ---\" % (time.time() - start_time1))\n",
    "# logger.debug(\"--- %s seconds ---\" % (time.time() - start_time))\n",
    "# \n",
    "# df_vec10000.to_pickle(r\"F:\\courses\\bcr_data\\df_vec10000.pickle\")"
   ]
  },
  {
   "cell_type": "code",
   "execution_count": 4,
   "metadata": {},
   "outputs": [
    {
     "name": "stderr",
     "output_type": "stream",
     "text": [
      "[2018-04-25 10:19:39,950]-[22022]-[140735658623872]-[etl]-[9]-[DEBUG]: --- 2.0253171920776367 seconds ---\n"
     ]
    },
    {
     "name": "stderr",
     "output_type": "stream",
     "text": [
      "[2018-04-25 10:19:41,113]-[22022]-[140735658623872]-[etl]-[9]-[DEBUG]: --- 1.1623561382293701 seconds ---\n"
     ]
    },
    {
     "name": "stderr",
     "output_type": "stream",
     "text": [
      "[2018-04-25 10:19:47,738]-[22022]-[140735658623872]-[etl]-[9]-[DEBUG]: --- 6.623291015625 seconds ---\n"
     ]
    },
    {
     "name": "stderr",
     "output_type": "stream",
     "text": [
      "[2018-04-25 10:19:57,229]-[22022]-[140735658623872]-[etl]-[9]-[DEBUG]: --- 9.484586000442505 seconds ---\n"
     ]
    },
    {
     "name": "stderr",
     "output_type": "stream",
     "text": [
      "[2018-04-25 10:20:10,414]-[22022]-[140735658623872]-[etl]-[9]-[DEBUG]: --- 13.177716970443726 seconds ---\n"
     ]
    },
    {
     "name": "stderr",
     "output_type": "stream",
     "text": [
      "[2018-04-25 10:20:36,685]-[22022]-[140735658623872]-[etl]-[9]-[DEBUG]: --- 26.264261960983276 seconds ---\n"
     ]
    },
    {
     "name": "stderr",
     "output_type": "stream",
     "text": [
      "[2018-04-25 10:21:22,849]-[22022]-[140735658623872]-[etl]-[9]-[DEBUG]: --- 46.155609130859375 seconds ---\n"
     ]
    },
    {
     "name": "stderr",
     "output_type": "stream",
     "text": [
      "[2018-04-25 10:22:16,324]-[22022]-[140735658623872]-[etl]-[9]-[DEBUG]: --- 53.46981191635132 seconds ---\n"
     ]
    },
    {
     "name": "stderr",
     "output_type": "stream",
     "text": [
      "[2018-04-25 10:23:17,817]-[22022]-[140735658623872]-[etl]-[9]-[DEBUG]: --- 61.47909927368164 seconds ---\n"
     ]
    },
    {
     "name": "stderr",
     "output_type": "stream",
     "text": [
      "[2018-04-25 10:24:19,292]-[22022]-[140735658623872]-[etl]-[9]-[DEBUG]: --- 61.46058201789856 seconds ---\n"
     ]
    },
    {
     "name": "stderr",
     "output_type": "stream",
     "text": [
      "[2018-04-25 10:25:40,509]-[22022]-[140735658623872]-[etl]-[9]-[DEBUG]: --- 81.20649719238281 seconds ---\n"
     ]
    },
    {
     "name": "stderr",
     "output_type": "stream",
     "text": [
      "[2018-04-25 10:27:17,392]-[22022]-[140735658623872]-[etl]-[9]-[DEBUG]: --- 96.87248730659485 seconds ---\n"
     ]
    },
    {
     "name": "stderr",
     "output_type": "stream",
     "text": [
      "[2018-04-25 10:29:09,584]-[22022]-[140735658623872]-[etl]-[9]-[DEBUG]: --- 112.18130588531494 seconds ---\n"
     ]
    },
    {
     "name": "stderr",
     "output_type": "stream",
     "text": [
      "[2018-04-25 10:31:35,751]-[22022]-[140735658623872]-[etl]-[9]-[DEBUG]: --- 146.14876890182495 seconds ---\n"
     ]
    },
    {
     "name": "stderr",
     "output_type": "stream",
     "text": [
      "[2018-04-25 10:34:38,531]-[22022]-[140735658623872]-[etl]-[9]-[DEBUG]: --- 182.76044702529907 seconds ---\n"
     ]
    },
    {
     "name": "stderr",
     "output_type": "stream",
     "text": [
      "[2018-04-25 10:38:05,329]-[22022]-[140735658623872]-[etl]-[9]-[DEBUG]: --- 206.78540229797363 seconds ---\n"
     ]
    },
    {
     "name": "stderr",
     "output_type": "stream",
     "text": [
      "[2018-04-25 10:42:14,142]-[22022]-[140735658623872]-[etl]-[9]-[DEBUG]: --- 248.7958903312683 seconds ---\n"
     ]
    },
    {
     "ename": "ValueError",
     "evalue": "Can only index by location with a [integer, integer slice (START point is INCLUDED, END point is EXCLUDED), listlike of integers, boolean array]",
     "traceback": [
      "\u001b[0;31m---------------------------------------------------------------------------\u001b[0m",
      "\u001b[0;31mValueError\u001b[0m                                Traceback (most recent call last)",
      "\u001b[0;32m<ipython-input-4-96dc6f9b8f19>\u001b[0m in \u001b[0;36m<module>\u001b[0;34m()\u001b[0m\n\u001b[1;32m     14\u001b[0m     \u001b[0mstart_time1\u001b[0m \u001b[0;34m=\u001b[0m \u001b[0mtime\u001b[0m\u001b[0;34m.\u001b[0m\u001b[0mtime\u001b[0m\u001b[0;34m(\u001b[0m\u001b[0;34m)\u001b[0m\u001b[0;34m\u001b[0m\u001b[0m\n\u001b[1;32m     15\u001b[0m     \u001b[0mtfidf\u001b[0m \u001b[0;34m=\u001b[0m \u001b[0mTfidfVectorizer\u001b[0m\u001b[0;34m(\u001b[0m\u001b[0mmax_features\u001b[0m\u001b[0;34m=\u001b[0m\u001b[0mmax_features\u001b[0m\u001b[0;34m,\u001b[0m \u001b[0mstop_words\u001b[0m\u001b[0;34m=\u001b[0m\u001b[0;32mNone\u001b[0m\u001b[0;34m,\u001b[0m \u001b[0mlowercase\u001b[0m\u001b[0;34m=\u001b[0m\u001b[0;32mFalse\u001b[0m\u001b[0;34m,\u001b[0m \u001b[0mtoken_pattern\u001b[0m\u001b[0;34m=\u001b[0m\u001b[0;34m'(?u)\\\\b\\\\w\\\\w*\\\\b'\u001b[0m\u001b[0;34m)\u001b[0m\u001b[0;34m\u001b[0m\u001b[0m\n\u001b[0;32m---> 16\u001b[0;31m     \u001b[0mdf_model\u001b[0m\u001b[0;34m.\u001b[0m\u001b[0miloc\u001b[0m\u001b[0;34m[\u001b[0m\u001b[0;34m\"all_features_{}\"\u001b[0m\u001b[0;34m.\u001b[0m\u001b[0mformat\u001b[0m\u001b[0;34m(\u001b[0m\u001b[0mmax_features\u001b[0m\u001b[0;34m)\u001b[0m\u001b[0;34m]\u001b[0m \u001b[0;34m=\u001b[0m \u001b[0mtfidf\u001b[0m\u001b[0;34m.\u001b[0m\u001b[0mfit_transform\u001b[0m\u001b[0;34m(\u001b[0m\u001b[0mdf_model\u001b[0m\u001b[0;34m.\u001b[0m\u001b[0mall_features_str\u001b[0m\u001b[0;34m)\u001b[0m\u001b[0;34m.\u001b[0m\u001b[0mtoarray\u001b[0m\u001b[0;34m(\u001b[0m\u001b[0;34m)\u001b[0m\u001b[0;34m.\u001b[0m\u001b[0mtolist\u001b[0m\u001b[0;34m(\u001b[0m\u001b[0;34m)\u001b[0m\u001b[0;34m\u001b[0m\u001b[0m\n\u001b[0m\u001b[1;32m     17\u001b[0m     \u001b[0mlogger\u001b[0m\u001b[0;34m.\u001b[0m\u001b[0mdebug\u001b[0m\u001b[0;34m(\u001b[0m\u001b[0;34m\"--- %s seconds ---\"\u001b[0m \u001b[0;34m%\u001b[0m \u001b[0;34m(\u001b[0m\u001b[0mtime\u001b[0m\u001b[0;34m.\u001b[0m\u001b[0mtime\u001b[0m\u001b[0;34m(\u001b[0m\u001b[0;34m)\u001b[0m \u001b[0;34m-\u001b[0m \u001b[0mstart_time1\u001b[0m\u001b[0;34m)\u001b[0m\u001b[0;34m)\u001b[0m\u001b[0;34m\u001b[0m\u001b[0m\n\u001b[1;32m     18\u001b[0m \u001b[0;34m\u001b[0m\u001b[0m\n",
      "\u001b[0;32m~/Google Drive/courses/eecs6895/bcr_project/venv/lib/python3.6/site-packages/pandas/core/indexing.py\u001b[0m in \u001b[0;36m__setitem__\u001b[0;34m(self, key, value)\u001b[0m\n\u001b[1;32m    191\u001b[0m         \u001b[0;32melse\u001b[0m\u001b[0;34m:\u001b[0m\u001b[0;34m\u001b[0m\u001b[0m\n\u001b[1;32m    192\u001b[0m             \u001b[0mkey\u001b[0m \u001b[0;34m=\u001b[0m \u001b[0mcom\u001b[0m\u001b[0;34m.\u001b[0m\u001b[0m_apply_if_callable\u001b[0m\u001b[0;34m(\u001b[0m\u001b[0mkey\u001b[0m\u001b[0;34m,\u001b[0m \u001b[0mself\u001b[0m\u001b[0;34m.\u001b[0m\u001b[0mobj\u001b[0m\u001b[0;34m)\u001b[0m\u001b[0;34m\u001b[0m\u001b[0m\n\u001b[0;32m--> 193\u001b[0;31m         \u001b[0mindexer\u001b[0m \u001b[0;34m=\u001b[0m \u001b[0mself\u001b[0m\u001b[0;34m.\u001b[0m\u001b[0m_get_setitem_indexer\u001b[0m\u001b[0;34m(\u001b[0m\u001b[0mkey\u001b[0m\u001b[0;34m)\u001b[0m\u001b[0;34m\u001b[0m\u001b[0m\n\u001b[0m\u001b[1;32m    194\u001b[0m         \u001b[0mself\u001b[0m\u001b[0;34m.\u001b[0m\u001b[0m_setitem_with_indexer\u001b[0m\u001b[0;34m(\u001b[0m\u001b[0mindexer\u001b[0m\u001b[0;34m,\u001b[0m \u001b[0mvalue\u001b[0m\u001b[0;34m)\u001b[0m\u001b[0;34m\u001b[0m\u001b[0m\n\u001b[1;32m    195\u001b[0m \u001b[0;34m\u001b[0m\u001b[0m\n",
      "\u001b[0;32m~/Google Drive/courses/eecs6895/bcr_project/venv/lib/python3.6/site-packages/pandas/core/indexing.py\u001b[0m in \u001b[0;36m_get_setitem_indexer\u001b[0;34m(self, key)\u001b[0m\n\u001b[1;32m    177\u001b[0m \u001b[0;34m\u001b[0m\u001b[0m\n\u001b[1;32m    178\u001b[0m         \u001b[0;32mtry\u001b[0m\u001b[0;34m:\u001b[0m\u001b[0;34m\u001b[0m\u001b[0m\n\u001b[0;32m--> 179\u001b[0;31m             \u001b[0;32mreturn\u001b[0m \u001b[0mself\u001b[0m\u001b[0;34m.\u001b[0m\u001b[0m_convert_to_indexer\u001b[0m\u001b[0;34m(\u001b[0m\u001b[0mkey\u001b[0m\u001b[0;34m,\u001b[0m \u001b[0mis_setter\u001b[0m\u001b[0;34m=\u001b[0m\u001b[0;32mTrue\u001b[0m\u001b[0;34m)\u001b[0m\u001b[0;34m\u001b[0m\u001b[0m\n\u001b[0m\u001b[1;32m    180\u001b[0m         \u001b[0;32mexcept\u001b[0m \u001b[0mTypeError\u001b[0m \u001b[0;32mas\u001b[0m \u001b[0me\u001b[0m\u001b[0;34m:\u001b[0m\u001b[0;34m\u001b[0m\u001b[0m\n\u001b[1;32m    181\u001b[0m \u001b[0;34m\u001b[0m\u001b[0m\n",
      "\u001b[0;32m~/Google Drive/courses/eecs6895/bcr_project/venv/lib/python3.6/site-packages/pandas/core/indexing.py\u001b[0m in \u001b[0;36m_convert_to_indexer\u001b[0;34m(self, obj, axis, is_setter)\u001b[0m\n\u001b[1;32m   1848\u001b[0m \u001b[0;34m\u001b[0m\u001b[0m\n\u001b[1;32m   1849\u001b[0m         raise ValueError(\"Can only index by location with a [%s]\" %\n\u001b[0;32m-> 1850\u001b[0;31m                          self._valid_types)\n\u001b[0m\u001b[1;32m   1851\u001b[0m \u001b[0;34m\u001b[0m\u001b[0m\n\u001b[1;32m   1852\u001b[0m \u001b[0;34m\u001b[0m\u001b[0m\n",
      "\u001b[0;31mValueError\u001b[0m: Can only index by location with a [integer, integer slice (START point is INCLUDED, END point is EXCLUDED), listlike of integers, boolean array]"
     ],
     "output_type": "error"
    }
   ],
   "source": [
    "# start_time = time.time()\n",
    "# \n",
    "# df_model = df.copy()\n",
    "# \n",
    "# df_model[\"all_features_str\"] = df_model.iloc[:, 1]\n",
    "# for i in range(0, 17):\n",
    "#     start_time1 = time.time()\n",
    "#     df_model[\"all_features_str\"] = df_model[\"all_features_str\"] + df_model.iloc[:, i]\n",
    "#     logger.debug(\"--- %s seconds ---\" % (time.time() - start_time1))\n",
    "# max_features = 100\n",
    "# \n",
    "# # ou can change the token_pattern parameter from (?u)\\\\b\\\\w\\\\w+\\\\b (default) to (?u)\\\\b\\\\w\\\\w*\\\\b; The default matches token that has two or more word characters (in case you are not familiar with regex, + means one or more, so \\\\w\\\\w+ matches word with two or more word characters; * on the other hand means zero or more, \\\\w\\\\w* will thus match word with one or more characters):\n",
    "# for max_features in range(2000, 10000, 2000):\n",
    "#     start_time1 = time.time()\n",
    "#     tfidf = TfidfVectorizer(max_features=max_features, stop_words=None, lowercase=False, token_pattern='(?u)\\\\b\\\\w\\\\w*\\\\b')\n",
    "#     df_model.iloc[\"all_features_{}\".format(max_features)] = tfidf.fit_transform(df_model.all_features_str).toarray().tolist()\n",
    "#     logger.debug(\"--- %s seconds ---\" % (time.time() - start_time1))\n",
    "# \n",
    "# # for i in range(1, 17):\n",
    "# # #     start_time1 = time.time()\n",
    "# # #     df_vec100.iloc[:, i] = tfidf.fit_transform(df_vec100.iloc[:, i]).toarray().tolist()\n",
    "# # #     logger.debug(\"--- %s seconds ---\" % (time.time() - start_time1))\n",
    "# logger.debug(\"--- %s seconds ---\" % (time.time() - start_time))\n",
    "# # df_vec100.to_pickle(r\"F:\\courses\\bcr_data\\df_vec100.pickle\")"
   ]
  },
  {
   "cell_type": "code",
   "execution_count": 6,
   "metadata": {},
   "outputs": [],
   "source": [
    "# summarize history for loss\n",
    "def plot_loss():\n",
    "    plt.plot(history.history['loss'])\n",
    "    plt.plot(history.history['val_loss'])\n",
    "    plt.title('model loss')\n",
    "    plt.ylabel('loss')\n",
    "    plt.xlabel('epoch')\n",
    "    plt.legend(['train', 'test'], loc='upper left')\n",
    "    # plt.savefig('loss1.png')\n",
    "    plt.show()\n",
    "\n",
    "# summarize history for acc\n",
    "def plot_acc():\n",
    "    plt.plot(history.history['acc'])\n",
    "    plt.plot(history.history['val_acc'])\n",
    "    plt.title('model accuracy')\n",
    "    plt.ylabel('accuracy')\n",
    "    plt.xlabel('epoch')\n",
    "    plt.legend(['train', 'test'], loc='upper left')\n",
    "    # plt.savefig('acc1.png')\n",
    "    plt.show()"
   ]
  },
  {
   "cell_type": "code",
   "execution_count": 7,
   "metadata": {},
   "outputs": [],
   "source": [
    "# df_model = pd.read_pickle(r\"F:\\courses\\bcr_data\\df_vec10000.pickle\")\n",
    "df_model = df_vec4000"
   ]
  },
  {
   "cell_type": "code",
   "execution_count": 8,
   "metadata": {},
   "outputs": [
    {
     "data": {
      "text/plain": [
       "['cancer',\n 'unigram',\n 'bigram',\n 'trigram',\n 'four_gram',\n 'five_gram',\n 'six_gram',\n 'trigram_skip2',\n 'trigram_skip3',\n 'unigram_cls',\n 'bigram_cls',\n 'trigram_cls',\n 'four_gram_cls',\n 'five_gram_cls',\n 'six_gram_cls',\n 'trigram_cls_skip2',\n 'trigram_cls_skip3']"
      ]
     },
     "execution_count": 8,
     "metadata": {},
     "output_type": "execute_result"
    }
   ],
   "source": [
    "list(df_model)"
   ]
  },
  {
   "cell_type": "code",
   "execution_count": 76,
   "metadata": {},
   "outputs": [
    {
     "name": "stderr",
     "output_type": "stream",
     "text": [
      "[2018-04-25 17:08:11,756]-[22022]-[140735658623872]-[etl]-[31]-[DEBUG]: 40545\n"
     ]
    },
    {
     "name": "stderr",
     "output_type": "stream",
     "text": [
      "[2018-04-25 17:08:11,914]-[22022]-[140735658623872]-[etl]-[37]-[DEBUG]: [0. 0. 0. 0. 0. 0. 0. 0. 0. 0. 0. 0. 1.]\n"
     ]
    }
   ],
   "source": [
    "# df_model[\"all_features\"] = df_model.iloc[:, 1]\n",
    "# for i in range(6, 7):\n",
    "#     df_model[\"all_features\"] = df_model[\"all_features\"] + df_model.iloc[:, i]\n",
    "\n",
    "features = ['cancer',\n",
    "            'unigram',\n",
    "            'bigram',\n",
    "            'trigram',\n",
    "            'four_gram',\n",
    "            'five_gram',\n",
    "            'six_gram',\n",
    "            'trigram_skip2',\n",
    "            'trigram_skip3',\n",
    "            'unigram_cls',\n",
    "            'bigram_cls',\n",
    "            'trigram_cls',\n",
    "            'four_gram_cls',\n",
    "            'five_gram_cls',\n",
    "            'six_gram_cls',\n",
    "            'trigram_cls_skip2',\n",
    "            'trigram_cls_skip3']\n",
    "\n",
    "df_model[\"all_features\"] = df_model.unigram + df_model.bigram + df_model.unigram_cls + df_model.bigram_cls + df_model.trigram + df_model.trigram_cls + df_model.four_gram + df_model.four_gram_cls + df_model.trigram_skip2 + df_model.trigram_skip3 + df_model.trigram_cls_skip2 + df_model.trigram_cls_skip3 + df_model.five_gram + df_model.six_gram + df_model.five_gram_cls + df_model.six_gram_cls\n",
    "\n",
    "# df_model[\"all_features\"] = df_model.trigram + df_model.trigram_cls + df_model.four_gram + df_model.four_gram_cls + df_model.trigram_skip2 + df_model.trigram_skip3 + df_model.trigram_cls_skip2 + df_model.trigram_cls_skip3 \n",
    "\n",
    "# df_model[\"all_features\"] = df_model.unigram + df_model.bigram + df_model.unigram_cls + df_model.bigram_cls\n",
    "\n",
    "X = np.array(list(df_model.all_features)).astype(float)\n",
    "Y = np.array(list(df_model.cancer))\n",
    "logger.debug(len(X[0]))\n",
    "\n",
    "encoder = LabelEncoder()\n",
    "encoder.fit(Y)\n",
    "encoder_Y = encoder.transform(Y)\n",
    "dummy_y = np_utils.to_categorical(encoder_Y)\n",
    "logger.debug(dummy_y[0])\n"
   ]
  },
  {
   "cell_type": "code",
   "execution_count": 79,
   "metadata": {
    "collapsed": true
   },
   "outputs": [
    {
     "name": "stdout",
     "output_type": "stream",
     "text": [
      "WARNING:tensorflow:From /Users/junhu/Google Drive/courses/eecs6895/bcr_project/venv/lib/python3.6/site-packages/tensorflow/python/util/deprecation.py:497: calling conv1d (from tensorflow.python.ops.nn_ops) with data_format=NHWC is deprecated and will be removed in a future version.\nInstructions for updating:\n`NHWC` for data_format is deprecated, use `NWC` instead\n"
     ]
    },
    {
     "name": "stdout",
     "output_type": "stream",
     "text": [
      "_________________________________________________________________\nLayer (type)                 Output Shape              Param #   \n=================================================================\nembedding_1 (Embedding)      (None, 40545, 50)         50000     \n_________________________________________________________________\ndropout_1 (Dropout)          (None, 40545, 50)         0         \n_________________________________________________________________\nconv1d_1 (Conv1D)            (None, 40543, 64)         9664      \n_________________________________________________________________\nglobal_max_pooling1d_1 (Glob (None, 64)                0         \n_________________________________________________________________\ndense_1 (Dense)              (None, 1000)              65000     \n_________________________________________________________________\ndropout_2 (Dropout)          (None, 1000)              0         \n_________________________________________________________________\ndense_2 (Dense)              (None, 13)                13013     \n=================================================================\nTotal params: 137,677\nTrainable params: 137,677\nNon-trainable params: 0\n_________________________________________________________________\n"
     ]
    },
    {
     "name": "stdout",
     "output_type": "stream",
     "text": [
      "Train on 2120 samples, validate on 2121 samples\nEpoch 1/300\n"
     ]
    },
    {
     "name": "stdout",
     "output_type": "stream",
     "text": [
      "\r 256/2120 [==>...........................] - ETA: 11:33 - loss: 2.6856 - acc: 0.0820"
     ]
    },
    {
     "name": "stdout",
     "output_type": "stream",
     "text": [
      "\b\b\b\b\b\b\b\b\b\b\b\b\b\b\b\b\b\b\b\b\b\b\b\b\b\b\b\b\b\b\b\b\b\b\b\b\b\b\b\b\b\b\b\b\b\b\b\b\b\b\b\b\b\b\b\b\b\b\b\b\b\b\b\b\b\b\b\b\b\b\b\b\b\b\b\b\b\b\b\b\b\b\b\b\r 512/2120 [======>.......................] - ETA: 9:54 - loss: 2.6826 - acc: 0.0918 "
     ]
    },
    {
     "name": "stdout",
     "output_type": "stream",
     "text": [
      "\b\b\b\b\b\b\b\b\b\b\b\b\b\b\b\b\b\b\b\b\b\b\b\b\b\b\b\b\b\b\b\b\b\b\b\b\b\b\b\b\b\b\b\b\b\b\b\b\b\b\b\b\b\b\b\b\b\b\b\b\b\b\b\b\b\b\b\b\b\b\b\b\b\b\b\b\b\b\b\b\b\b\b\r 768/2120 [=========>....................] - ETA: 8:09 - loss: 2.6767 - acc: 0.0938"
     ]
    },
    {
     "name": "stdout",
     "output_type": "stream",
     "text": [
      "\b\b\b\b\b\b\b\b\b\b\b\b\b\b\b\b\b\b\b\b\b\b\b\b\b\b\b\b\b\b\b\b\b\b\b\b\b\b\b\b\b\b\b\b\b\b\b\b\b\b\b\b\b\b\b\b\b\b\b\b\b\b\b\b\b\b\b\b\b\b\b\b\b\b\b\b\b\b\b\b\b\b\b\r1024/2120 [=============>................] - ETA: 6:30 - loss: 2.6759 - acc: 0.0898"
     ]
    },
    {
     "name": "stdout",
     "output_type": "stream",
     "text": [
      "\b\b\b\b\b\b\b\b\b\b\b\b\b\b\b\b\b\b\b\b\b\b\b\b\b\b\b\b\b\b\b\b\b\b\b\b\b\b\b\b\b\b\b\b\b\b\b\b\b\b\b\b\b\b\b\b\b\b\b\b\b\b\b\b\b\b\b\b\b\b\b\b\b\b\b\b\b\b\b\b\b\b\b\r1280/2120 [=================>............] - ETA: 4:54 - loss: 2.6719 - acc: 0.0914"
     ]
    },
    {
     "name": "stdout",
     "output_type": "stream",
     "text": [
      "\b\b\b\b\b\b\b\b\b\b\b\b\b\b\b\b\b\b\b\b\b\b\b\b\b\b\b\b\b\b\b\b\b\b\b\b\b\b\b\b\b\b\b\b\b\b\b\b\b\b\b\b\b\b\b\b\b\b\b\b\b\b\b\b\b\b\b\b\b\b\b\b\b\b\b\b\b\b\b\b\b\b\b\r1536/2120 [====================>.........] - ETA: 3:24 - loss: 2.6684 - acc: 0.0924"
     ]
    },
    {
     "name": "stdout",
     "output_type": "stream",
     "text": [
      "\b\b\b\b\b\b\b\b\b\b\b\b\b\b\b\b\b\b\b\b\b\b\b\b\b\b\b\b\b\b\b\b\b\b\b\b\b\b\b\b\b\b\b\b\b\b\b\b\b\b\b\b\b\b\b\b\b\b\b\b\b\b\b\b\b\b\b\b\b\b\b\b\b\b\b\b\b\b\b\b\b\b\b\r1792/2120 [========================>.....] - ETA: 1:54 - loss: 2.6655 - acc: 0.0926"
     ]
    },
    {
     "name": "stdout",
     "output_type": "stream",
     "text": [
      "\b\b\b\b\b\b\b\b\b\b\b\b\b\b\b\b\b\b\b\b\b\b\b\b\b\b\b\b\b\b\b\b\b\b\b\b\b\b\b\b\b\b\b\b\b\b\b\b\b\b\b\b\b\b\b\b\b\b\b\b\b\b\b\b\b\b\b\b\b\b\b\b\b\b\b\b\b\b\b\b\b\b\b\r2048/2120 [===========================>..] - ETA: 25s - loss: 2.6625 - acc: 0.0933 "
     ]
    },
    {
     "name": "stdout",
     "output_type": "stream",
     "text": [
      "\b\b\b\b\b\b\b\b\b\b\b\b\b\b\b\b\b\b\b\b\b\b\b\b\b\b\b\b\b\b\b\b\b\b\b\b\b\b\b\b\b\b\b\b\b\b\b\b\b\b\b\b\b\b\b\b\b\b\b\b\b\b\b\b\b\b\b\b\b\b\b\b\b\b\b\b\b\b\b\b\b\b\r2120/2120 [==============================] - 874s 412ms/step - loss: 2.6615 - acc: 0.0948 - val_loss: 2.6534 - val_acc: 0.0830\n"
     ]
    },
    {
     "name": "stdout",
     "output_type": "stream",
     "text": [
      "Epoch 2/300\n"
     ]
    },
    {
     "name": "stdout",
     "output_type": "stream",
     "text": [
      "\r 256/2120 [==>...........................] - ETA: 10:58 - loss: 2.6275 - acc: 0.1211"
     ]
    },
    {
     "name": "stdout",
     "output_type": "stream",
     "text": [
      "\b\b\b\b\b\b\b\b\b\b\b\b\b\b\b\b\b\b\b\b\b\b\b\b\b\b\b\b\b\b\b\b\b\b\b\b\b\b\b\b\b\b\b\b\b\b\b\b\b\b\b\b\b\b\b\b\b\b\b\b\b\b\b\b\b\b\b\b\b\b\b\b\b\b\b\b\b\b\b\b\b\b\b\b\r 512/2120 [======>.......................] - ETA: 9:24 - loss: 2.6254 - acc: 0.1016 "
     ]
    },
    {
     "name": "stdout",
     "output_type": "stream",
     "text": [
      "\b\b\b\b\b\b\b\b\b\b\b\b\b\b\b\b\b\b\b\b\b\b\b\b\b\b\b\b\b\b\b\b\b\b\b\b\b\b\b\b\b\b\b\b\b\b\b\b\b\b\b\b\b\b\b\b\b\b\b\b\b\b\b\b\b\b\b\b\b\b\b\b\b\b\b\b\b\b\b\b\b\b\b\r 768/2120 [=========>....................] - ETA: 7:55 - loss: 2.6272 - acc: 0.0990"
     ]
    },
    {
     "name": "stdout",
     "output_type": "stream",
     "text": [
      "\b\b\b\b\b\b\b\b\b\b\b\b\b\b\b\b\b\b\b\b\b\b\b\b\b\b\b\b\b\b\b\b\b\b\b\b\b\b\b\b\b\b\b\b\b\b\b\b\b\b\b\b\b\b\b\b\b\b\b\b\b\b\b\b\b\b\b\b\b\b\b\b\b\b\b\b\b\b\b\b\b\b\b\r1024/2120 [=============>................] - ETA: 6:25 - loss: 2.6285 - acc: 0.0947"
     ]
    },
    {
     "name": "stdout",
     "output_type": "stream",
     "text": [
      "\b\b\b\b\b\b\b\b\b\b\b\b\b\b\b\b\b\b\b\b\b\b\b\b\b\b\b\b\b\b\b\b\b\b\b\b\b\b\b\b\b\b\b\b\b\b\b\b\b\b\b\b\b\b\b\b\b\b\b\b\b\b\b\b\b\b\b\b\b\b\b\b\b\b\b\b\b\b\b\b\b\b\b\r1280/2120 [=================>............] - ETA: 4:50 - loss: 2.6270 - acc: 0.0977"
     ]
    },
    {
     "name": "stdout",
     "output_type": "stream",
     "text": [
      "\b\b\b\b\b\b\b\b\b\b\b\b\b\b\b\b\b\b\b\b\b\b\b\b\b\b\b\b\b\b\b\b\b\b\b\b\b\b\b\b\b\b\b\b\b\b\b\b\b\b\b\b\b\b\b\b\b\b\b\b\b\b\b\b\b\b\b\b\b\b\b\b\b\b\b\b\b\b\b\b\b\b\b\r1536/2120 [====================>.........] - ETA: 3:17 - loss: 2.6257 - acc: 0.0970"
     ]
    },
    {
     "name": "stdout",
     "output_type": "stream",
     "text": [
      "\b\b\b\b\b\b\b\b\b\b\b\b\b\b\b\b\b\b\b\b\b\b\b\b\b\b\b\b\b\b\b\b\b\b\b\b\b\b\b\b\b\b\b\b\b\b\b\b\b\b\b\b\b\b\b\b\b\b\b\b\b\b\b\b\b\b\b\b\b\b\b\b\b\b\b\b\b\b\b\b\b\b\b\r1792/2120 [========================>.....] - ETA: 1:51 - loss: 2.6227 - acc: 0.0960"
     ]
    },
    {
     "name": "stdout",
     "output_type": "stream",
     "text": [
      "\b\b\b\b\b\b\b\b\b\b\b\b\b\b\b\b\b\b\b\b\b\b\b\b\b\b\b\b\b\b\b\b\b\b\b\b\b\b\b\b\b\b\b\b\b\b\b\b\b\b\b\b\b\b\b\b\b\b\b\b\b\b\b\b\b\b\b\b\b\b\b\b\b\b\b\b\b\b\b\b\b\b\b\r2048/2120 [===========================>..] - ETA: 24s - loss: 2.6254 - acc: 0.0947 "
     ]
    },
    {
     "name": "stdout",
     "output_type": "stream",
     "text": [
      "\b\b\b\b\b\b\b\b\b\b\b\b\b\b\b\b\b\b\b\b\b\b\b\b\b\b\b\b\b\b\b\b\b\b\b\b\b\b\b\b\b\b\b\b\b\b\b\b\b\b\b\b\b\b\b\b\b\b\b\b\b\b\b\b\b\b\b\b\b\b\b\b\b\b\b\b\b\b\b\b\b\b\r2120/2120 [==============================] - 859s 405ms/step - loss: 2.6245 - acc: 0.0948 - val_loss: 2.6299 - val_acc: 0.1033\n"
     ]
    },
    {
     "name": "stdout",
     "output_type": "stream",
     "text": [
      "Epoch 3/300\n"
     ]
    }
   ],
   "source": [
    "seed = 23\n",
    "np.random.seed(23)\n",
    "dim = len(X[0])\n",
    "\n",
    "# , kernel_regularizer=regularizers.l2(0.0001), activity_regularizer=regularizers.l1(0.0001)\n",
    "K.clear_session()\n",
    "model = Sequential()\n",
    "model.add(Embedding(1000,\n",
    "                        50, #!!!!!!!!!!!!!!!!!!!!!!!\n",
    "                        input_length=dim))\n",
    "# model.add(Dense(2000, input_dim=dim, activation=\"relu\"))\n",
    "model.add(Dropout(0.5))\n",
    "model.add(Conv1D(64,\n",
    "                     3,\n",
    "                     padding='valid',\n",
    "                     activation='relu',\n",
    "                     strides=1))\n",
    "model.add(GlobalMaxPooling1D())\n",
    "model.add(Dense(1000, activation=\"relu\", kernel_regularizer=regularizers.l2(0.001)))\n",
    "model.add(Dropout(0.5))\n",
    "model.add(Dense(13, activation=\"softmax\"))\n",
    "Adam = optimizers.adam(lr=0.001)\n",
    "model.compile(loss=\"categorical_crossentropy\", optimizer=Adam, metrics=[\"accuracy\"])\n",
    "# plot_model(model, to_file=\"/model/model.png\", show_shapes=True, show_layer_names=True)\n",
    "model.summary()\n",
    "early_stop = EarlyStopping(monitor='val_loss', patience=10, verbose=1)\n",
    "history = model.fit(X, dummy_y, validation_split=0.5, epochs=300, batch_size=256, callbacks=[early_stop])"
   ]
  },
  {
   "cell_type": "code",
   "execution_count": 64,
   "metadata": {},
   "outputs": [
    {
     "data": {
      "image/png": "[encoded data removed]",
      "text/plain": [
       "<Figure size 432x288 with 1 Axes>"
      ]
     },
     "metadata": {},
     "output_type": "display_data"
    }
   ],
   "source": [
    "plot_loss()"
   ]
  },
  {
   "cell_type": "code",
   "execution_count": 65,
   "metadata": {},
   "outputs": [
    {
     "data": {
      "image/png": "[encoded data removed]",
      "text/plain": [
       "<Figure size 432x288 with 1 Axes>"
      ]
     },
     "metadata": {},
     "output_type": "display_data"
    }
   ],
   "source": [
    "plot_acc()"
   ]
  },
  {
   "cell_type": "code",
   "execution_count": 75,
   "metadata": {},
   "outputs": [
    {
     "data": {
      "image/png": "[encoded data removed]",
      "text/plain": [
       "<Figure size 432x288 with 1 Axes>"
      ]
     },
     "metadata": {},
     "output_type": "display_data"
    },
    {
     "data": {
      "text/plain": [
       "<Figure size 432x288 with 0 Axes>"
      ]
     },
     "execution_count": 0,
     "metadata": {},
     "output_type": "execute_result"
    }
   ],
   "source": [
    "plt.plot(history.history['loss'])\n",
    "plt.plot(history.history['val_loss'])\n",
    "plt.title('model loss')\n",
    "plt.ylabel('loss')\n",
    "plt.xlabel('epoch')\n",
    "plt.legend(['train', 'test'], loc='upper left')\n",
    "fig = plt.figure()\n",
    "fig.savefig('loss1.png')\n",
    "# plt.show()\n",
    "\n",
    "\n"
   ]
  },
  {
   "cell_type": "code",
   "execution_count": 71,
   "metadata": {},
   "outputs": [
    {
     "data": {
      "image/png": "[encoded data removed]",
      "text/plain": [
       "<Figure size 432x288 with 1 Axes>"
      ]
     },
     "metadata": {},
     "output_type": "display_data"
    },
    {
     "data": {
      "text/plain": [
       "<Figure size 432x288 with 0 Axes>"
      ]
     },
     "execution_count": 0,
     "metadata": {},
     "output_type": "execute_result"
    }
   ],
   "source": [
    "plt.plot(history.history['acc'])\n",
    "plt.plot(history.history['val_acc'])\n",
    "plt.title('model accuracy')\n",
    "plt.ylabel('accuracy')\n",
    "plt.xlabel('epoch')\n",
    "plt.legend(['train', 'test'], loc='upper left')\n",
    "fig = plt.figure()\n",
    "fig.savefig('acc1.png')\n",
    "# plt.show()"
   ]
  },
  {
   "cell_type": "code",
   "execution_count": null,
   "metadata": {},
   "outputs": [],
   "source": []
  }
 ],
 "metadata": {
  "kernelspec": {
   "display_name": "Python 2",
   "language": "python",
   "name": "python2"
  },
  "language_info": {
   "codemirror_mode": {
    "name": "ipython",
    "version": 2
   },
   "file_extension": ".py",
   "mimetype": "text/x-python",
   "name": "python",
   "nbconvert_exporter": "python",
   "pygments_lexer": "ipython2",
   "version": "2.7.6"
  }
 },
 "nbformat": 4,
 "nbformat_minor": 0
}
