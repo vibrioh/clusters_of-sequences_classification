{
 "cells": [
  {
   "cell_type": "code",
   "execution_count": 1,
   "metadata": {
    "collapsed": true
   },
   "outputs": [
    {
     "name": "stderr",
     "output_type": "stream",
     "text": [
      "Using TensorFlow backend.\n"
     ]
    }
   ],
   "source": [
    "#! /usr/bin/python3\n",
    "\n",
    "__author__ = \"Jun Hu <jh3846@columbia.edu\"\n",
    "__date__ = \"Apr 10, 2018\"\n",
    "\n",
    "import logging\n",
    "\n",
    "logger = logging.getLogger('etl')\n",
    "logger.setLevel(logging.DEBUG)\n",
    "\n",
    "ch = logging.StreamHandler()\n",
    "ch.setLevel(logging.DEBUG)\n",
    "\n",
    "formatter_c = logging.Formatter('[%(asctime)s]-[%(process)d]-[%(thread)d]-[%(name)s]-[%(lineno)s]-[%(levelname)s]: %(message)s')\n",
    "ch.setFormatter(formatter_c)\n",
    "\n",
    "logger.addHandler(ch)\n",
    "\n",
    "import pandas as pd\n",
    "import time\n",
    "\n",
    "from sklearn.feature_extraction.text import TfidfVectorizer\n",
    "\n",
    "import numpy as np\n",
    "\n",
    "from keras.models import Sequential\n",
    "import keras.backend as K\n",
    "from keras.layers import Dense\n",
    "from keras.utils import np_utils\n",
    "from sklearn.preprocessing import LabelEncoder\n",
    "from keras.layers import Dropout\n",
    "from keras.callbacks import EarlyStopping\n",
    "from keras.utils.vis_utils import plot_model\n",
    "\n",
    "import matplotlib.pyplot as plt\n",
    "%matplotlib inline"
   ]
  },
  {
   "cell_type": "code",
   "execution_count": 2,
   "metadata": {},
   "outputs": [],
   "source": [
    "df1 = pd.read_pickle(r\"F:\\courses\\bcr_data\\d1.pickle\")\n",
    "df2 = pd.read_pickle(r\"F:\\courses\\bcr_data\\d2.pickle\")\n",
    "df3 = pd.read_pickle(r\"F:\\courses\\bcr_data\\d3.pickle\")\n",
    "df4 = pd.read_pickle(r\"F:\\courses\\bcr_data\\d4.pickle\")\n",
    "df5 = pd.read_pickle(r\"F:\\courses\\bcr_data\\d5.pickle\")"
   ]
  },
  {
   "cell_type": "code",
   "execution_count": 4,
   "metadata": {},
   "outputs": [
    {
     "name": "stderr",
     "output_type": "stream",
     "text": [
      "[2018-04-24 19:50:20,593]-[5244]-[8988]-[etl]-[2]-[DEBUG]: (4241, 17)\n"
     ]
    },
    {
     "data": {
      "text/html": [
       "<div>\n",
       "<style scoped>\n",
       "    .dataframe tbody tr th:only-of-type {\n",
       "        vertical-align: middle;\n",
       "    }\n",
       "\n",
       "    .dataframe tbody tr th {\n",
       "        vertical-align: top;\n",
       "    }\n",
       "\n",
       "    .dataframe thead th {\n",
       "        text-align: right;\n",
       "    }\n",
       "</style>\n",
       "<table border=\"1\" class=\"dataframe\">\n",
       "  <thead>\n",
       "    <tr style=\"text-align: right;\">\n",
       "      <th></th>\n",
       "      <th>cancer</th>\n",
       "      <th>unigram</th>\n",
       "      <th>bigram</th>\n",
       "      <th>trigram</th>\n",
       "      <th>four_gram</th>\n",
       "      <th>five_gram</th>\n",
       "      <th>six_gram</th>\n",
       "      <th>trigram_skip2</th>\n",
       "      <th>trigram_skip3</th>\n",
       "      <th>unigram_cls</th>\n",
       "      <th>bigram_cls</th>\n",
       "      <th>trigram_cls</th>\n",
       "      <th>four_gram_cls</th>\n",
       "      <th>five_gram_cls</th>\n",
       "      <th>six_gram_cls</th>\n",
       "      <th>trigram_cls_skip2</th>\n",
       "      <th>trigram_cls_skip3</th>\n",
       "    </tr>\n",
       "  </thead>\n",
       "  <tbody>\n",
       "    <tr>\n",
       "      <th>0</th>\n",
       "      <td>THCA</td>\n",
       "      <td>D Y W G Q G R S D D T A V Y F C G D S P P F F ...</td>\n",
       "      <td>DY YW WG GQ QG RS SD DD DT TA AV VY YF FC GD D...</td>\n",
       "      <td>DYW YWG WGQ GQG RSD SDD DDT DTA TAV AVY VYF YF...</td>\n",
       "      <td>DYWG YWGQ WGQG RSDD SDDT DDTA DTAV TAVY AVYF V...</td>\n",
       "      <td>DYWGQ YWGQG RSDDT SDDTA DDTAV DTAVY TAVYF AVYF...</td>\n",
       "      <td>DYWGQG RSDDTA SDDTAV DDTAVY DTAVYF TAVYFC GDSP...</td>\n",
       "      <td>DWQ YGG RDT SDA DTV DAY TVF AYC GSP DPF SPF PF...</td>\n",
       "      <td>RTF SAC GPY DFW SFG PDQ PYG RTF SAC DVA DYR TF...</td>\n",
       "      <td>4 Y W G 5 G 6 3 4 4 3 1 1 Y F 2 G 4 3 P P F F ...</td>\n",
       "      <td>4Y YW WG G5 5G 63 34 44 43 31 11 1Y YF F2 G4 4...</td>\n",
       "      <td>4YW YWG WG5 G5G 634 344 443 431 311 11Y 1YF YF...</td>\n",
       "      <td>4YWG YWG5 WG5G 6344 3443 4431 4311 311Y 11YF 1...</td>\n",
       "      <td>4YWG5 YWG5G 63443 34431 44311 4311Y 311YF 11YF...</td>\n",
       "      <td>4YWG5G 634431 344311 44311Y 4311YF 311YF2 G43P...</td>\n",
       "      <td>4W5 YGG 643 341 431 41Y 31F 1Y2 G3P 4PF 3PF PF...</td>\n",
       "      <td>63F 312 GPY 4FW 3FG P45 PYG 63F 312 411 4Y6 3F...</td>\n",
       "    </tr>\n",
       "    <tr>\n",
       "      <th>1</th>\n",
       "      <td>LUSC</td>\n",
       "      <td>Y Y C A R G V V Y Y C A R V G Y Y Y D S S D Y ...</td>\n",
       "      <td>YY YC CA AR RG GV VV YY YC CA AR RV VG GY YY Y...</td>\n",
       "      <td>YYC YCA CAR ARG RGV GVV YYC YCA CAR ARV RVG VG...</td>\n",
       "      <td>YYCA YCAR CARG ARGV RGVV YYCA YCAR CARV ARVG R...</td>\n",
       "      <td>YYCAR YCARG CARGV ARGVV YYCAR YCARV CARVG ARVG...</td>\n",
       "      <td>YYCARG YCARGV CARGVV YYCARV YCARVG CARVGY ARVG...</td>\n",
       "      <td>YCR YAG CRV AGV YCR YAV CRG AVY RGY VYY GYD YY...</td>\n",
       "      <td>YRY YVY CGD AYS RYS VYD GDY YSP YSM YSL CLR AW...</td>\n",
       "      <td>Y Y 2 1 6 G 1 1 Y Y 2 1 6 1 G Y Y Y 4 3 3 4 Y ...</td>\n",
       "      <td>YY Y2 21 16 6G G1 11 YY Y2 21 16 61 1G GY YY Y...</td>\n",
       "      <td>YY2 Y21 216 16G 6G1 G11 YY2 Y21 216 161 61G 1G...</td>\n",
       "      <td>YY21 Y216 216G 16G1 6G11 YY21 Y216 2161 161G 6...</td>\n",
       "      <td>YY216 Y216G 216G1 16G11 YY216 Y2161 2161G 161G...</td>\n",
       "      <td>YY216G Y216G1 216G11 YY2161 Y2161G 2161GY 161G...</td>\n",
       "      <td>Y26 Y1G 261 1G1 Y26 Y11 26G 11Y 6GY 1YY GY4 YY...</td>\n",
       "      <td>Y6Y Y1Y 2G4 1Y3 6Y3 1Y4 G4Y Y3P Y32 Y31 216 1W...</td>\n",
       "    </tr>\n",
       "    <tr>\n",
       "      <th>2</th>\n",
       "      <td>OV</td>\n",
       "      <td>R E H S S S S W Y F D Y W G Q G Y Y C A R H E ...</td>\n",
       "      <td>RE EH HS SS SS SS SW WY YF FD DY YW WG GQ QG Y...</td>\n",
       "      <td>REH EHS HSS SSS SSS SSW SWY WYF YFD FDY DYW YW...</td>\n",
       "      <td>REHS EHSS HSSS SSSS SSSW SSWY SWYF WYFD YFDY F...</td>\n",
       "      <td>REHSS EHSSS HSSSS SSSSW SSSWY SSWYF SWYFD WYFD...</td>\n",
       "      <td>REHSSS EHSSSS HSSSSW SSSSWY SSSWYF SSWYFD SWYF...</td>\n",
       "      <td>RHS ESS HSS SSW SSY SWF SYD WFY YDW FYG DWQ YG...</td>\n",
       "      <td>RSY ESF HSD SWY SYW SFG SDQ WYG YRG YHQ CES AD...</td>\n",
       "      <td>6 4 6 3 3 3 3 W Y F 4 Y W G 5 G Y Y 2 1 6 6 4 ...</td>\n",
       "      <td>64 46 63 33 33 33 3W WY YF F4 4Y YW WG G5 5G Y...</td>\n",
       "      <td>646 463 633 333 333 33W 3WY WYF YF4 F4Y 4YW YW...</td>\n",
       "      <td>6463 4633 6333 3333 333W 33WY 3WYF WYF4 YF4Y F...</td>\n",
       "      <td>64633 46333 63333 3333W 333WY 33WYF 3WYF4 WYF4...</td>\n",
       "      <td>646333 463333 63333W 3333WY 333WYF 33WYF4 3WYF...</td>\n",
       "      <td>663 433 633 33W 33Y 3WF 3Y4 WFY Y4W FYG 4W5 YG...</td>\n",
       "      <td>63Y 43F 634 3WY 3YW 3FG 345 WYG Y6G Y65 243 14...</td>\n",
       "    </tr>\n",
       "    <tr>\n",
       "      <th>3</th>\n",
       "      <td>COAD</td>\n",
       "      <td>D Y Y F D Y W G Q G Y Y C A R E P N G P A Y Y ...</td>\n",
       "      <td>DY YY YF FD DY YW WG GQ QG YY YC CA AR RE EP P...</td>\n",
       "      <td>DYY YYF YFD FDY DYW YWG WGQ GQG YYC YCA CAR AR...</td>\n",
       "      <td>DYYF YYFD YFDY FDYW DYWG YWGQ WGQG YYCA YCAR C...</td>\n",
       "      <td>DYYFD YYFDY YFDYW FDYWG DYWGQ YWGQG YYCAR YCAR...</td>\n",
       "      <td>DYYFDY YYFDYW YFDYWG FDYWGQ DYWGQG YYCARE YCAR...</td>\n",
       "      <td>DYD YFY YDW FYG DWQ YGG YCR YAE CRP AEN RPG EN...</td>\n",
       "      <td>DDQ YYG YRG YEP AYV YGW YMG YDQ YVG DYK TYE AY...</td>\n",
       "      <td>4 Y Y F 4 Y W G 5 G Y Y 2 1 6 4 P 5 G P 1 Y Y ...</td>\n",
       "      <td>4Y YY YF F4 4Y YW WG G5 5G YY Y2 21 16 64 4P P...</td>\n",
       "      <td>4YY YYF YF4 F4Y 4YW YWG WG5 G5G YY2 Y21 216 16...</td>\n",
       "      <td>4YYF YYF4 YF4Y F4YW 4YWG YWG5 WG5G YY21 Y216 2...</td>\n",
       "      <td>4YYF4 YYF4Y YF4YW F4YWG 4YWG5 YWG5G YY216 Y216...</td>\n",
       "      <td>4YYF4Y YYF4YW YF4YWG F4YWG5 4YWG5G YY2164 Y216...</td>\n",
       "      <td>4Y4 YFY Y4W FYG 4W5 YGG Y26 Y14 26P 145 6PG 45...</td>\n",
       "      <td>445 YYG Y6G Y4P 1Y1 YGW Y2G Y45 Y1G 4Y6 3Y4 1Y...</td>\n",
       "    </tr>\n",
       "    <tr>\n",
       "      <th>4</th>\n",
       "      <td>THCA</td>\n",
       "      <td>Y S S G S T L D Y W G Q G Y Y Y G M D V W G Q ...</td>\n",
       "      <td>YS SS SG GS ST TL LD DY YW WG GQ QG YY YY YG G...</td>\n",
       "      <td>YSS SSG SGS GST STL TLD LDY DYW YWG WGQ GQG YY...</td>\n",
       "      <td>YSSG SSGS SGST GSTL STLD TLDY LDYW DYWG YWGQ W...</td>\n",
       "      <td>YSSGS SSGST SGSTL GSTLD STLDY TLDYW LDYWG DYWG...</td>\n",
       "      <td>YSSGST SSGSTL SGSTLD GSTLDY STLDYW TLDYWG LDYW...</td>\n",
       "      <td>YSS SGT SSL GTD SLY TDW LYG DWQ YGG YYM YGD YM...</td>\n",
       "      <td>YSY STW SLG GDQ SYG YMG YDQ YVG EYV TGW NMG YD...</td>\n",
       "      <td>Y 3 3 G 3 3 1 4 Y W G 5 G Y Y Y G 2 4 1 W G 5 ...</td>\n",
       "      <td>Y3 33 3G G3 33 31 14 4Y YW WG G5 5G YY YY YG G...</td>\n",
       "      <td>Y33 33G 3G3 G33 331 314 14Y 4YW YWG WG5 G5G YY...</td>\n",
       "      <td>Y33G 33G3 3G33 G331 3314 314Y 14YW 4YWG YWG5 W...</td>\n",
       "      <td>Y33G3 33G33 3G331 G3314 3314Y 314YW 14YWG 4YWG...</td>\n",
       "      <td>Y33G33 33G331 3G3314 G3314Y 3314YW 314YWG 14YW...</td>\n",
       "      <td>Y33 3G3 331 G34 31Y 34W 1YG 4W5 YGG YY2 YG4 Y2...</td>\n",
       "      <td>Y3Y 33W 31G G45 3YG Y2G Y45 Y1G 4Y1 3GW 52G Y4...</td>\n",
       "    </tr>\n",
       "  </tbody>\n",
       "</table>\n",
       "</div>"
      ],
      "text/plain": [
       "<div>\n",
       "<style scoped>\n",
       "    .dataframe tbody tr th:only-of-type {\n",
       "        vertical-align: middle;\n",
       "    }\n",
       "\n",
       "    .dataframe tbody tr th {\n",
       "        vertical-align: top;\n",
       "    }\n",
       "\n",
       "    .dataframe thead th {\n",
       "        text-align: right;\n",
       "    }\n",
       "</style>\n",
       "<table border=\"1\" class=\"dataframe\">\n",
       "  <thead>\n",
       "    <tr style=\"text-align: right;\">\n",
       "      <th></th>\n",
       "      <th>cancer</th>\n",
       "      <th>unigram</th>\n",
       "      <th>bigram</th>\n",
       "      <th>trigram</th>\n",
       "      <th>four_gram</th>\n",
       "      <th>five_gram</th>\n",
       "      <th>six_gram</th>\n",
       "      <th>trigram_skip2</th>\n",
       "      <th>trigram_skip3</th>\n",
       "      <th>unigram_cls</th>\n",
       "      <th>bigram_cls</th>\n",
       "      <th>trigram_cls</th>\n",
       "      <th>four_gram_cls</th>\n",
       "      <th>five_gram_cls</th>\n",
       "      <th>six_gram_cls</th>\n",
       "      <th>trigram_cls_skip2</th>\n",
       "      <th>trigram_cls_skip3</th>\n",
       "    </tr>\n",
       "  </thead>\n",
       "  <tbody>\n",
       "    <tr>\n",
       "      <th>0</th>\n",
       "      <td>THCA</td>\n",
       "      <td>D Y W G Q G R S D D T A V Y F C G D S P P F F ...</td>\n",
       "      <td>DY YW WG GQ QG RS SD DD DT TA AV VY YF FC GD D...</td>\n",
       "      <td>DYW YWG WGQ GQG RSD SDD DDT DTA TAV AVY VYF YF...</td>\n",
       "      <td>DYWG YWGQ WGQG RSDD SDDT DDTA DTAV TAVY AVYF V...</td>\n",
       "      <td>DYWGQ YWGQG RSDDT SDDTA DDTAV DTAVY TAVYF AVYF...</td>\n",
       "      <td>DYWGQG RSDDTA SDDTAV DDTAVY DTAVYF TAVYFC GDSP...</td>\n",
       "      <td>DWQ YGG RDT SDA DTV DAY TVF AYC GSP DPF SPF PF...</td>\n",
       "      <td>RTF SAC GPY DFW SFG PDQ PYG RTF SAC DVA DYR TF...</td>\n",
       "      <td>4 Y W G 5 G 6 3 4 4 3 1 1 Y F 2 G 4 3 P P F F ...</td>\n",
       "      <td>4Y YW WG G5 5G 63 34 44 43 31 11 1Y YF F2 G4 4...</td>\n",
       "      <td>4YW YWG WG5 G5G 634 344 443 431 311 11Y 1YF YF...</td>\n",
       "      <td>4YWG YWG5 WG5G 6344 3443 4431 4311 311Y 11YF 1...</td>\n",
       "      <td>4YWG5 YWG5G 63443 34431 44311 4311Y 311YF 11YF...</td>\n",
       "      <td>4YWG5G 634431 344311 44311Y 4311YF 311YF2 G43P...</td>\n",
       "      <td>4W5 YGG 643 341 431 41Y 31F 1Y2 G3P 4PF 3PF PF...</td>\n",
       "      <td>63F 312 GPY 4FW 3FG P45 PYG 63F 312 411 4Y6 3F...</td>\n",
       "    </tr>\n",
       "    <tr>\n",
       "      <th>1</th>\n",
       "      <td>LUSC</td>\n",
       "      <td>Y Y C A R G V V Y Y C A R V G Y Y Y D S S D Y ...</td>\n",
       "      <td>YY YC CA AR RG GV VV YY YC CA AR RV VG GY YY Y...</td>\n",
       "      <td>YYC YCA CAR ARG RGV GVV YYC YCA CAR ARV RVG VG...</td>\n",
       "      <td>YYCA YCAR CARG ARGV RGVV YYCA YCAR CARV ARVG R...</td>\n",
       "      <td>YYCAR YCARG CARGV ARGVV YYCAR YCARV CARVG ARVG...</td>\n",
       "      <td>YYCARG YCARGV CARGVV YYCARV YCARVG CARVGY ARVG...</td>\n",
       "      <td>YCR YAG CRV AGV YCR YAV CRG AVY RGY VYY GYD YY...</td>\n",
       "      <td>YRY YVY CGD AYS RYS VYD GDY YSP YSM YSL CLR AW...</td>\n",
       "      <td>Y Y 2 1 6 G 1 1 Y Y 2 1 6 1 G Y Y Y 4 3 3 4 Y ...</td>\n",
       "      <td>YY Y2 21 16 6G G1 11 YY Y2 21 16 61 1G GY YY Y...</td>\n",
       "      <td>YY2 Y21 216 16G 6G1 G11 YY2 Y21 216 161 61G 1G...</td>\n",
       "      <td>YY21 Y216 216G 16G1 6G11 YY21 Y216 2161 161G 6...</td>\n",
       "      <td>YY216 Y216G 216G1 16G11 YY216 Y2161 2161G 161G...</td>\n",
       "      <td>YY216G Y216G1 216G11 YY2161 Y2161G 2161GY 161G...</td>\n",
       "      <td>Y26 Y1G 261 1G1 Y26 Y11 26G 11Y 6GY 1YY GY4 YY...</td>\n",
       "      <td>Y6Y Y1Y 2G4 1Y3 6Y3 1Y4 G4Y Y3P Y32 Y31 216 1W...</td>\n",
       "    </tr>\n",
       "    <tr>\n",
       "      <th>2</th>\n",
       "      <td>OV</td>\n",
       "      <td>R E H S S S S W Y F D Y W G Q G Y Y C A R H E ...</td>\n",
       "      <td>RE EH HS SS SS SS SW WY YF FD DY YW WG GQ QG Y...</td>\n",
       "      <td>REH EHS HSS SSS SSS SSW SWY WYF YFD FDY DYW YW...</td>\n",
       "      <td>REHS EHSS HSSS SSSS SSSW SSWY SWYF WYFD YFDY F...</td>\n",
       "      <td>REHSS EHSSS HSSSS SSSSW SSSWY SSWYF SWYFD WYFD...</td>\n",
       "      <td>REHSSS EHSSSS HSSSSW SSSSWY SSSWYF SSWYFD SWYF...</td>\n",
       "      <td>RHS ESS HSS SSW SSY SWF SYD WFY YDW FYG DWQ YG...</td>\n",
       "      <td>RSY ESF HSD SWY SYW SFG SDQ WYG YRG YHQ CES AD...</td>\n",
       "      <td>6 4 6 3 3 3 3 W Y F 4 Y W G 5 G Y Y 2 1 6 6 4 ...</td>\n",
       "      <td>64 46 63 33 33 33 3W WY YF F4 4Y YW WG G5 5G Y...</td>\n",
       "      <td>646 463 633 333 333 33W 3WY WYF YF4 F4Y 4YW YW...</td>\n",
       "      <td>6463 4633 6333 3333 333W 33WY 3WYF WYF4 YF4Y F...</td>\n",
       "      <td>64633 46333 63333 3333W 333WY 33WYF 3WYF4 WYF4...</td>\n",
       "      <td>646333 463333 63333W 3333WY 333WYF 33WYF4 3WYF...</td>\n",
       "      <td>663 433 633 33W 33Y 3WF 3Y4 WFY Y4W FYG 4W5 YG...</td>\n",
       "      <td>63Y 43F 634 3WY 3YW 3FG 345 WYG Y6G Y65 243 14...</td>\n",
       "    </tr>\n",
       "    <tr>\n",
       "      <th>3</th>\n",
       "      <td>COAD</td>\n",
       "      <td>D Y Y F D Y W G Q G Y Y C A R E P N G P A Y Y ...</td>\n",
       "      <td>DY YY YF FD DY YW WG GQ QG YY YC CA AR RE EP P...</td>\n",
       "      <td>DYY YYF YFD FDY DYW YWG WGQ GQG YYC YCA CAR AR...</td>\n",
       "      <td>DYYF YYFD YFDY FDYW DYWG YWGQ WGQG YYCA YCAR C...</td>\n",
       "      <td>DYYFD YYFDY YFDYW FDYWG DYWGQ YWGQG YYCAR YCAR...</td>\n",
       "      <td>DYYFDY YYFDYW YFDYWG FDYWGQ DYWGQG YYCARE YCAR...</td>\n",
       "      <td>DYD YFY YDW FYG DWQ YGG YCR YAE CRP AEN RPG EN...</td>\n",
       "      <td>DDQ YYG YRG YEP AYV YGW YMG YDQ YVG DYK TYE AY...</td>\n",
       "      <td>4 Y Y F 4 Y W G 5 G Y Y 2 1 6 4 P 5 G P 1 Y Y ...</td>\n",
       "      <td>4Y YY YF F4 4Y YW WG G5 5G YY Y2 21 16 64 4P P...</td>\n",
       "      <td>4YY YYF YF4 F4Y 4YW YWG WG5 G5G YY2 Y21 216 16...</td>\n",
       "      <td>4YYF YYF4 YF4Y F4YW 4YWG YWG5 WG5G YY21 Y216 2...</td>\n",
       "      <td>4YYF4 YYF4Y YF4YW F4YWG 4YWG5 YWG5G YY216 Y216...</td>\n",
       "      <td>4YYF4Y YYF4YW YF4YWG F4YWG5 4YWG5G YY2164 Y216...</td>\n",
       "      <td>4Y4 YFY Y4W FYG 4W5 YGG Y26 Y14 26P 145 6PG 45...</td>\n",
       "      <td>445 YYG Y6G Y4P 1Y1 YGW Y2G Y45 Y1G 4Y6 3Y4 1Y...</td>\n",
       "    </tr>\n",
       "    <tr>\n",
       "      <th>4</th>\n",
       "      <td>THCA</td>\n",
       "      <td>Y S S G S T L D Y W G Q G Y Y Y G M D V W G Q ...</td>\n",
       "      <td>YS SS SG GS ST TL LD DY YW WG GQ QG YY YY YG G...</td>\n",
       "      <td>YSS SSG SGS GST STL TLD LDY DYW YWG WGQ GQG YY...</td>\n",
       "      <td>YSSG SSGS SGST GSTL STLD TLDY LDYW DYWG YWGQ W...</td>\n",
       "      <td>YSSGS SSGST SGSTL GSTLD STLDY TLDYW LDYWG DYWG...</td>\n",
       "      <td>YSSGST SSGSTL SGSTLD GSTLDY STLDYW TLDYWG LDYW...</td>\n",
       "      <td>YSS SGT SSL GTD SLY TDW LYG DWQ YGG YYM YGD YM...</td>\n",
       "      <td>YSY STW SLG GDQ SYG YMG YDQ YVG EYV TGW NMG YD...</td>\n",
       "      <td>Y 3 3 G 3 3 1 4 Y W G 5 G Y Y Y G 2 4 1 W G 5 ...</td>\n",
       "      <td>Y3 33 3G G3 33 31 14 4Y YW WG G5 5G YY YY YG G...</td>\n",
       "      <td>Y33 33G 3G3 G33 331 314 14Y 4YW YWG WG5 G5G YY...</td>\n",
       "      <td>Y33G 33G3 3G33 G331 3314 314Y 14YW 4YWG YWG5 W...</td>\n",
       "      <td>Y33G3 33G33 3G331 G3314 3314Y 314YW 14YWG 4YWG...</td>\n",
       "      <td>Y33G33 33G331 3G3314 G3314Y 3314YW 314YWG 14YW...</td>\n",
       "      <td>Y33 3G3 331 G34 31Y 34W 1YG 4W5 YGG YY2 YG4 Y2...</td>\n",
       "      <td>Y3Y 33W 31G G45 3YG Y2G Y45 Y1G 4Y1 3GW 52G Y4...</td>\n",
       "    </tr>\n",
       "  </tbody>\n",
       "</table>\n",
       "</div>"
      ]
     },
     "execution_count": 4,
     "metadata": {},
     "output_type": "execute_result"
    }
   ],
   "source": [
    "df = pd.concat([df1, df2, df3, df4, df5], axis=1)\n",
    "logger.debug(df.shape)\n",
    "df.head()"
   ]
  },
  {
   "cell_type": "code",
   "execution_count": 56,
   "metadata": {},
   "outputs": [
    {
     "name": "stderr",
     "output_type": "stream",
     "text": [
      "[2018-04-24 17:32:34,796]-[11397]-[140735658623872]-[etl]-[12]-[DEBUG]: --- 80.86641097068787 seconds ---\n"
     ]
    },
    {
     "name": "stderr",
     "output_type": "stream",
     "text": [
      "[2018-04-24 17:32:34,796]-[11397]-[140735658623872]-[etl]-[12]-[DEBUG]: --- 80.86641097068787 seconds ---\n"
     ]
    },
    {
     "name": "stderr",
     "output_type": "stream",
     "text": [
      "[2018-04-24 17:34:01,559]-[11397]-[140735658623872]-[etl]-[12]-[DEBUG]: --- 86.76229095458984 seconds ---\n"
     ]
    },
    {
     "name": "stderr",
     "output_type": "stream",
     "text": [
      "[2018-04-24 17:34:01,559]-[11397]-[140735658623872]-[etl]-[12]-[DEBUG]: --- 86.76229095458984 seconds ---\n"
     ]
    },
    {
     "name": "stderr",
     "output_type": "stream",
     "text": [
      "[2018-04-24 17:35:34,378]-[11397]-[140735658623872]-[etl]-[12]-[DEBUG]: --- 92.8165488243103 seconds ---\n"
     ]
    },
    {
     "name": "stderr",
     "output_type": "stream",
     "text": [
      "[2018-04-24 17:35:34,378]-[11397]-[140735658623872]-[etl]-[12]-[DEBUG]: --- 92.8165488243103 seconds ---\n"
     ]
    },
    {
     "name": "stderr",
     "output_type": "stream",
     "text": [
      "[2018-04-24 17:37:13,820]-[11397]-[140735658623872]-[etl]-[12]-[DEBUG]: --- 99.43568730354309 seconds ---\n"
     ]
    },
    {
     "name": "stderr",
     "output_type": "stream",
     "text": [
      "[2018-04-24 17:37:13,820]-[11397]-[140735658623872]-[etl]-[12]-[DEBUG]: --- 99.43568730354309 seconds ---\n"
     ]
    },
    {
     "name": "stderr",
     "output_type": "stream",
     "text": [
      "[2018-04-24 17:39:06,972]-[11397]-[140735658623872]-[etl]-[12]-[DEBUG]: --- 113.1470639705658 seconds ---\n"
     ]
    },
    {
     "name": "stderr",
     "output_type": "stream",
     "text": [
      "[2018-04-24 17:39:06,972]-[11397]-[140735658623872]-[etl]-[12]-[DEBUG]: --- 113.1470639705658 seconds ---\n"
     ]
    },
    {
     "name": "stderr",
     "output_type": "stream",
     "text": [
      "[2018-04-24 17:41:58,275]-[11397]-[140735658623872]-[etl]-[12]-[DEBUG]: --- 171.3006227016449 seconds ---\n"
     ]
    },
    {
     "name": "stderr",
     "output_type": "stream",
     "text": [
      "[2018-04-24 17:41:58,275]-[11397]-[140735658623872]-[etl]-[12]-[DEBUG]: --- 171.3006227016449 seconds ---\n"
     ]
    },
    {
     "name": "stderr",
     "output_type": "stream",
     "text": [
      "[2018-04-24 17:43:21,869]-[11397]-[140735658623872]-[etl]-[12]-[DEBUG]: --- 83.58299684524536 seconds ---\n"
     ]
    },
    {
     "name": "stderr",
     "output_type": "stream",
     "text": [
      "[2018-04-24 17:43:21,869]-[11397]-[140735658623872]-[etl]-[12]-[DEBUG]: --- 83.58299684524536 seconds ---\n"
     ]
    },
    {
     "name": "stderr",
     "output_type": "stream",
     "text": [
      "[2018-04-24 17:44:07,806]-[11397]-[140735658623872]-[etl]-[12]-[DEBUG]: --- 45.931172132492065 seconds ---\n"
     ]
    },
    {
     "name": "stderr",
     "output_type": "stream",
     "text": [
      "[2018-04-24 17:44:07,806]-[11397]-[140735658623872]-[etl]-[12]-[DEBUG]: --- 45.931172132492065 seconds ---\n"
     ]
    },
    {
     "name": "stderr",
     "output_type": "stream",
     "text": [
      "[2018-04-24 17:45:29,110]-[11397]-[140735658623872]-[etl]-[12]-[DEBUG]: --- 81.30311894416809 seconds ---\n"
     ]
    },
    {
     "name": "stderr",
     "output_type": "stream",
     "text": [
      "[2018-04-24 17:45:29,110]-[11397]-[140735658623872]-[etl]-[12]-[DEBUG]: --- 81.30311894416809 seconds ---\n"
     ]
    },
    {
     "name": "stderr",
     "output_type": "stream",
     "text": [
      "[2018-04-24 17:47:03,497]-[11397]-[140735658623872]-[etl]-[12]-[DEBUG]: --- 94.38426280021667 seconds ---\n"
     ]
    },
    {
     "name": "stderr",
     "output_type": "stream",
     "text": [
      "[2018-04-24 17:47:03,497]-[11397]-[140735658623872]-[etl]-[12]-[DEBUG]: --- 94.38426280021667 seconds ---\n"
     ]
    },
    {
     "name": "stderr",
     "output_type": "stream",
     "text": [
      "[2018-04-24 17:48:32,719]-[11397]-[140735658623872]-[etl]-[12]-[DEBUG]: --- 89.22001194953918 seconds ---\n"
     ]
    },
    {
     "name": "stderr",
     "output_type": "stream",
     "text": [
      "[2018-04-24 17:48:32,719]-[11397]-[140735658623872]-[etl]-[12]-[DEBUG]: --- 89.22001194953918 seconds ---\n"
     ]
    },
    {
     "name": "stderr",
     "output_type": "stream",
     "text": [
      "[2018-04-24 17:50:09,805]-[11397]-[140735658623872]-[etl]-[12]-[DEBUG]: --- 97.08258605003357 seconds ---\n"
     ]
    },
    {
     "name": "stderr",
     "output_type": "stream",
     "text": [
      "[2018-04-24 17:50:09,805]-[11397]-[140735658623872]-[etl]-[12]-[DEBUG]: --- 97.08258605003357 seconds ---\n"
     ]
    },
    {
     "name": "stderr",
     "output_type": "stream",
     "text": [
      "[2018-04-24 17:51:57,058]-[11397]-[140735658623872]-[etl]-[12]-[DEBUG]: --- 107.24352478981018 seconds ---\n"
     ]
    },
    {
     "name": "stderr",
     "output_type": "stream",
     "text": [
      "[2018-04-24 17:51:57,058]-[11397]-[140735658623872]-[etl]-[12]-[DEBUG]: --- 107.24352478981018 seconds ---\n"
     ]
    },
    {
     "name": "stderr",
     "output_type": "stream",
     "text": [
      "[2018-04-24 17:53:41,177]-[11397]-[140735658623872]-[etl]-[12]-[DEBUG]: --- 104.10804724693298 seconds ---\n"
     ]
    },
    {
     "name": "stderr",
     "output_type": "stream",
     "text": [
      "[2018-04-24 17:53:41,177]-[11397]-[140735658623872]-[etl]-[12]-[DEBUG]: --- 104.10804724693298 seconds ---\n"
     ]
    },
    {
     "name": "stderr",
     "output_type": "stream",
     "text": [
      "[2018-04-24 17:54:56,507]-[11397]-[140735658623872]-[etl]-[12]-[DEBUG]: --- 75.32597136497498 seconds ---\n"
     ]
    },
    {
     "name": "stderr",
     "output_type": "stream",
     "text": [
      "[2018-04-24 17:54:56,507]-[11397]-[140735658623872]-[etl]-[12]-[DEBUG]: --- 75.32597136497498 seconds ---\n"
     ]
    },
    {
     "name": "stderr",
     "output_type": "stream",
     "text": [
      "[2018-04-24 17:55:46,850]-[11397]-[140735658623872]-[etl]-[12]-[DEBUG]: --- 50.34110999107361 seconds ---\n"
     ]
    },
    {
     "name": "stderr",
     "output_type": "stream",
     "text": [
      "[2018-04-24 17:55:46,850]-[11397]-[140735658623872]-[etl]-[12]-[DEBUG]: --- 50.34110999107361 seconds ---\n"
     ]
    },
    {
     "name": "stderr",
     "output_type": "stream",
     "text": [
      "[2018-04-24 17:55:46,860]-[11397]-[140735658623872]-[etl]-[13]-[DEBUG]: --- 1472.9488430023193 seconds ---\n"
     ]
    },
    {
     "name": "stderr",
     "output_type": "stream",
     "text": [
      "[2018-04-24 17:55:46,860]-[11397]-[140735658623872]-[etl]-[13]-[DEBUG]: --- 1472.9488430023193 seconds ---\n"
     ]
    }
   ],
   "source": [
    "# start_time = time.time()\n",
    "# \n",
    "# df_vec1000 = df.copy()\n",
    "# max_features = 1000\n",
    "# \n",
    "# # ou can change the token_pattern parameter from (?u)\\\\b\\\\w\\\\w+\\\\b (default) to (?u)\\\\b\\\\w\\\\w*\\\\b; The default matches token that has two or more word characters (in case you are not familiar with regex, + means one or more, so \\\\w\\\\w+ matches word with two or more word characters; * on the other hand means zero or more, \\\\w\\\\w* will thus match word with one or more characters):\n",
    "# tfidf = TfidfVectorizer(max_features=max_features, stop_words=None, lowercase=False, token_pattern='(?u)\\\\b\\\\w\\\\w*\\\\b')\n",
    "# \n",
    "# for i in range(1, 17):\n",
    "#     start_time1 = time.time()\n",
    "#     df_vec1000.iloc[:, i] = tfidf.fit_transform(df_vec1000.iloc[:, i]).toarray().tolist()\n",
    "#     logger.debug(\"--- %s seconds ---\" % (time.time() - start_time1))\n",
    "# logger.debug(\"--- %s seconds ---\" % (time.time() - start_time))\n",
    "# df_vec1000.to_pickle(\"/Volumes/PORT_exFAT/courses/bcr_data/df_vec1000.pickle\")\n",
    "\n"
   ]
  },
  {
   "cell_type": "code",
   "execution_count": 5,
   "metadata": {},
   "outputs": [
    {
     "name": "stderr",
     "output_type": "stream",
     "text": [
      "[2018-04-24 19:54:01,722]-[5244]-[8988]-[etl]-[12]-[DEBUG]: --- 75.05780625343323 seconds ---\n"
     ]
    },
    {
     "name": "stderr",
     "output_type": "stream",
     "text": [
      "[2018-04-24 19:55:24,654]-[5244]-[8988]-[etl]-[12]-[DEBUG]: --- 82.93081402778625 seconds ---\n"
     ]
    },
    {
     "name": "stderr",
     "output_type": "stream",
     "text": [
      "[2018-04-24 19:56:46,521]-[5244]-[8988]-[etl]-[12]-[DEBUG]: --- 81.864905834198 seconds ---\n"
     ]
    },
    {
     "name": "stderr",
     "output_type": "stream",
     "text": [
      "[2018-04-24 19:58:21,999]-[5244]-[8988]-[etl]-[12]-[DEBUG]: --- 95.47649383544922 seconds ---\n"
     ]
    },
    {
     "name": "stderr",
     "output_type": "stream",
     "text": [
      "[2018-04-24 20:05:33,854]-[5244]-[8988]-[etl]-[12]-[DEBUG]: --- 431.85456562042236 seconds ---\n"
     ]
    },
    {
     "name": "stderr",
     "output_type": "stream",
     "text": [
      "[2018-04-24 20:15:45,171]-[5244]-[8988]-[etl]-[12]-[DEBUG]: --- 611.3135178089142 seconds ---\n"
     ]
    },
    {
     "name": "stderr",
     "output_type": "stream",
     "text": [
      "[2018-04-24 20:19:55,574]-[5244]-[8988]-[etl]-[12]-[DEBUG]: --- 250.4016752243042 seconds ---\n"
     ]
    },
    {
     "name": "stderr",
     "output_type": "stream",
     "text": [
      "[2018-04-24 20:21:05,720]-[5244]-[8988]-[etl]-[12]-[DEBUG]: --- 70.14262890815735 seconds ---\n"
     ]
    },
    {
     "name": "stderr",
     "output_type": "stream",
     "text": [
      "[2018-04-24 21:02:35,201]-[5244]-[8988]-[etl]-[12]-[DEBUG]: --- 2489.479713201523 seconds ---\n"
     ]
    },
    {
     "name": "stderr",
     "output_type": "stream",
     "text": [
      "[2018-04-24 21:07:49,722]-[5244]-[8988]-[etl]-[12]-[DEBUG]: --- 314.5038962364197 seconds ---\n"
     ]
    },
    {
     "name": "stderr",
     "output_type": "stream",
     "text": [
      "[2018-04-24 21:12:28,719]-[5244]-[8988]-[etl]-[12]-[DEBUG]: --- 278.69273853302 seconds ---\n"
     ]
    },
    {
     "name": "stderr",
     "output_type": "stream",
     "text": [
      "[2018-04-24 21:15:17,014]-[5244]-[8988]-[etl]-[12]-[DEBUG]: --- 168.2946493625641 seconds ---\n"
     ]
    },
    {
     "name": "stderr",
     "output_type": "stream",
     "text": [
      "[2018-04-24 21:19:15,221]-[5244]-[8988]-[etl]-[12]-[DEBUG]: --- 238.20289039611816 seconds ---\n"
     ]
    },
    {
     "name": "stderr",
     "output_type": "stream",
     "text": [
      "[2018-04-24 21:22:05,068]-[5244]-[8988]-[etl]-[12]-[DEBUG]: --- 169.8456814289093 seconds ---\n"
     ]
    },
    {
     "name": "stderr",
     "output_type": "stream",
     "text": [
      "[2018-04-24 21:26:50,152]-[5244]-[8988]-[etl]-[12]-[DEBUG]: --- 285.0818667411804 seconds ---\n"
     ]
    },
    {
     "name": "stderr",
     "output_type": "stream",
     "text": [
      "[2018-04-24 21:27:51,585]-[5244]-[8988]-[etl]-[12]-[DEBUG]: --- 61.430301904678345 seconds ---\n"
     ]
    },
    {
     "name": "stderr",
     "output_type": "stream",
     "text": [
      "[2018-04-24 21:27:51,591]-[5244]-[8988]-[etl]-[13]-[DEBUG]: --- 5704.9492337703705 seconds ---\n"
     ]
    }
   ],
   "source": [
    "# start_time = time.time()\n",
    "# \n",
    "# df_vec10000 = df.copy()\n",
    "# max_features = 10000\n",
    "# \n",
    "# # ou can change the token_pattern parameter from (?u)\\\\b\\\\w\\\\w+\\\\b (default) to (?u)\\\\b\\\\w\\\\w*\\\\b; The default matches token that has two or more word characters (in case you are not familiar with regex, + means one or more, so \\\\w\\\\w+ matches word with two or more word characters; * on the other hand means zero or more, \\\\w\\\\w* will thus match word with one or more characters):\n",
    "# tfidf = TfidfVectorizer(max_features=max_features, stop_words=None, lowercase=False, token_pattern='(?u)\\\\b\\\\w\\\\w*\\\\b')\n",
    "# \n",
    "# for i in range(1, 17):\n",
    "#     start_time1 = time.time()\n",
    "#     df_vec10000.iloc[:, i] = tfidf.fit_transform(df_vec10000.iloc[:, i]).toarray().tolist()\n",
    "#     logger.debug(\"--- %s seconds ---\" % (time.time() - start_time1))\n",
    "# logger.debug(\"--- %s seconds ---\" % (time.time() - start_time))\n",
    "# \n",
    "# df_vec10000.to_pickle(r\"F:\\courses\\bcr_data\\df_vec10000.pickle\")"
   ]
  },
  {
   "cell_type": "code",
   "execution_count": 16,
   "metadata": {},
   "outputs": [
    {
     "ename": "NameError",
     "evalue": "name 'df' is not defined",
     "traceback": [
      "\u001b[1;31m---------------------------------------------------------------------------\u001b[0m",
      "\u001b[1;31mNameError\u001b[0m                                 Traceback (most recent call last)",
      "\u001b[1;32m<ipython-input-16-725be75bab61>\u001b[0m in \u001b[0;36m<module>\u001b[1;34m()\u001b[0m\n\u001b[0;32m      1\u001b[0m \u001b[0mstart_time\u001b[0m \u001b[1;33m=\u001b[0m \u001b[0mtime\u001b[0m\u001b[1;33m.\u001b[0m\u001b[0mtime\u001b[0m\u001b[1;33m(\u001b[0m\u001b[1;33m)\u001b[0m\u001b[1;33m\u001b[0m\u001b[0m\n\u001b[0;32m      2\u001b[0m \u001b[1;33m\u001b[0m\u001b[0m\n\u001b[1;32m----> 3\u001b[1;33m \u001b[0mdf_vec100\u001b[0m \u001b[1;33m=\u001b[0m \u001b[0mdf\u001b[0m\u001b[1;33m.\u001b[0m\u001b[0mcopy\u001b[0m\u001b[1;33m(\u001b[0m\u001b[1;33m)\u001b[0m\u001b[1;33m\u001b[0m\u001b[0m\n\u001b[0m\u001b[0;32m      4\u001b[0m \u001b[0mmax_features\u001b[0m \u001b[1;33m=\u001b[0m \u001b[1;36m100\u001b[0m\u001b[1;33m\u001b[0m\u001b[0m\n\u001b[0;32m      5\u001b[0m \u001b[1;33m\u001b[0m\u001b[0m\n",
      "\u001b[1;31mNameError\u001b[0m: name 'df' is not defined"
     ],
     "output_type": "error"
    }
   ],
   "source": [
    "start_time = time.time()\n",
    "\n",
    "df_vec100 = df.copy()\n",
    "max_features = 100\n",
    "\n",
    "# ou can change the token_pattern parameter from (?u)\\\\b\\\\w\\\\w+\\\\b (default) to (?u)\\\\b\\\\w\\\\w*\\\\b; The default matches token that has two or more word characters (in case you are not familiar with regex, + means one or more, so \\\\w\\\\w+ matches word with two or more word characters; * on the other hand means zero or more, \\\\w\\\\w* will thus match word with one or more characters):\n",
    "tfidf = TfidfVectorizer(max_features=max_features, stop_words=None, lowercase=False, token_pattern='(?u)\\\\b\\\\w\\\\w*\\\\b')\n",
    "\n",
    "for i in range(1, 17):\n",
    "    start_time1 = time.time()\n",
    "    df_vec100.iloc[:, i] = tfidf.fit_transform(df_vec100.iloc[:, i]).toarray().tolist()\n",
    "    logger.debug(\"--- %s seconds ---\" % (time.time() - start_time1))\n",
    "logger.debug(\"--- %s seconds ---\" % (time.time() - start_time))\n",
    "df_vec100.to_pickle(r\"F:\\courses\\bcr_data\\df_vec100.pickle\")"
   ]
  },
  {
   "cell_type": "code",
   "execution_count": 2,
   "metadata": {},
   "outputs": [],
   "source": [
    "# summarize history for loss\n",
    "def plot_loss():\n",
    "    plt.plot(history.history['loss'])\n",
    "    plt.plot(history.history['val_loss'])\n",
    "    plt.title('model loss')\n",
    "    plt.ylabel('loss')\n",
    "    plt.xlabel('epoch')\n",
    "    plt.legend(['train', 'test'], loc='upper left')\n",
    "    # plt.savefig('loss1.png')\n",
    "    plt.show()\n",
    "\n",
    "# summarize history for acc\n",
    "def plot_acc():\n",
    "    plt.plot(history.history['acc'])\n",
    "    plt.plot(history.history['val_acc'])\n",
    "    plt.title('model accuracy')\n",
    "    plt.ylabel('accuracy')\n",
    "    plt.xlabel('epoch')\n",
    "    plt.legend(['train', 'test'], loc='upper left')\n",
    "    # plt.savefig('loss1.png')\n",
    "    plt.show()"
   ]
  },
  {
   "cell_type": "code",
   "execution_count": 3,
   "metadata": {},
   "outputs": [],
   "source": [
    "df_model = pd.read_pickle(r\"F:\\courses\\bcr_data\\df_vec10000.pickle\")"
   ]
  },
  {
   "cell_type": "code",
   "execution_count": 4,
   "metadata": {},
   "outputs": [
    {
     "data": {
      "text/plain": [
       "['cancer',\n 'unigram',\n 'bigram',\n 'trigram',\n 'four_gram',\n 'five_gram',\n 'six_gram',\n 'trigram_skip2',\n 'trigram_skip3',\n 'unigram_cls',\n 'bigram_cls',\n 'trigram_cls',\n 'four_gram_cls',\n 'five_gram_cls',\n 'six_gram_cls',\n 'trigram_cls_skip2',\n 'trigram_cls_skip3']"
      ]
     },
     "execution_count": 4,
     "metadata": {},
     "output_type": "execute_result"
    }
   ],
   "source": [
    "list(df_model)"
   ]
  },
  {
   "cell_type": "code",
   "execution_count": 13,
   "metadata": {},
   "outputs": [
    {
     "name": "stderr",
     "output_type": "stream",
     "text": [
      "[2018-04-24 23:35:37,315]-[11476]-[1168]-[etl]-[9]-[DEBUG]: 20000\n"
     ]
    },
    {
     "name": "stderr",
     "output_type": "stream",
     "text": [
      "[2018-04-24 23:35:37,369]-[11476]-[1168]-[etl]-[15]-[DEBUG]: [0. 0. 0. 0. 0. 0. 0. 0. 0. 0. 0. 0. 1.]\n"
     ]
    }
   ],
   "source": [
    "# df_model[\"all_features\"] = df_model.iloc[:, 1]\n",
    "# for i in range(6, 7):\n",
    "#     df_model[\"all_features\"] = df_model[\"all_features\"] + df_model.iloc[:, i]\n",
    "\n",
    "df_model[\"all_features\"] = df_model.six_gram + df_model.six_gram_cls\n",
    "\n",
    "X = np.array(list(df_model.all_features)).astype(float)\n",
    "Y = np.array(list(df_model.cancer))\n",
    "logger.debug(len(X[0]))\n",
    "\n",
    "encoder = LabelEncoder()\n",
    "encoder.fit(Y)\n",
    "encoder_Y = encoder.transform(Y)\n",
    "dummy_y = np_utils.to_categorical(encoder_Y)\n",
    "logger.debug(dummy_y[0])"
   ]
  },
  {
   "cell_type": "code",
   "execution_count": 9,
   "metadata": {
    "collapsed": true
   },
   "outputs": [
    {
     "name": "stdout",
     "output_type": "stream",
     "text": [
      "_________________________________________________________________\nLayer (type)                 Output Shape              Param #   \n=================================================================\ndense_1 (Dense)              (None, 2000)              20002000  \n_________________________________________________________________\ndropout_1 (Dropout)          (None, 2000)              0         \n_________________________________________________________________\ndense_2 (Dense)              (None, 2000)              4002000   \n_________________________________________________________________\ndropout_2 (Dropout)          (None, 2000)              0         \n_________________________________________________________________\ndense_3 (Dense)              (None, 13)                26013     \n=================================================================\nTotal params: 24,030,013\nTrainable params: 24,030,013\nNon-trainable params: 0\n_________________________________________________________________\n"
     ]
    },
    {
     "name": "stdout",
     "output_type": "stream",
     "text": [
      "Train on 3392 samples, validate on 849 samples\nEpoch 1/300\n"
     ]
    },
    {
     "name": "stdout",
     "output_type": "stream",
     "text": [
      "\r 798/3392 [======>.......................] - ETA: 2s - loss: 2.5655 - acc: 0.0802"
     ]
    },
    {
     "name": "stdout",
     "output_type": "stream",
     "text": [
      "\b\b\b\b\b\b\b\b\b\b\b\b\b\b\b\b\b\b\b\b\b\b\b\b\b\b\b\b\b\b\b\b\b\b\b\b\b\b\b\b\b\b\b\b\b\b\b\b\b\b\b\b\b\b\b\b\b\b\b\b\b\b\b\b\b\b\b\b\b\b\b\b\b\b\b\b\b\b\b\b\b\r1596/3392 [=============>................] - ETA: 0s - loss: 2.5568 - acc: 0.0909"
     ]
    },
    {
     "name": "stdout",
     "output_type": "stream",
     "text": [
      "\b\b\b\b\b\b\b\b\b\b\b\b\b\b\b\b\b\b\b\b\b\b\b\b\b\b\b\b\b\b\b\b\b\b\b\b\b\b\b\b\b\b\b\b\b\b\b\b\b\b\b\b\b\b\b\b\b\b\b\b\b\b\b\b\b\b\b\b\b\b\b\b\b\b\b\b\b\b\b\b\b\r2394/3392 [====================>.........] - ETA: 0s - loss: 2.5462 - acc: 0.0973"
     ]
    },
    {
     "name": "stdout",
     "output_type": "stream",
     "text": [
      "\b\b\b\b\b\b\b\b\b\b\b\b\b\b\b\b\b\b\b\b\b\b\b\b\b\b\b\b\b\b\b\b\b\b\b\b\b\b\b\b\b\b\b\b\b\b\b\b\b\b\b\b\b\b\b\b\b\b\b\b\b\b\b\b\b\b\b\b\b\b\b\b\b\b\b\b\b\b\b\b\b\r3192/3392 [===========================>..] - ETA: 0s - loss: 2.5386 - acc: 0.0977"
     ]
    },
    {
     "name": "stdout",
     "output_type": "stream",
     "text": [
      "\b\b\b\b\b\b\b\b\b\b\b\b\b\b\b\b\b\b\b\b\b\b\b\b\b\b\b\b\b\b\b\b\b\b\b\b\b\b\b\b\b\b\b\b\b\b\b\b\b\b\b\b\b\b\b\b\b\b\b\b\b\b\b\b\b\b\b\b\b\b\b\b\b\b\b\b\b\b\b\b\b\r3392/3392 [==============================] - 1s 357us/step - loss: 2.5355 - acc: 0.0988 - val_loss: 2.4853 - val_acc: 0.1237\n"
     ]
    },
    {
     "name": "stdout",
     "output_type": "stream",
     "text": [
      "Epoch 2/300\n"
     ]
    },
    {
     "name": "stdout",
     "output_type": "stream",
     "text": [
      "\r 798/3392 [======>.......................] - ETA: 0s - loss: 2.4596 - acc: 0.1366"
     ]
    },
    {
     "name": "stdout",
     "output_type": "stream",
     "text": [
      "\b\b\b\b\b\b\b\b\b\b\b\b\b\b\b\b\b\b\b\b\b\b\b\b\b\b\b\b\b\b\b\b\b\b\b\b\b\b\b\b\b\b\b\b\b\b\b\b\b\b\b\b\b\b\b\b\b\b\b\b\b\b\b\b\b\b\b\b\b\b\b\b\b\b\b\b\b\b\b\b\b\r1596/3392 [=============>................] - ETA: 0s - loss: 2.4371 - acc: 0.1585"
     ]
    },
    {
     "name": "stdout",
     "output_type": "stream",
     "text": [
      "\b\b\b\b\b\b\b\b\b\b\b\b\b\b\b\b\b\b\b\b\b\b\b\b\b\b\b\b\b\b\b\b\b\b\b\b\b\b\b\b\b\b\b\b\b\b\b\b\b\b\b\b\b\b\b\b\b\b\b\b\b\b\b\b\b\b\b\b\b\b\b\b\b\b\b\b\b\b\b\b\b\r2394/3392 [====================>.........] - ETA: 0s - loss: 2.4064 - acc: 0.1688"
     ]
    },
    {
     "name": "stdout",
     "output_type": "stream",
     "text": [
      "\b\b\b\b\b\b\b\b\b\b\b\b\b\b\b\b\b\b\b\b\b\b\b\b\b\b\b\b\b\b\b\b\b\b\b\b\b\b\b\b\b\b\b\b\b\b\b\b\b\b\b\b\b\b\b\b\b\b\b\b\b\b\b\b\b\b\b\b\b\b\b\b\b\b\b\b\b\b\b\b\b\r3192/3392 [===========================>..] - ETA: 0s - loss: 2.3881 - acc: 0.1789"
     ]
    },
    {
     "name": "stdout",
     "output_type": "stream",
     "text": [
      "\b\b\b\b\b\b\b\b\b\b\b\b\b\b\b\b\b\b\b\b\b\b\b\b\b\b\b\b\b\b\b\b\b\b\b\b\b\b\b\b\b\b\b\b\b\b\b\b\b\b\b\b\b\b\b\b\b\b\b\b\b\b\b\b\b\b\b\b\b\b\b\b\b\b\b\b\b\b\b\b\b\r3392/3392 [==============================] - 1s 242us/step - loss: 2.3846 - acc: 0.1831 - val_loss: 2.2552 - val_acc: 0.1696\n"
     ]
    },
    {
     "name": "stdout",
     "output_type": "stream",
     "text": [
      "Epoch 3/300\n\r 798/3392 [======>.......................] - ETA: 0s - loss: 2.1857 - acc: 0.2807"
     ]
    },
    {
     "name": "stdout",
     "output_type": "stream",
     "text": [
      "\b\b\b\b\b\b\b\b\b\b\b\b\b\b\b\b\b\b\b\b\b\b\b\b\b\b\b\b\b\b\b\b\b\b\b\b\b\b\b\b\b\b\b\b\b\b\b\b\b\b\b\b\b\b\b\b\b\b\b\b\b\b\b\b\b\b\b\b\b\b\b\b\b\b\b\b\b\b\b\b\b\r1596/3392 [=============>................] - ETA: 0s - loss: 2.1838 - acc: 0.2719"
     ]
    },
    {
     "name": "stdout",
     "output_type": "stream",
     "text": [
      "\b\b\b\b\b\b\b\b\b\b\b\b\b\b\b\b\b\b\b\b\b\b\b\b\b\b\b\b\b\b\b\b\b\b\b\b\b\b\b\b\b\b\b\b\b\b\b\b\b\b\b\b\b\b\b\b\b\b\b\b\b\b\b\b\b\b\b\b\b\b\b\b\b\b\b\b\b\b\b\b\b\r2394/3392 [====================>.........] - ETA: 0s - loss: 2.1511 - acc: 0.2836"
     ]
    },
    {
     "name": "stdout",
     "output_type": "stream",
     "text": [
      "\b\b\b\b\b\b\b\b\b\b\b\b\b\b\b\b\b\b\b\b\b\b\b\b\b\b\b\b\b\b\b\b\b\b\b\b\b\b\b\b\b\b\b\b\b\b\b\b\b\b\b\b\b\b\b\b\b\b\b\b\b\b\b\b\b\b\b\b\b\b\b\b\b\b\b\b\b\b\b\b\b\r3192/3392 [===========================>..] - ETA: 0s - loss: 2.1371 - acc: 0.3014"
     ]
    },
    {
     "name": "stdout",
     "output_type": "stream",
     "text": [
      "\b\b\b\b\b\b\b\b\b\b\b\b\b\b\b\b\b\b\b\b\b\b\b\b\b\b\b\b\b\b\b\b\b\b\b\b\b\b\b\b\b\b\b\b\b\b\b\b\b\b\b\b\b\b\b\b\b\b\b\b\b\b\b\b\b\b\b\b\b\b\b\b\b\b\b\b\b\b\b\b\b"
     ]
    },
    {
     "name": "stdout",
     "output_type": "stream",
     "text": [
      "\r3392/3392 [==============================] - 1s 222us/step - loss: 2.1306 - acc: 0.3045 - val_loss: 2.1191 - val_acc: 0.2085\n"
     ]
    },
    {
     "name": "stdout",
     "output_type": "stream",
     "text": [
      "Epoch 4/300\n\r 798/3392 [======>.......................] - ETA: 0s - loss: 1.9786 - acc: 0.2995"
     ]
    },
    {
     "name": "stdout",
     "output_type": "stream",
     "text": [
      "\b\b\b\b\b\b\b\b\b\b\b\b\b\b\b\b\b\b\b\b\b\b\b\b\b\b\b\b\b\b\b\b\b\b\b\b\b\b\b\b\b\b\b\b\b\b\b\b\b\b\b\b\b\b\b\b\b\b\b\b\b\b\b\b\b\b\b\b\b\b\b\b\b\b\b\b\b\b\b\b\b\r1596/3392 [=============>................] - ETA: 0s - loss: 1.9649 - acc: 0.3070"
     ]
    },
    {
     "name": "stdout",
     "output_type": "stream",
     "text": [
      "\b\b\b\b\b\b\b\b\b\b\b\b\b\b\b\b\b\b\b\b\b\b\b\b\b\b\b\b\b\b\b\b\b\b\b\b\b\b\b\b\b\b\b\b\b\b\b\b\b\b\b\b\b\b\b\b\b\b\b\b\b\b\b\b\b\b\b\b\b\b\b\b\b\b\b\b\b\b\b\b\b"
     ]
    },
    {
     "name": "stdout",
     "output_type": "stream",
     "text": [
      "\r2394/3392 [====================>.........] - ETA: 0s - loss: 1.9485 - acc: 0.3333"
     ]
    },
    {
     "name": "stdout",
     "output_type": "stream",
     "text": [
      "\b\b\b\b\b\b\b\b\b\b\b\b\b\b\b\b\b\b\b\b\b\b\b\b\b\b\b\b\b\b\b\b\b\b\b\b\b\b\b\b\b\b\b\b\b\b\b\b\b\b\b\b\b\b\b\b\b\b\b\b\b\b\b\b\b\b\b\b\b\b\b\b\b\b\b\b\b\b\b\b\b\r3192/3392 [===========================>..] - ETA: 0s - loss: 1.9161 - acc: 0.3728"
     ]
    },
    {
     "name": "stdout",
     "output_type": "stream",
     "text": [
      "\b\b\b\b\b\b\b\b\b\b\b\b\b\b\b\b\b\b\b\b\b\b\b\b\b\b\b\b\b\b\b\b\b\b\b\b\b\b\b\b\b\b\b\b\b\b\b\b\b\b\b\b\b\b\b\b\b\b\b\b\b\b\b\b\b\b\b\b\b\b\b\b\b\b\b\b\b\b\b\b\b\r3392/3392 [==============================] - 1s 225us/step - loss: 1.9181 - acc: 0.3753 - val_loss: 2.0629 - val_acc: 0.2297\n"
     ]
    },
    {
     "name": "stdout",
     "output_type": "stream",
     "text": [
      "Epoch 5/300\n"
     ]
    },
    {
     "name": "stdout",
     "output_type": "stream",
     "text": [
      "\r 798/3392 [======>.......................] - ETA: 0s - loss: 1.7100 - acc: 0.4987"
     ]
    },
    {
     "name": "stdout",
     "output_type": "stream",
     "text": [
      "\b\b\b\b\b\b\b\b\b\b\b\b\b\b\b\b\b\b\b\b\b\b\b\b\b\b\b\b\b\b\b\b\b\b\b\b\b\b\b\b\b\b\b\b\b\b\b\b\b\b\b\b\b\b\b\b\b\b\b\b\b\b\b\b\b\b\b\b\b\b\b\b\b\b\b\b\b\b\b\b\b\r1596/3392 [=============>................]"
     ]
    },
    {
     "name": "stdout",
     "output_type": "stream",
     "text": [
      " - ETA: 0s - loss: 1.6925 - acc: 0.5113"
     ]
    },
    {
     "name": "stdout",
     "output_type": "stream",
     "text": [
      "\b\b\b\b\b\b\b\b\b\b\b\b\b\b\b\b\b\b\b\b\b\b\b\b\b\b\b\b\b\b\b\b\b\b\b\b\b\b\b\b\b\b\b\b\b\b\b\b\b\b\b\b\b\b\b\b\b\b\b\b\b\b\b\b\b\b\b\b\b\b\b\b\b\b\b\b\b\b\b\b\b\r2394/3392 [====================>.........] - ETA: 0s - loss: 1.6699 - acc: 0.5146"
     ]
    },
    {
     "name": "stdout",
     "output_type": "stream",
     "text": [
      "\b\b\b\b\b\b\b\b\b\b\b\b\b\b\b\b\b\b\b\b\b\b\b\b\b\b\b\b\b\b\b\b\b\b\b\b\b\b\b\b\b\b\b\b\b\b\b\b\b\b\b\b\b\b\b\b\b\b\b\b\b\b\b\b\b\b\b\b\b\b\b\b\b\b\b\b\b\b\b\b\b\r3192/3392 [===========================>..] - ETA: 0s - loss: 1.6579 - acc: 0.5141"
     ]
    },
    {
     "name": "stdout",
     "output_type": "stream",
     "text": [
      "\b\b\b\b\b\b\b\b\b\b\b\b\b\b\b\b\b\b\b\b\b\b\b\b\b\b\b\b\b\b\b\b\b\b\b\b\b\b\b\b\b\b\b\b\b\b\b\b\b\b\b\b\b\b\b\b\b\b\b\b\b\b\b\b\b\b\b\b\b\b\b\b\b\b\b\b\b\b\b\b\b\r3392/3392 [==============================] - 1s 233us/step - loss: 1.6530 - acc: 0.5186 - val_loss: 2.0567 - val_acc: 0.2792\n"
     ]
    },
    {
     "name": "stdout",
     "output_type": "stream",
     "text": [
      "Epoch 6/300\n"
     ]
    },
    {
     "name": "stdout",
     "output_type": "stream",
     "text": [
      "\r 798/3392 [======>.......................] - ETA: 0s - loss: 1.3609 - acc: 0.6479"
     ]
    },
    {
     "name": "stdout",
     "output_type": "stream",
     "text": [
      "\b\b\b\b\b\b\b\b\b\b\b\b\b\b\b\b\b\b\b\b\b\b\b\b\b\b\b\b\b\b\b\b\b\b\b\b\b\b\b\b\b\b\b\b\b\b\b\b\b\b\b\b\b\b\b\b\b\b\b\b\b\b\b\b\b\b\b\b\b\b\b\b\b\b\b\b\b\b\b\b\b\r1596/3392 [=============>................] - ETA: 0s - loss: 1.3896 - acc: 0.6303"
     ]
    },
    {
     "name": "stdout",
     "output_type": "stream",
     "text": [
      "\b\b\b\b\b\b\b\b\b\b\b\b\b\b\b\b\b\b\b\b\b\b\b\b\b\b\b\b\b\b\b\b\b\b\b\b\b\b\b\b\b\b\b\b\b\b\b\b\b\b\b\b\b\b\b\b\b\b\b\b\b\b\b\b\b\b\b\b\b\b\b\b\b\b\b\b\b\b\b\b\b\r2394/3392 [====================>.........] - ETA: 0s - loss: 1.3670 - acc: 0.6520"
     ]
    },
    {
     "name": "stdout",
     "output_type": "stream",
     "text": [
      "\b\b\b\b\b\b\b\b\b\b\b\b\b\b\b\b\b\b\b\b\b\b\b\b\b\b\b\b\b\b\b\b\b\b\b\b\b\b\b\b\b\b\b\b\b\b\b\b\b\b\b\b\b\b\b\b\b\b\b\b\b\b\b\b\b\b\b\b\b\b\b\b\b\b\b\b\b\b\b\b\b"
     ]
    },
    {
     "name": "stdout",
     "output_type": "stream",
     "text": [
      "\r3192/3392 [===========================>..] - ETA: 0s - loss: 1.3264 - acc: 0.6745"
     ]
    },
    {
     "name": "stdout",
     "output_type": "stream",
     "text": [
      "\b\b\b\b\b\b\b\b\b\b\b\b\b\b\b\b\b\b\b\b\b\b\b\b\b\b\b\b\b\b\b\b\b\b\b\b\b\b\b\b\b\b\b\b\b\b\b\b\b\b\b\b\b\b\b\b\b\b\b\b\b\b\b\b\b\b\b\b\b\b\b\b\b\b\b\b\b\b\b\b\b\r3392/3392 [==============================] - 1s 236us/step - loss: 1.3207 - acc: 0.6772 - val_loss: 2.0536 - val_acc: 0.2744\n"
     ]
    },
    {
     "name": "stdout",
     "output_type": "stream",
     "text": [
      "Epoch 7/300\n"
     ]
    },
    {
     "name": "stdout",
     "output_type": "stream",
     "text": [
      "\r 798/3392 [======>.......................] - ETA: 0s - loss: 1.0822 - acc: 0.7343"
     ]
    },
    {
     "name": "stdout",
     "output_type": "stream",
     "text": [
      "\b\b\b\b\b\b\b\b\b\b\b\b\b\b\b\b\b\b\b\b\b\b\b\b\b\b\b\b\b\b\b\b\b\b\b\b\b\b\b\b\b\b\b\b\b\b\b\b\b\b\b\b\b\b\b\b\b\b\b\b\b\b\b\b\b\b\b\b\b\b\b\b\b\b\b\b\b\b\b\b\b\r1596/3392 [=============>................] - ETA: 0s - loss: 1.0547 - acc: 0.7375"
     ]
    },
    {
     "name": "stdout",
     "output_type": "stream",
     "text": [
      "\b\b\b\b\b\b\b\b\b\b\b\b\b\b\b\b\b\b\b\b\b\b\b\b\b\b\b\b\b\b\b\b\b\b\b\b\b\b\b\b\b\b\b\b\b\b\b\b\b\b\b\b\b\b\b\b\b\b\b\b\b\b\b\b\b\b\b\b\b\b\b\b\b\b\b\b\b\b\b\b\b\r2394/3392 [====================>.........] - ETA: 0s - loss: 1.0234 - acc: 0.7623"
     ]
    },
    {
     "name": "stdout",
     "output_type": "stream",
     "text": [
      "\b\b\b\b\b\b\b\b\b\b\b\b\b\b\b\b\b\b\b\b\b\b\b\b\b\b\b\b\b\b\b\b\b\b\b\b\b\b\b\b\b\b\b\b\b\b\b\b\b\b\b\b\b\b\b\b\b\b\b\b\b\b\b\b\b\b\b\b\b\b\b\b\b\b\b\b\b\b\b\b\b\r3192/3392 [===========================>..] - ETA: 0s - loss: 0.9948 - acc: 0.7738"
     ]
    },
    {
     "name": "stdout",
     "output_type": "stream",
     "text": [
      "\b\b\b\b\b\b\b\b\b\b\b\b\b\b\b\b\b\b\b\b\b\b\b\b\b\b\b\b\b\b\b\b\b\b\b\b\b\b\b\b\b\b\b\b\b\b\b\b\b\b\b\b\b\b\b\b\b\b\b\b\b\b\b\b\b\b\b\b\b\b\b\b\b\b\b\b\b\b\b\b\b"
     ]
    },
    {
     "name": "stdout",
     "output_type": "stream",
     "text": [
      "\r3392/3392 [==============================] - 1s 223us/step - loss: 0.9835 - acc: 0.7754 - val_loss: 2.1205 - val_acc: 0.2509\n"
     ]
    },
    {
     "name": "stdout",
     "output_type": "stream",
     "text": [
      "Epoch 8/300\n\r 798/3392 [======>.......................] - ETA: 0s - loss: 0.7986 - acc: 0.8045"
     ]
    },
    {
     "name": "stdout",
     "output_type": "stream",
     "text": [
      "\b\b\b\b\b\b\b\b\b\b\b\b\b\b\b\b\b\b\b\b\b\b\b\b\b\b\b\b\b\b\b\b\b\b\b\b\b\b\b\b\b\b\b\b\b\b\b\b\b\b\b\b\b\b\b\b\b\b\b\b\b\b\b\b\b\b\b\b\b\b\b\b\b\b\b\b\b\b\b\b\b\r1596/3392 [=============>................] - ETA: 0s - loss: 0.7494 - acc: 0.8246"
     ]
    },
    {
     "name": "stdout",
     "output_type": "stream",
     "text": [
      "\b\b\b\b\b\b\b\b\b\b\b\b\b\b\b\b\b\b\b\b\b\b\b\b\b\b\b\b\b\b\b\b\b\b\b\b\b\b\b\b\b\b\b\b\b\b\b\b\b\b\b\b\b\b\b\b\b\b\b\b\b\b\b\b\b\b\b\b\b\b\b\b\b\b\b\b\b\b\b\b\b\r2394/3392 [====================>.........] - ETA: 0s - loss: 0.7448 - acc: 0.8208"
     ]
    },
    {
     "name": "stdout",
     "output_type": "stream",
     "text": [
      "\b\b\b\b\b\b\b\b\b\b\b\b\b\b\b\b\b\b\b\b\b\b\b\b\b\b\b\b\b\b\b\b\b\b\b\b\b\b\b\b\b\b\b\b\b\b\b\b\b\b\b\b\b\b\b\b\b\b\b\b\b\b\b\b\b\b\b\b\b\b\b\b\b\b\b\b\b\b\b\b\b\r3192/3392 [===========================>..] - ETA: 0s - loss: 0.7063 - acc: 0.8299"
     ]
    },
    {
     "name": "stdout",
     "output_type": "stream",
     "text": [
      "\b\b\b\b\b\b\b\b\b\b\b\b\b\b\b\b\b\b\b\b\b\b\b\b\b\b\b\b\b\b\b\b\b\b\b\b\b\b\b\b\b\b\b\b\b\b\b\b\b\b\b\b\b\b\b\b\b\b\b\b\b\b\b\b\b\b\b\b\b\b\b\b\b\b\b\b\b\b\b\b\b\r3392/3392 [==============================] - 1s 230us/step - loss: 0.6989 - acc: 0.8337 - val_loss: 2.1675 - val_acc: 0.2839\n"
     ]
    },
    {
     "name": "stdout",
     "output_type": "stream",
     "text": [
      "Epoch 9/300\n\r 798/3392 [======>.......................] - ETA: 0s - loss: 0.5146 - acc: 0.9173"
     ]
    },
    {
     "name": "stdout",
     "output_type": "stream",
     "text": [
      "\b\b\b\b\b\b\b\b\b\b\b\b\b\b\b\b\b\b\b\b\b\b\b\b\b\b\b\b\b\b\b\b\b\b\b\b\b\b\b\b\b\b\b\b\b\b\b\b\b\b\b\b\b\b\b\b\b\b\b\b\b\b\b\b\b\b\b\b\b\b\b\b\b\b\b\b\b\b\b\b\b\r1596/3392 [=============>................] - ETA: 0s - loss: 0.5153 - acc: 0.9054"
     ]
    },
    {
     "name": "stdout",
     "output_type": "stream",
     "text": [
      "\b\b\b\b\b\b\b\b\b\b\b\b\b\b\b\b\b\b\b\b\b\b\b\b\b\b\b\b\b\b\b\b\b\b\b\b\b\b\b\b\b\b\b\b\b\b\b\b\b\b\b\b\b\b\b\b\b\b\b\b\b\b\b\b\b\b\b\b\b\b\b\b\b\b\b\b\b\b\b\b\b\r2394/3392 [====================>.........] - ETA: 0s - loss: 0.4936 - acc: 0.9119"
     ]
    },
    {
     "name": "stdout",
     "output_type": "stream",
     "text": [
      "\b\b\b\b\b\b\b\b\b\b\b\b\b\b\b\b\b\b\b\b\b\b\b\b\b\b\b\b\b\b\b\b\b\b\b\b\b\b\b\b\b\b\b\b\b\b\b\b\b\b\b\b\b\b\b\b\b\b\b\b\b\b\b\b\b\b\b\b\b\b\b\b\b\b\b\b\b\b\b\b\b\r3192/3392 [===========================>..] - ETA: 0s - loss: 0.4805 - acc: 0.9107"
     ]
    },
    {
     "name": "stdout",
     "output_type": "stream",
     "text": [
      "\b\b\b\b\b\b\b\b\b\b\b\b\b\b\b\b\b\b\b\b\b\b\b\b\b\b\b\b\b\b\b\b\b\b\b\b\b\b\b\b\b\b\b\b\b\b\b\b\b\b\b\b\b\b\b\b\b\b\b\b\b\b\b\b\b\b\b\b\b\b\b\b\b\b\b\b\b\b\b\b\b\r3392/3392 [==============================] - 1s 230us/step - loss: 0.4786 - acc: 0.9113 - val_loss: 2.4235 - val_acc: 0.2921\n"
     ]
    },
    {
     "name": "stdout",
     "output_type": "stream",
     "text": [
      "Epoch 10/300\n\r 798/3392 [======>.......................] - ETA: 0s - loss: 0.3928 - acc: 0.9085"
     ]
    },
    {
     "name": "stdout",
     "output_type": "stream",
     "text": [
      "\b\b\b\b\b\b\b\b\b\b\b\b\b\b\b\b\b\b\b\b\b\b\b\b\b\b\b\b\b\b\b\b\b\b\b\b\b\b\b\b\b\b\b\b\b\b\b\b\b\b\b\b\b\b\b\b\b\b\b\b\b\b\b\b\b\b\b\b\b\b\b\b\b\b\b\b\b\b\b\b\b\r1596/3392 [=============>................] - ETA: 0s - loss: 0.3715 - acc: 0.9211"
     ]
    },
    {
     "name": "stdout",
     "output_type": "stream",
     "text": [
      "\b\b\b\b\b\b\b\b\b\b\b\b\b\b\b\b\b\b\b\b\b\b\b\b\b\b\b\b\b\b\b\b\b\b\b\b\b\b\b\b\b\b\b\b\b\b\b\b\b\b\b\b\b\b\b\b\b\b\b\b\b\b\b\b\b\b\b\b\b\b\b\b\b\b\b\b\b\b\b\b\b\r2394/3392 [====================>.........] - ETA: 0s - loss: 0.3510 - acc: 0.9269"
     ]
    },
    {
     "name": "stdout",
     "output_type": "stream",
     "text": [
      "\b\b\b\b\b\b\b\b\b\b\b\b\b\b\b\b\b\b\b\b\b\b\b\b\b\b\b\b\b\b\b\b\b\b\b\b\b\b\b\b\b\b\b\b\b\b\b\b\b\b\b\b\b\b\b\b\b\b\b\b\b\b\b\b\b\b\b\b\b\b\b\b\b\b\b\b\b\b\b\b\b\r3192/3392 [===========================>..] - ETA: 0s - loss: 0.3259 - acc: 0.9367"
     ]
    },
    {
     "name": "stdout",
     "output_type": "stream",
     "text": [
      "\b\b\b\b\b\b\b\b\b\b\b\b\b\b\b\b\b\b\b\b\b\b\b\b\b\b\b\b\b\b\b\b\b\b\b\b\b\b\b\b\b\b\b\b\b\b\b\b\b\b\b\b\b\b\b\b\b\b\b\b\b\b\b\b\b\b\b\b\b\b\b\b\b\b\b\b\b\b\b\b\b\r3392/3392 [==============================] - 1s 229us/step - loss: 0.3244 - acc: 0.9369 - val_loss: 2.3814 - val_acc: 0.3015\n"
     ]
    },
    {
     "name": "stdout",
     "output_type": "stream",
     "text": [
      "Epoch 11/300\n\r 798/3392 [======>.......................] - ETA: 0s - loss: 0.2210 - acc: 0.9674"
     ]
    },
    {
     "name": "stdout",
     "output_type": "stream",
     "text": [
      "\b\b\b\b\b\b\b\b\b\b\b\b\b\b\b\b\b\b\b\b\b\b\b\b\b\b\b\b\b\b\b\b\b\b\b\b\b\b\b\b\b\b\b\b\b\b\b\b\b\b\b\b\b\b\b\b\b\b\b\b\b\b\b\b\b\b\b\b\b\b\b\b\b\b\b\b\b\b\b\b\b\r1596/3392 [=============>................] - ETA: 0s - loss: 0.2102 - acc: 0.9693"
     ]
    },
    {
     "name": "stdout",
     "output_type": "stream",
     "text": [
      "\b\b\b\b\b\b\b\b\b\b\b\b\b\b\b\b\b\b\b\b\b\b\b\b\b\b\b\b\b\b\b\b\b\b\b\b\b\b\b\b\b\b\b\b\b\b\b\b\b\b\b\b\b\b\b\b\b\b\b\b\b\b\b\b\b\b\b\b\b\b\b\b\b\b\b\b\b\b\b\b\b\r2394/3392 [====================>.........] - ETA: 0s - loss: 0.2023 - acc: 0.9720"
     ]
    },
    {
     "name": "stdout",
     "output_type": "stream",
     "text": [
      "\b\b\b\b\b\b\b\b\b\b\b\b\b\b\b\b\b\b\b\b\b\b\b\b\b\b\b\b\b\b\b\b\b\b\b\b\b\b\b\b\b\b\b\b\b\b\b\b\b\b\b\b\b\b\b\b\b\b\b\b\b\b\b\b\b\b\b\b\b\b\b\b\b\b\b\b\b\b\b\b\b\r3192/3392 [===========================>..] - ETA: 0s - loss: 0.1947 - acc: 0.9737"
     ]
    },
    {
     "name": "stdout",
     "output_type": "stream",
     "text": [
      "\b\b\b\b\b\b\b\b\b\b\b\b\b\b\b\b\b\b\b\b\b\b\b\b\b\b\b\b\b\b\b\b\b\b\b\b\b\b\b\b\b\b\b\b\b\b\b\b\b\b\b\b\b\b\b\b\b\b\b\b\b\b\b\b\b\b\b\b\b\b\b\b\b\b\b\b\b\b\b\b\b\r3392/3392 [==============================] - 1s 218us/step - loss: 0.1940 - acc: 0.9726 - val_loss: 2.5277 - val_acc: 0.2898\n"
     ]
    },
    {
     "name": "stdout",
     "output_type": "stream",
     "text": [
      "Epoch 12/300\n"
     ]
    },
    {
     "name": "stdout",
     "output_type": "stream",
     "text": [
      "\r 798/3392 [======>.......................] - ETA: 0s - loss: 0.1455 - acc: 0.9837"
     ]
    },
    {
     "name": "stdout",
     "output_type": "stream",
     "text": [
      "\b\b\b\b\b\b\b\b\b\b\b\b\b\b\b\b\b\b\b\b\b\b\b\b\b\b\b\b\b\b\b\b\b\b\b\b\b\b\b\b\b\b\b\b\b\b\b\b\b\b\b\b\b\b\b\b\b\b\b\b\b\b\b\b\b\b\b\b\b\b\b\b\b\b\b\b\b\b\b\b\b\r1596/3392 [=============>................] - ETA: 0s - loss: 0.1402 - acc: 0.9825"
     ]
    },
    {
     "name": "stdout",
     "output_type": "stream",
     "text": [
      "\b\b\b\b\b\b\b\b\b\b\b\b\b\b\b\b\b\b\b\b\b\b\b\b\b\b\b\b\b\b\b\b\b\b\b\b\b\b\b\b\b\b\b\b\b\b\b\b\b\b\b\b\b\b\b\b\b\b\b\b\b\b\b\b\b\b\b\b\b\b\b\b\b\b\b\b\b\b\b\b\b\r2394/3392 [====================>.........] - ETA: 0s - loss: 0.1340 - acc: 0.9841"
     ]
    },
    {
     "name": "stdout",
     "output_type": "stream",
     "text": [
      "\b\b\b\b\b\b\b\b\b\b\b\b\b\b\b\b\b\b\b\b\b\b\b\b\b\b\b\b\b\b\b\b\b\b\b\b\b\b\b\b\b\b\b\b\b\b\b\b\b\b\b\b\b\b\b\b\b\b\b\b\b\b\b\b\b\b\b\b\b\b\b\b\b\b\b\b\b\b\b\b\b\r3192/3392 [===========================>..] - ETA: 0s - loss: 0.1269 - acc: 0.9856"
     ]
    },
    {
     "name": "stdout",
     "output_type": "stream",
     "text": [
      "\b\b\b\b\b\b\b\b\b\b\b\b\b\b\b\b\b\b\b\b\b\b\b\b\b\b\b\b\b\b\b\b\b\b\b\b\b\b\b\b\b\b\b\b\b\b\b\b\b\b\b\b\b\b\b\b\b\b\b\b\b\b\b\b\b\b\b\b\b\b\b\b\b\b\b\b\b\b\b\b\b\r3392/3392 [==============================] - 1s 234us/step - loss: 0.1264 - acc: 0.9853 - val_loss: 2.6126 - val_acc: 0.2780\n"
     ]
    },
    {
     "name": "stdout",
     "output_type": "stream",
     "text": [
      "Epoch 13/300\n\r 798/3392 [======>.......................] - ETA: 0s - loss: 0.0909 - acc: 0.9962"
     ]
    },
    {
     "name": "stdout",
     "output_type": "stream",
     "text": [
      "\b\b\b\b\b\b\b\b\b\b\b\b\b\b\b\b\b\b\b\b\b\b\b\b\b\b\b\b\b\b\b\b\b\b\b\b\b\b\b\b\b\b\b\b\b\b\b\b\b\b\b\b\b\b\b\b\b\b\b\b\b\b\b\b\b\b\b\b\b\b\b\b\b\b\b\b\b\b\b\b\b\r1596/3392 [=============>................] - ETA: 0s - loss: 0.0928 - acc: 0.9944"
     ]
    },
    {
     "name": "stdout",
     "output_type": "stream",
     "text": [
      "\b\b\b\b\b\b\b\b\b\b\b\b\b\b\b\b\b\b\b\b\b\b\b\b\b\b\b\b\b\b\b\b\b\b\b\b\b\b\b\b\b\b\b\b\b\b\b\b\b\b\b\b\b\b\b\b\b\b\b\b\b\b\b\b\b\b\b\b\b\b\b\b\b\b\b\b\b\b\b\b\b\r2394/3392 [====================>.........] - ETA: 0s - loss: 0.0885 - acc: 0.9950"
     ]
    },
    {
     "name": "stdout",
     "output_type": "stream",
     "text": [
      "\b\b\b\b\b\b\b\b\b\b\b\b\b\b\b\b\b\b\b\b\b\b\b\b\b\b\b\b\b\b\b\b\b\b\b\b\b\b\b\b\b\b\b\b\b\b\b\b\b\b\b\b\b\b\b\b\b\b\b\b\b\b\b\b\b\b\b\b\b\b\b\b\b\b\b\b\b\b\b\b\b\r3192/3392 [===========================>..] - ETA: 0s - loss: 0.0830 - acc: 0.9956"
     ]
    },
    {
     "name": "stdout",
     "output_type": "stream",
     "text": [
      "\b\b\b\b\b\b\b\b\b\b\b\b\b\b\b\b\b\b\b\b\b\b\b\b\b\b\b\b\b\b\b\b\b\b\b\b\b\b\b\b\b\b\b\b\b\b\b\b\b\b\b\b\b\b\b\b\b\b\b\b\b\b\b\b\b\b\b\b\b\b\b\b\b\b\b\b\b\b\b\b\b\r3392/3392 [==============================] - 1s 237us/step - loss: 0.0830 - acc: 0.9956 - val_loss: 2.8099 - val_acc: 0.2792\n"
     ]
    },
    {
     "name": "stdout",
     "output_type": "stream",
     "text": [
      "Epoch 14/300\n\r 798/3392 [======>.......................] - ETA: 0s - loss: 0.0677 - acc: 0.9925"
     ]
    },
    {
     "name": "stdout",
     "output_type": "stream",
     "text": [
      "\b\b\b\b\b\b\b\b\b\b\b\b\b\b\b\b\b\b\b\b\b\b\b\b\b\b\b\b\b\b\b\b\b\b\b\b\b\b\b\b\b\b\b\b\b\b\b\b\b\b\b\b\b\b\b\b\b\b\b\b\b\b\b\b\b\b\b\b\b\b\b\b\b\b\b\b\b\b\b\b\b\r1596/3392 [=============>................] - ETA: 0s - loss: 0.0617 - acc: 0.9925"
     ]
    },
    {
     "name": "stdout",
     "output_type": "stream",
     "text": [
      "\b\b\b\b\b\b\b\b\b\b\b\b\b\b\b\b\b\b\b\b\b\b\b\b\b\b\b\b\b\b\b\b\b\b\b\b\b\b\b\b\b\b\b\b\b\b\b\b\b\b\b\b\b\b\b\b\b\b\b\b\b\b\b\b\b\b\b\b\b\b\b\b\b\b\b\b\b\b\b\b\b\r2394/3392 [====================>.........] - ETA: 0s - loss: 0.0619 - acc: 0.9929"
     ]
    },
    {
     "name": "stdout",
     "output_type": "stream",
     "text": [
      "\b\b\b\b\b\b\b\b\b\b\b\b\b\b\b\b\b\b\b\b\b\b\b\b\b\b\b\b\b\b\b\b\b\b\b\b\b\b\b\b\b\b\b\b\b\b\b\b\b\b\b\b\b\b\b\b\b\b\b\b\b\b\b\b\b\b\b\b\b\b\b\b\b\b\b\b\b\b\b\b\b\r3192/3392 [===========================>..] - ETA: 0s - loss: 0.0588 - acc: 0.9937"
     ]
    },
    {
     "name": "stdout",
     "output_type": "stream",
     "text": [
      "\b\b\b\b\b\b\b\b\b\b\b\b\b\b\b\b\b\b\b\b\b\b\b\b\b\b\b\b\b\b\b\b\b\b\b\b\b\b\b\b\b\b\b\b\b\b\b\b\b\b\b\b\b\b\b\b\b\b\b\b\b\b\b\b\b\b\b\b\b\b\b\b\b\b\b\b\b\b\b\b\b\r3392/3392 [==============================] - 1s 204us/step - loss: 0.0579 - acc: 0.9941 - val_loss: 2.8058 - val_acc: 0.2862\n"
     ]
    },
    {
     "name": "stdout",
     "output_type": "stream",
     "text": [
      "Epoch 15/300\n"
     ]
    },
    {
     "name": "stdout",
     "output_type": "stream",
     "text": [
      "\r 798/3392 [======>.......................] - ETA: 0s - loss: 0.0395 - acc: 0.9975"
     ]
    },
    {
     "name": "stdout",
     "output_type": "stream",
     "text": [
      "\b\b\b\b\b\b\b\b\b\b\b\b\b\b\b\b\b\b\b\b\b\b\b\b\b\b\b\b\b\b\b\b\b\b\b\b\b\b\b\b\b\b\b\b\b\b\b\b\b\b\b\b\b\b\b\b\b\b\b\b\b\b\b\b\b\b\b\b\b\b\b\b\b\b\b\b\b\b\b\b\b\r1596/3392 [=============>................] - ETA: 0s - loss: 0.0395 - acc: 0.9981"
     ]
    },
    {
     "name": "stdout",
     "output_type": "stream",
     "text": [
      "\b\b\b\b\b\b\b\b\b\b\b\b\b\b\b\b\b\b\b\b\b\b\b\b\b\b\b\b\b\b\b\b\b\b\b\b\b\b\b\b\b\b\b\b\b\b\b\b\b\b\b\b\b\b\b\b\b\b\b\b\b\b\b\b\b\b\b\b\b\b\b\b\b\b\b\b\b\b\b\b\b\r2394/3392 [====================>.........] - ETA: 0s - loss: 0.0383 - acc: 0.9983"
     ]
    },
    {
     "name": "stdout",
     "output_type": "stream",
     "text": [
      "\b\b\b\b\b\b\b\b\b\b\b\b\b\b\b\b\b\b\b\b\b\b\b\b\b\b\b\b\b\b\b\b\b\b\b\b\b\b\b\b\b\b\b\b\b\b\b\b\b\b\b\b\b\b\b\b\b\b\b\b\b\b\b\b\b\b\b\b\b\b\b\b\b\b\b\b\b\b\b\b\b\r3192/3392 [===========================>..] - ETA: 0s - loss: 0.0367 - acc: 0.9987"
     ]
    },
    {
     "name": "stdout",
     "output_type": "stream",
     "text": [
      "\b\b\b\b\b\b\b\b\b\b\b\b\b\b\b\b\b\b\b\b\b\b\b\b\b\b\b\b\b\b\b\b\b\b\b\b\b\b\b\b\b\b\b\b\b\b\b\b\b\b\b\b\b\b\b\b\b\b\b\b\b\b\b\b\b\b\b\b\b\b\b\b\b\b\b\b\b\b\b\b\b\r3392/3392 [==============================] - 1s 235us/step - loss: 0.0367 - acc: 0.9988 - val_loss: 2.8695 - val_acc: 0.3015\n"
     ]
    },
    {
     "name": "stdout",
     "output_type": "stream",
     "text": [
      "Epoch 16/300\n"
     ]
    },
    {
     "name": "stdout",
     "output_type": "stream",
     "text": [
      "\r 798/3392 [======>.......................] - ETA: 0s - loss: 0.0271 - acc: 0.9987"
     ]
    },
    {
     "name": "stdout",
     "output_type": "stream",
     "text": [
      "\b\b\b\b\b\b\b\b\b\b\b\b\b\b\b\b\b\b\b\b\b\b\b\b\b\b\b\b\b\b\b\b\b\b\b\b\b\b\b\b\b\b\b\b\b\b\b\b\b\b\b\b\b\b\b\b\b\b\b\b\b\b\b\b\b\b\b\b\b\b\b\b\b\b\b\b\b\b\b\b\b\r1596/3392 [=============>................] - ETA: 0s - loss: 0.0257 - acc: 0.9994"
     ]
    },
    {
     "name": "stdout",
     "output_type": "stream",
     "text": [
      "\b\b\b\b\b\b\b\b\b\b\b\b\b\b\b\b\b\b\b\b\b\b\b\b\b\b\b\b\b\b\b\b\b\b\b\b\b\b\b\b\b\b\b\b\b\b\b\b\b\b\b\b\b\b\b\b\b\b\b\b\b\b\b\b\b\b\b\b\b\b\b\b\b\b\b\b\b\b\b\b\b\r2394/3392 [====================>.........] - ETA: 0s - loss: 0.0258 - acc: 0.9996"
     ]
    },
    {
     "name": "stdout",
     "output_type": "stream",
     "text": [
      "\b\b\b\b\b\b\b\b\b\b\b\b\b\b\b\b\b\b\b\b\b\b\b\b\b\b\b\b\b\b\b\b\b\b\b\b\b\b\b\b\b\b\b\b\b\b\b\b\b\b\b\b\b\b\b\b\b\b\b\b\b\b\b\b\b\b\b\b\b\b\b\b\b\b\b\b\b\b\b\b\b\r"
     ]
    },
    {
     "name": "stdout",
     "output_type": "stream",
     "text": [
      "3192/3392 [===========================>..] - ETA: 0s - loss: 0.0247 - acc: 0.9997"
     ]
    },
    {
     "name": "stdout",
     "output_type": "stream",
     "text": [
      "\b\b\b\b\b\b\b\b\b\b\b\b\b\b\b\b\b\b\b\b\b\b\b\b\b\b\b\b\b\b\b\b\b\b\b\b\b\b\b\b\b\b\b\b\b\b\b\b\b\b\b\b\b\b\b\b\b\b\b\b\b\b\b\b\b\b\b\b\b\b\b\b\b\b\b\b\b\b\b\b\b\r3392/3392 [==============================] - 1s 230us/step - loss: 0.0247 - acc: 0.9997 - val_loss: 2.9599 - val_acc: 0.2886\n"
     ]
    },
    {
     "name": "stdout",
     "output_type": "stream",
     "text": [
      "Epoch 17/300\n\r 798/3392 [======>.......................] - ETA: 0s - loss: 0.0198 - acc: 1.0000"
     ]
    },
    {
     "name": "stdout",
     "output_type": "stream",
     "text": [
      "\b\b\b\b\b\b\b\b\b\b\b\b\b\b\b\b\b\b\b\b\b\b\b\b\b\b\b\b\b\b\b\b\b\b\b\b\b\b\b\b\b\b\b\b\b\b\b\b\b\b\b\b\b\b\b\b\b\b\b\b\b\b\b\b\b\b\b\b\b\b\b\b\b\b\b\b\b\b\b\b\b\r1596/3392 [=============>................] - ETA: 0s - loss: 0.0194 - acc: 0.9994"
     ]
    },
    {
     "name": "stdout",
     "output_type": "stream",
     "text": [
      "\b\b\b\b\b\b\b\b\b\b\b\b\b\b\b\b\b\b\b\b\b\b\b\b\b\b\b\b\b\b\b\b\b\b\b\b\b\b\b\b\b\b\b\b\b\b\b\b\b\b\b\b\b\b\b\b\b\b\b\b\b\b\b\b\b\b\b\b\b\b\b\b\b\b\b\b\b\b\b\b\b\r2394/3392 [====================>.........] - ETA: 0s - loss: 0.0185 - acc: 0.9996"
     ]
    },
    {
     "name": "stdout",
     "output_type": "stream",
     "text": [
      "\b\b\b\b\b\b\b\b\b\b\b\b\b\b\b\b\b\b\b\b\b\b\b\b\b\b\b\b\b\b\b\b\b\b\b\b\b\b\b\b\b\b\b\b\b\b\b\b\b\b\b\b\b\b\b\b\b\b\b\b\b\b\b\b\b\b\b\b\b\b\b\b\b\b\b\b\b\b\b\b\b\r3192/3392 [===========================>..] - ETA: 0s - loss: 0.0183 - acc: 0.9997"
     ]
    },
    {
     "name": "stdout",
     "output_type": "stream",
     "text": [
      "\b\b\b\b\b\b\b\b\b\b\b\b\b\b\b\b\b\b\b\b\b\b\b\b\b\b\b\b\b\b\b\b\b\b\b\b\b\b\b\b\b\b\b\b\b\b\b\b\b\b\b\b\b\b\b\b\b\b\b\b\b\b\b\b\b\b\b\b\b\b\b\b\b\b\b\b\b\b\b\b\b"
     ]
    },
    {
     "name": "stdout",
     "output_type": "stream",
     "text": [
      "\r3392/3392 [==============================] - 1s 228us/step - loss: 0.0184 - acc: 0.9997 - val_loss: 3.0340 - val_acc: 0.2827\n"
     ]
    },
    {
     "name": "stdout",
     "output_type": "stream",
     "text": [
      "Epoch 18/300\n\r 798/3392 [======>.......................] - ETA: 0s - loss: 0.0178 - acc: 1.0000"
     ]
    },
    {
     "name": "stdout",
     "output_type": "stream",
     "text": [
      "\b\b\b\b\b\b\b\b\b\b\b\b\b\b\b\b\b\b\b\b\b\b\b\b\b\b\b\b\b\b\b\b\b\b\b\b\b\b\b\b\b\b\b\b\b\b\b\b\b\b\b\b\b\b\b\b\b\b\b\b\b\b\b\b\b\b\b\b\b\b\b\b\b\b\b\b\b\b\b\b\b\r1596/3392 [=============>................] - ETA: 0s - loss: 0.0157 - acc: 1.0000"
     ]
    },
    {
     "name": "stdout",
     "output_type": "stream",
     "text": [
      "\b\b\b\b\b\b\b\b\b\b\b\b\b\b\b\b\b\b\b\b\b\b\b\b\b\b\b\b\b\b\b\b\b\b\b\b\b\b\b\b\b\b\b\b\b\b\b\b\b\b\b\b\b\b\b\b\b\b\b\b\b\b\b\b\b\b\b\b\b\b\b\b\b\b\b\b\b\b\b\b\b\r2394/3392 [====================>.........] - ETA: 0s - loss: 0.0143 - acc: 1.0000"
     ]
    },
    {
     "name": "stdout",
     "output_type": "stream",
     "text": [
      "\b\b\b\b\b\b\b\b\b\b\b\b\b\b\b\b\b\b\b\b\b\b\b\b\b\b\b\b\b\b\b\b\b\b\b\b\b\b\b\b\b\b\b\b\b\b\b\b\b\b\b\b\b\b\b\b\b\b\b\b\b\b\b\b\b\b\b\b\b\b\b\b\b\b\b\b\b\b\b\b\b\r3192/3392 [===========================>..] - ETA: 0s - loss: 0.0136 - acc: 1.0000"
     ]
    },
    {
     "name": "stdout",
     "output_type": "stream",
     "text": [
      "\b\b\b\b\b\b\b\b\b\b\b\b\b\b\b\b\b\b\b\b\b\b\b\b\b\b\b\b\b\b\b\b\b\b\b\b\b\b\b\b\b\b\b\b\b\b\b\b\b\b\b\b\b\b\b\b\b\b\b\b\b\b\b\b\b\b\b\b\b\b\b\b\b\b\b\b\b\b\b\b\b\r3392/3392 [==============================] - 1s 220us/step - loss: 0.0135 - acc: 1.0000 - val_loss: 3.0689 - val_acc: 0.3004\n"
     ]
    },
    {
     "name": "stdout",
     "output_type": "stream",
     "text": [
      "Epoch 19/300\n\r 798/3392 [======>.......................] - ETA: 0s - loss: 0.0104 - acc: 1.0000"
     ]
    },
    {
     "name": "stdout",
     "output_type": "stream",
     "text": [
      "\b\b\b\b\b\b\b\b\b\b\b\b\b\b\b\b\b\b\b\b\b\b\b\b\b\b\b\b\b\b\b\b\b\b\b\b\b\b\b\b\b\b\b\b\b\b\b\b\b\b\b\b\b\b\b\b\b\b\b\b\b\b\b\b\b\b\b\b\b\b\b\b\b\b\b\b\b\b\b\b\b\r1596/3392 [=============>................] - ETA: 0s - loss: 0.0107 - acc: 1.0000"
     ]
    },
    {
     "name": "stdout",
     "output_type": "stream",
     "text": [
      "\b\b\b\b\b\b\b\b\b\b\b\b\b\b\b\b\b\b\b\b\b\b\b\b\b\b\b\b\b\b\b\b\b\b\b\b\b\b\b\b\b\b\b\b\b\b\b\b\b\b\b\b\b\b\b\b\b\b\b\b\b\b\b\b\b\b\b\b\b\b\b\b\b\b\b\b\b\b\b\b\b"
     ]
    },
    {
     "name": "stdout",
     "output_type": "stream",
     "text": [
      "\r2394/3392 [====================>.........] - ETA: 0s - loss: 0.0106 - acc: 1.0000"
     ]
    },
    {
     "name": "stdout",
     "output_type": "stream",
     "text": [
      "\b\b\b\b\b\b\b\b\b\b\b\b\b\b\b\b\b\b\b\b\b\b\b\b\b\b\b\b\b\b\b\b\b\b\b\b\b\b\b\b\b\b\b\b\b\b\b\b\b\b\b\b\b\b\b\b\b\b\b\b\b\b\b\b\b\b\b\b\b\b\b\b\b\b\b\b\b\b\b\b\b\r3192/3392 [===========================>..] - ETA: 0s - loss: 0.0106 - acc: 1.0000"
     ]
    },
    {
     "name": "stdout",
     "output_type": "stream",
     "text": [
      "\b\b\b\b\b\b\b\b\b\b\b\b\b\b\b\b\b\b\b\b\b\b\b\b\b\b\b\b\b\b\b\b\b\b\b\b\b\b\b\b\b\b\b\b\b\b\b\b\b\b\b\b\b\b\b\b\b\b\b\b\b\b\b\b\b\b\b\b\b\b\b\b\b\b\b\b\b\b\b\b\b\r3392/3392 [==============================] - 1s 245us/step - loss: 0.0106 - acc: 1.0000 - val_loss: 3.0467 - val_acc: 0.2956\n"
     ]
    },
    {
     "name": "stdout",
     "output_type": "stream",
     "text": [
      "Epoch 20/300\n\r 798/3392 [======>.......................] - ETA: 0s - loss: 0.0091 - acc: 1.0000"
     ]
    },
    {
     "name": "stdout",
     "output_type": "stream",
     "text": [
      "\b\b\b\b\b\b\b\b\b\b\b\b\b\b\b\b\b\b\b\b\b\b\b\b\b\b\b\b\b\b\b\b\b\b\b\b\b\b\b\b\b\b\b\b\b\b\b\b\b\b\b\b\b\b\b\b\b\b\b\b\b\b\b\b\b\b\b\b\b\b\b\b\b\b\b\b\b\b\b\b\b\r1596/3392 [=============>................] - ETA: 0s - loss: 0.0086 - acc: 1.0000"
     ]
    },
    {
     "name": "stdout",
     "output_type": "stream",
     "text": [
      "\b\b\b\b\b\b\b\b\b\b\b\b\b\b\b\b\b\b\b\b\b\b\b\b\b\b\b\b\b\b\b\b\b\b\b\b\b\b\b\b\b\b\b\b\b\b\b\b\b\b\b\b\b\b\b\b\b\b\b\b\b\b\b\b\b\b\b\b\b\b\b\b\b\b\b\b\b\b\b\b\b\r2394/3392 [====================>.........] - ETA: 0s - loss: 0.0084 - acc: 1.0000"
     ]
    },
    {
     "name": "stdout",
     "output_type": "stream",
     "text": [
      "\b\b\b\b\b\b\b\b\b\b\b\b\b\b\b\b\b\b\b\b\b\b\b\b\b\b\b\b\b\b\b\b\b\b\b\b\b\b\b\b\b\b\b\b\b\b\b\b\b\b\b\b\b\b\b\b\b\b\b\b\b\b\b\b\b\b\b\b\b\b\b\b\b\b\b\b\b\b\b\b\b\r3192/3392 [===========================>..] - ETA: 0s - loss: 0.0084 - acc: 1.0000"
     ]
    },
    {
     "name": "stdout",
     "output_type": "stream",
     "text": [
      "\b\b\b\b\b\b\b\b\b\b\b\b\b\b\b\b\b\b\b\b\b\b\b\b\b\b\b\b\b\b\b\b\b\b\b\b\b\b\b\b\b\b\b\b\b\b\b\b\b\b\b\b\b\b\b\b\b\b\b\b\b\b\b\b\b\b\b\b\b\b\b\b\b\b\b\b\b\b\b\b\b\r3392/3392 [==============================] - 1s 414us/step - loss: 0.0085 - acc: 1.0000 - val_loss: 3.0833 - val_acc: 0.2909\n"
     ]
    },
    {
     "name": "stdout",
     "output_type": "stream",
     "text": [
      "Epoch 21/300\n\r 798/3392 [======>.......................] - ETA: 0s - loss: 0.0074 - acc: 1.0000"
     ]
    },
    {
     "name": "stdout",
     "output_type": "stream",
     "text": [
      "\b\b\b\b\b\b\b\b\b\b\b\b\b\b\b\b\b\b\b\b\b\b\b\b\b\b\b\b\b\b\b\b\b\b\b\b\b\b\b\b\b\b\b\b\b\b\b\b\b\b\b\b\b\b\b\b\b\b\b\b\b\b\b\b\b\b\b\b\b\b\b\b\b\b\b\b\b\b\b\b\b\r1596/3392 [=============>................] - ETA: 0s - loss: 0.0073 - acc: 1.0000"
     ]
    },
    {
     "name": "stdout",
     "output_type": "stream",
     "text": [
      "\b\b\b\b\b\b\b\b\b\b\b\b\b\b\b\b\b\b\b\b\b\b\b\b\b\b\b\b\b\b\b\b\b\b\b\b\b\b\b\b\b\b\b\b\b\b\b\b\b\b\b\b\b\b\b\b\b\b\b\b\b\b\b\b\b\b\b\b\b\b\b\b\b\b\b\b\b\b\b\b\b\r2394/3392 [====================>.........] - ETA: 0s - loss: 0.0074 - acc: 1.0000"
     ]
    },
    {
     "name": "stdout",
     "output_type": "stream",
     "text": [
      "\b\b\b\b\b\b\b\b\b\b\b\b\b\b\b\b\b\b\b\b\b\b\b\b\b\b\b\b\b\b\b\b\b\b\b\b\b\b\b\b\b\b\b\b\b\b\b\b\b\b\b\b\b\b\b\b\b\b\b\b\b\b\b\b\b\b\b\b\b\b\b\b\b\b\b\b\b\b\b\b\b\r3192/3392 [===========================>..] - ETA: 0s - loss: 0.0075 - acc: 1.0000"
     ]
    },
    {
     "name": "stdout",
     "output_type": "stream",
     "text": [
      "\b\b\b\b\b\b\b\b\b\b\b\b\b\b\b\b\b\b\b\b\b\b\b\b\b\b\b\b\b\b\b\b\b\b\b\b\b\b\b\b\b\b\b\b\b\b\b\b\b\b\b\b\b\b\b\b\b\b\b\b\b\b\b\b\b\b\b\b\b\b\b\b\b\b\b\b\b\b\b\b\b\r3392/3392 [==============================] - 1s 222us/step - loss: 0.0074 - acc: 1.0000 - val_loss: 3.1175 - val_acc: 0.2945\n"
     ]
    },
    {
     "name": "stdout",
     "output_type": "stream",
     "text": [
      "Epoch 22/300\n"
     ]
    },
    {
     "name": "stdout",
     "output_type": "stream",
     "text": [
      "\r 798/3392 [======>.......................] - ETA: 0s - loss: 0.0068 - acc: 1.0000"
     ]
    },
    {
     "name": "stdout",
     "output_type": "stream",
     "text": [
      "\b\b\b\b\b\b\b\b\b\b\b\b\b\b\b\b\b\b\b\b\b\b\b\b\b\b\b\b\b\b\b\b\b\b\b\b\b\b\b\b\b\b\b\b\b\b\b\b\b\b\b\b\b\b\b\b\b\b\b\b\b\b\b\b\b\b\b\b\b\b\b\b\b\b\b\b\b\b\b\b\b\r1596/3392 [=============>................] - ETA: 0s - loss: 0.0063 - acc: 1.0000"
     ]
    },
    {
     "name": "stdout",
     "output_type": "stream",
     "text": [
      "\b\b\b\b\b\b\b\b\b\b\b\b\b\b\b\b\b\b\b\b\b\b\b\b\b\b\b\b\b\b\b\b\b\b\b\b\b\b\b\b\b\b\b\b\b\b\b\b\b\b\b\b\b\b\b\b\b\b\b\b\b\b\b\b\b\b\b\b\b\b\b\b\b\b\b\b\b\b\b\b\b\r2394/3392 [====================>.........] - ETA: 0s - loss: 0.0064 - acc: 1.0000"
     ]
    },
    {
     "name": "stdout",
     "output_type": "stream",
     "text": [
      "\b\b\b\b\b\b\b\b\b\b\b\b\b\b\b\b\b\b\b\b\b\b\b\b\b\b\b\b\b\b\b\b\b\b\b\b\b\b\b\b\b\b\b\b\b\b\b\b\b\b\b\b\b\b\b\b\b\b\b\b\b\b\b\b\b\b\b\b\b\b\b\b\b\b\b\b\b\b\b\b\b\r3192/3392 [===========================>..] - ETA: 0s - loss: 0.0062 - acc: 1.0000"
     ]
    },
    {
     "name": "stdout",
     "output_type": "stream",
     "text": [
      "\b\b\b\b\b\b\b\b\b\b\b\b\b\b\b\b\b\b\b\b\b\b\b\b\b\b\b\b\b\b\b\b\b\b\b\b\b\b\b\b\b\b\b\b\b\b\b\b\b\b\b\b\b\b\b\b\b\b\b\b\b\b\b\b\b\b\b\b\b\b\b\b\b\b\b\b\b\b\b\b\b\r3392/3392 [==============================] - 1s 222us/step - loss: 0.0062 - acc: 1.0000 - val_loss: 3.1550 - val_acc: 0.2992\n"
     ]
    },
    {
     "name": "stdout",
     "output_type": "stream",
     "text": [
      "Epoch 23/300\n"
     ]
    },
    {
     "name": "stdout",
     "output_type": "stream",
     "text": [
      "\r 798/3392 [======>.......................] - ETA: 0s - loss: 0.0054 - acc: 1.0000"
     ]
    },
    {
     "name": "stdout",
     "output_type": "stream",
     "text": [
      "\b\b\b\b\b\b\b\b\b\b\b\b\b\b\b\b\b\b\b\b\b\b\b\b\b\b\b\b\b\b\b\b\b\b\b\b\b\b\b\b\b\b\b\b\b\b\b\b\b\b\b\b\b\b\b\b\b\b\b\b\b\b\b\b\b\b\b\b\b\b\b\b\b\b\b\b\b\b\b\b\b\r1596/3392 [=============>................] - ETA: 0s - loss: 0.0056 - acc: 1.0000"
     ]
    },
    {
     "name": "stdout",
     "output_type": "stream",
     "text": [
      "\b\b\b\b\b\b\b\b\b\b\b\b\b\b\b\b\b\b\b\b\b\b\b\b\b\b\b\b\b\b\b\b\b\b\b\b\b\b\b\b\b\b\b\b\b\b\b\b\b\b\b\b\b\b\b\b\b\b\b\b\b\b\b\b\b\b\b\b\b\b\b\b\b\b\b\b\b\b\b\b\b\r2394/3392 [====================>.........] - ETA: 0s - loss: 0.0055 - acc: 1.0000"
     ]
    },
    {
     "name": "stdout",
     "output_type": "stream",
     "text": [
      "\b\b\b\b\b\b\b\b\b\b\b\b\b\b\b\b\b\b\b\b\b\b\b\b\b\b\b\b\b\b\b\b\b\b\b\b\b\b\b\b\b\b\b\b\b\b\b\b\b\b\b\b\b\b\b\b\b\b\b\b\b\b\b\b\b\b\b\b\b\b\b\b\b\b\b\b\b\b\b\b\b\r3192/3392 [===========================>..] - ETA: 0s - loss: 0.0053 - acc: 1.0000"
     ]
    },
    {
     "name": "stdout",
     "output_type": "stream",
     "text": [
      "\b\b\b\b\b\b\b\b\b\b\b\b\b\b\b\b\b\b\b\b\b\b\b\b\b\b\b\b\b\b\b\b\b\b\b\b\b\b\b\b\b\b\b\b\b\b\b\b\b\b\b\b\b\b\b\b\b\b\b\b\b\b\b\b\b\b\b\b\b\b\b\b\b\b\b\b\b\b\b\b\b\r3392/3392 [==============================] - 1s 225us/step - loss: 0.0053 - acc: 1.0000 - val_loss: 3.1855 - val_acc: 0.3004\n"
     ]
    },
    {
     "name": "stdout",
     "output_type": "stream",
     "text": [
      "Epoch 00023: early stopping\n"
     ]
    }
   ],
   "source": [
    "seed = 23\n",
    "np.random.seed(23)\n",
    "dim = len(X[0])\n",
    "\n",
    "K.clear_session()\n",
    "model = Sequential()\n",
    "model.add(Dense(2000, input_dim=dim, activation=\"relu\"))\n",
    "model.add(Dropout(0.23))\n",
    "model.add(Dense(2000, activation=\"relu\"))\n",
    "model.add(Dropout(0.23))\n",
    "model.add(Dense(13, activation=\"softmax\"))\n",
    "model.compile(loss=\"categorical_crossentropy\", optimizer=\"adam\", metrics=[\"accuracy\"])\n",
    "# plot_model(model, to_file=\"/model/model.png\", show_shapes=True, show_layer_names=True)\n",
    "model.summary()\n",
    "early_stop = EarlyStopping(monitor='acc', patience=5, verbose=1)\n",
    "history = model.fit(X, dummy_y, validation_split=0.2, epochs=300, batch_size=798, callbacks=[early_stop])"
   ]
  },
  {
   "cell_type": "code",
   "execution_count": 14,
   "metadata": {},
   "outputs": [
    {
     "data": {
      "image/png": "[encoded data removed]",
      "text/plain": [
       "<Figure size 432x288 with 1 Axes>"
      ]
     },
     "metadata": {},
     "output_type": "display_data"
    }
   ],
   "source": [
    "plot_loss()"
   ]
  },
  {
   "cell_type": "code",
   "execution_count": 15,
   "metadata": {},
   "outputs": [
    {
     "data": {
      "image/png": "[encoded data removed]",
      "text/plain": [
       "<Figure size 432x288 with 1 Axes>"
      ]
     },
     "metadata": {},
     "output_type": "display_data"
    }
   ],
   "source": [
    "plot_acc()"
   ]
  },
  {
   "cell_type": "code",
   "execution_count": null,
   "metadata": {},
   "outputs": [],
   "source": []
  }
 ],
 "metadata": {
  "kernelspec": {
   "display_name": "Python 2",
   "language": "python",
   "name": "python2"
  },
  "language_info": {
   "codemirror_mode": {
    "name": "ipython",
    "version": 2
   },
   "file_extension": ".py",
   "mimetype": "text/x-python",
   "name": "python",
   "nbconvert_exporter": "python",
   "pygments_lexer": "ipython2",
   "version": "2.7.6"
  }
 },
 "nbformat": 4,
 "nbformat_minor": 0
}
