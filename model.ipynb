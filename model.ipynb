{
 "cells": [
  {
   "cell_type": "code",
   "execution_count": 9,
   "metadata": {
    "collapsed": true
   },
   "outputs": [],
   "source": [
    "#! /usr/bin/python3\n",
    "\n",
    "__author__ = \"Jun Hu <jh3846@columbia.edu\"\n",
    "__date__ = \"Apr 10, 2018\"\n",
    "\n",
    "import logging\n",
    "\n",
    "logger = logging.getLogger('etl')\n",
    "logger.setLevel(logging.DEBUG)\n",
    "\n",
    "ch = logging.StreamHandler()\n",
    "ch.setLevel(logging.DEBUG)\n",
    "\n",
    "formatter_c = logging.Formatter('[%(asctime)s]-[%(process)d]-[%(thread)d]-[%(name)s]-[%(lineno)s]-[%(levelname)s]: %(message)s')\n",
    "ch.setFormatter(formatter_c)\n",
    "\n",
    "logger.addHandler(ch)\n",
    "\n",
    "import pandas as pd\n",
    "import time\n",
    "\n",
    "from sklearn.feature_extraction.text import TfidfVectorizer"
   ]
  },
  {
   "cell_type": "code",
   "execution_count": 2,
   "metadata": {},
   "outputs": [],
   "source": [
    "df1 = pd.read_pickle(\"d1.pickle\")\n",
    "df2 = pd.read_pickle(\"d2.pickle\")\n",
    "df3 = pd.read_pickle(\"d3.pickle\")\n",
    "df4 = pd.read_pickle(\"d4.pickle\")\n",
    "df5 = pd.read_pickle(\"d5.pickle\")"
   ]
  },
  {
   "cell_type": "code",
   "execution_count": 55,
   "metadata": {},
   "outputs": [
    {
     "name": "stderr",
     "output_type": "stream",
     "text": [
      "[2018-04-24 17:30:53,052]-[11397]-[140735658623872]-[etl]-[2]-[DEBUG]: (4241, 17)\n"
     ]
    },
    {
     "name": "stderr",
     "output_type": "stream",
     "text": [
      "[2018-04-24 17:30:53,052]-[11397]-[140735658623872]-[etl]-[2]-[DEBUG]: (4241, 17)\n"
     ]
    },
    {
     "data": {
      "text/html": [
       "<div>\n",
       "<style scoped>\n",
       "    .dataframe tbody tr th:only-of-type {\n",
       "        vertical-align: middle;\n",
       "    }\n",
       "\n",
       "    .dataframe tbody tr th {\n",
       "        vertical-align: top;\n",
       "    }\n",
       "\n",
       "    .dataframe thead th {\n",
       "        text-align: right;\n",
       "    }\n",
       "</style>\n",
       "<table border=\"1\" class=\"dataframe\">\n",
       "  <thead>\n",
       "    <tr style=\"text-align: right;\">\n",
       "      <th></th>\n",
       "      <th>cancer</th>\n",
       "      <th>unigram</th>\n",
       "      <th>bigram</th>\n",
       "      <th>trigram</th>\n",
       "      <th>four_gram</th>\n",
       "      <th>five_gram</th>\n",
       "      <th>six_gram</th>\n",
       "      <th>trigram_skip2</th>\n",
       "      <th>trigram_skip3</th>\n",
       "      <th>unigram_cls</th>\n",
       "      <th>bigram_cls</th>\n",
       "      <th>trigram_cls</th>\n",
       "      <th>four_gram_cls</th>\n",
       "      <th>five_gram_cls</th>\n",
       "      <th>six_gram_cls</th>\n",
       "      <th>trigram_cls_skip2</th>\n",
       "      <th>trigram_cls_skip3</th>\n",
       "    </tr>\n",
       "  </thead>\n",
       "  <tbody>\n",
       "    <tr>\n",
       "      <th>0</th>\n",
       "      <td>THCA</td>\n",
       "      <td>D Y W G Q G R S D D T A V Y F C G D S P P F F ...</td>\n",
       "      <td>DY YW WG GQ QG RS SD DD DT TA AV VY YF FC GD D...</td>\n",
       "      <td>DYW YWG WGQ GQG RSD SDD DDT DTA TAV AVY VYF YF...</td>\n",
       "      <td>DYWG YWGQ WGQG RSDD SDDT DDTA DTAV TAVY AVYF V...</td>\n",
       "      <td>DYWGQ YWGQG RSDDT SDDTA DDTAV DTAVY TAVYF AVYF...</td>\n",
       "      <td>DYWGQG RSDDTA SDDTAV DDTAVY DTAVYF TAVYFC GDSP...</td>\n",
       "      <td>DWQ YGG RDT SDA DTV DAY TVF AYC GSP DPF SPF PF...</td>\n",
       "      <td>RTF SAC GPY DFW SFG PDQ PYG RTF SAC DVA DYR TF...</td>\n",
       "      <td>4 Y W G 5 G 6 3 4 4 3 1 1 Y F 2 G 4 3 P P F F ...</td>\n",
       "      <td>4Y YW WG G5 5G 63 34 44 43 31 11 1Y YF F2 G4 4...</td>\n",
       "      <td>4YW YWG WG5 G5G 634 344 443 431 311 11Y 1YF YF...</td>\n",
       "      <td>4YWG YWG5 WG5G 6344 3443 4431 4311 311Y 11YF 1...</td>\n",
       "      <td>4YWG5 YWG5G 63443 34431 44311 4311Y 311YF 11YF...</td>\n",
       "      <td>4YWG5G 634431 344311 44311Y 4311YF 311YF2 G43P...</td>\n",
       "      <td>4W5 YGG 643 341 431 41Y 31F 1Y2 G3P 4PF 3PF PF...</td>\n",
       "      <td>63F 312 GPY 4FW 3FG P45 PYG 63F 312 411 4Y6 3F...</td>\n",
       "    </tr>\n",
       "    <tr>\n",
       "      <th>1</th>\n",
       "      <td>LUSC</td>\n",
       "      <td>Y Y C A R G V V Y Y C A R V G Y Y Y D S S D Y ...</td>\n",
       "      <td>YY YC CA AR RG GV VV YY YC CA AR RV VG GY YY Y...</td>\n",
       "      <td>YYC YCA CAR ARG RGV GVV YYC YCA CAR ARV RVG VG...</td>\n",
       "      <td>YYCA YCAR CARG ARGV RGVV YYCA YCAR CARV ARVG R...</td>\n",
       "      <td>YYCAR YCARG CARGV ARGVV YYCAR YCARV CARVG ARVG...</td>\n",
       "      <td>YYCARG YCARGV CARGVV YYCARV YCARVG CARVGY ARVG...</td>\n",
       "      <td>YCR YAG CRV AGV YCR YAV CRG AVY RGY VYY GYD YY...</td>\n",
       "      <td>YRY YVY CGD AYS RYS VYD GDY YSP YSM YSL CLR AW...</td>\n",
       "      <td>Y Y 2 1 6 G 1 1 Y Y 2 1 6 1 G Y Y Y 4 3 3 4 Y ...</td>\n",
       "      <td>YY Y2 21 16 6G G1 11 YY Y2 21 16 61 1G GY YY Y...</td>\n",
       "      <td>YY2 Y21 216 16G 6G1 G11 YY2 Y21 216 161 61G 1G...</td>\n",
       "      <td>YY21 Y216 216G 16G1 6G11 YY21 Y216 2161 161G 6...</td>\n",
       "      <td>YY216 Y216G 216G1 16G11 YY216 Y2161 2161G 161G...</td>\n",
       "      <td>YY216G Y216G1 216G11 YY2161 Y2161G 2161GY 161G...</td>\n",
       "      <td>Y26 Y1G 261 1G1 Y26 Y11 26G 11Y 6GY 1YY GY4 YY...</td>\n",
       "      <td>Y6Y Y1Y 2G4 1Y3 6Y3 1Y4 G4Y Y3P Y32 Y31 216 1W...</td>\n",
       "    </tr>\n",
       "    <tr>\n",
       "      <th>2</th>\n",
       "      <td>OV</td>\n",
       "      <td>R E H S S S S W Y F D Y W G Q G Y Y C A R H E ...</td>\n",
       "      <td>RE EH HS SS SS SS SW WY YF FD DY YW WG GQ QG Y...</td>\n",
       "      <td>REH EHS HSS SSS SSS SSW SWY WYF YFD FDY DYW YW...</td>\n",
       "      <td>REHS EHSS HSSS SSSS SSSW SSWY SWYF WYFD YFDY F...</td>\n",
       "      <td>REHSS EHSSS HSSSS SSSSW SSSWY SSWYF SWYFD WYFD...</td>\n",
       "      <td>REHSSS EHSSSS HSSSSW SSSSWY SSSWYF SSWYFD SWYF...</td>\n",
       "      <td>RHS ESS HSS SSW SSY SWF SYD WFY YDW FYG DWQ YG...</td>\n",
       "      <td>RSY ESF HSD SWY SYW SFG SDQ WYG YRG YHQ CES AD...</td>\n",
       "      <td>6 4 6 3 3 3 3 W Y F 4 Y W G 5 G Y Y 2 1 6 6 4 ...</td>\n",
       "      <td>64 46 63 33 33 33 3W WY YF F4 4Y YW WG G5 5G Y...</td>\n",
       "      <td>646 463 633 333 333 33W 3WY WYF YF4 F4Y 4YW YW...</td>\n",
       "      <td>6463 4633 6333 3333 333W 33WY 3WYF WYF4 YF4Y F...</td>\n",
       "      <td>64633 46333 63333 3333W 333WY 33WYF 3WYF4 WYF4...</td>\n",
       "      <td>646333 463333 63333W 3333WY 333WYF 33WYF4 3WYF...</td>\n",
       "      <td>663 433 633 33W 33Y 3WF 3Y4 WFY Y4W FYG 4W5 YG...</td>\n",
       "      <td>63Y 43F 634 3WY 3YW 3FG 345 WYG Y6G Y65 243 14...</td>\n",
       "    </tr>\n",
       "    <tr>\n",
       "      <th>3</th>\n",
       "      <td>COAD</td>\n",
       "      <td>D Y Y F D Y W G Q G Y Y C A R E P N G P A Y Y ...</td>\n",
       "      <td>DY YY YF FD DY YW WG GQ QG YY YC CA AR RE EP P...</td>\n",
       "      <td>DYY YYF YFD FDY DYW YWG WGQ GQG YYC YCA CAR AR...</td>\n",
       "      <td>DYYF YYFD YFDY FDYW DYWG YWGQ WGQG YYCA YCAR C...</td>\n",
       "      <td>DYYFD YYFDY YFDYW FDYWG DYWGQ YWGQG YYCAR YCAR...</td>\n",
       "      <td>DYYFDY YYFDYW YFDYWG FDYWGQ DYWGQG YYCARE YCAR...</td>\n",
       "      <td>DYD YFY YDW FYG DWQ YGG YCR YAE CRP AEN RPG EN...</td>\n",
       "      <td>DDQ YYG YRG YEP AYV YGW YMG YDQ YVG DYK TYE AY...</td>\n",
       "      <td>4 Y Y F 4 Y W G 5 G Y Y 2 1 6 4 P 5 G P 1 Y Y ...</td>\n",
       "      <td>4Y YY YF F4 4Y YW WG G5 5G YY Y2 21 16 64 4P P...</td>\n",
       "      <td>4YY YYF YF4 F4Y 4YW YWG WG5 G5G YY2 Y21 216 16...</td>\n",
       "      <td>4YYF YYF4 YF4Y F4YW 4YWG YWG5 WG5G YY21 Y216 2...</td>\n",
       "      <td>4YYF4 YYF4Y YF4YW F4YWG 4YWG5 YWG5G YY216 Y216...</td>\n",
       "      <td>4YYF4Y YYF4YW YF4YWG F4YWG5 4YWG5G YY2164 Y216...</td>\n",
       "      <td>4Y4 YFY Y4W FYG 4W5 YGG Y26 Y14 26P 145 6PG 45...</td>\n",
       "      <td>445 YYG Y6G Y4P 1Y1 YGW Y2G Y45 Y1G 4Y6 3Y4 1Y...</td>\n",
       "    </tr>\n",
       "    <tr>\n",
       "      <th>4</th>\n",
       "      <td>THCA</td>\n",
       "      <td>Y S S G S T L D Y W G Q G Y Y Y G M D V W G Q ...</td>\n",
       "      <td>YS SS SG GS ST TL LD DY YW WG GQ QG YY YY YG G...</td>\n",
       "      <td>YSS SSG SGS GST STL TLD LDY DYW YWG WGQ GQG YY...</td>\n",
       "      <td>YSSG SSGS SGST GSTL STLD TLDY LDYW DYWG YWGQ W...</td>\n",
       "      <td>YSSGS SSGST SGSTL GSTLD STLDY TLDYW LDYWG DYWG...</td>\n",
       "      <td>YSSGST SSGSTL SGSTLD GSTLDY STLDYW TLDYWG LDYW...</td>\n",
       "      <td>YSS SGT SSL GTD SLY TDW LYG DWQ YGG YYM YGD YM...</td>\n",
       "      <td>YSY STW SLG GDQ SYG YMG YDQ YVG EYV TGW NMG YD...</td>\n",
       "      <td>Y 3 3 G 3 3 1 4 Y W G 5 G Y Y Y G 2 4 1 W G 5 ...</td>\n",
       "      <td>Y3 33 3G G3 33 31 14 4Y YW WG G5 5G YY YY YG G...</td>\n",
       "      <td>Y33 33G 3G3 G33 331 314 14Y 4YW YWG WG5 G5G YY...</td>\n",
       "      <td>Y33G 33G3 3G33 G331 3314 314Y 14YW 4YWG YWG5 W...</td>\n",
       "      <td>Y33G3 33G33 3G331 G3314 3314Y 314YW 14YWG 4YWG...</td>\n",
       "      <td>Y33G33 33G331 3G3314 G3314Y 3314YW 314YWG 14YW...</td>\n",
       "      <td>Y33 3G3 331 G34 31Y 34W 1YG 4W5 YGG YY2 YG4 Y2...</td>\n",
       "      <td>Y3Y 33W 31G G45 3YG Y2G Y45 Y1G 4Y1 3GW 52G Y4...</td>\n",
       "    </tr>\n",
       "  </tbody>\n",
       "</table>\n",
       "</div>"
      ],
      "text/plain": [
       "<div>\n",
       "<style scoped>\n",
       "    .dataframe tbody tr th:only-of-type {\n",
       "        vertical-align: middle;\n",
       "    }\n",
       "\n",
       "    .dataframe tbody tr th {\n",
       "        vertical-align: top;\n",
       "    }\n",
       "\n",
       "    .dataframe thead th {\n",
       "        text-align: right;\n",
       "    }\n",
       "</style>\n",
       "<table border=\"1\" class=\"dataframe\">\n",
       "  <thead>\n",
       "    <tr style=\"text-align: right;\">\n",
       "      <th></th>\n",
       "      <th>cancer</th>\n",
       "      <th>unigram</th>\n",
       "      <th>bigram</th>\n",
       "      <th>trigram</th>\n",
       "      <th>four_gram</th>\n",
       "      <th>five_gram</th>\n",
       "      <th>six_gram</th>\n",
       "      <th>trigram_skip2</th>\n",
       "      <th>trigram_skip3</th>\n",
       "      <th>unigram_cls</th>\n",
       "      <th>bigram_cls</th>\n",
       "      <th>trigram_cls</th>\n",
       "      <th>four_gram_cls</th>\n",
       "      <th>five_gram_cls</th>\n",
       "      <th>six_gram_cls</th>\n",
       "      <th>trigram_cls_skip2</th>\n",
       "      <th>trigram_cls_skip3</th>\n",
       "    </tr>\n",
       "  </thead>\n",
       "  <tbody>\n",
       "    <tr>\n",
       "      <th>0</th>\n",
       "      <td>THCA</td>\n",
       "      <td>D Y W G Q G R S D D T A V Y F C G D S P P F F ...</td>\n",
       "      <td>DY YW WG GQ QG RS SD DD DT TA AV VY YF FC GD D...</td>\n",
       "      <td>DYW YWG WGQ GQG RSD SDD DDT DTA TAV AVY VYF YF...</td>\n",
       "      <td>DYWG YWGQ WGQG RSDD SDDT DDTA DTAV TAVY AVYF V...</td>\n",
       "      <td>DYWGQ YWGQG RSDDT SDDTA DDTAV DTAVY TAVYF AVYF...</td>\n",
       "      <td>DYWGQG RSDDTA SDDTAV DDTAVY DTAVYF TAVYFC GDSP...</td>\n",
       "      <td>DWQ YGG RDT SDA DTV DAY TVF AYC GSP DPF SPF PF...</td>\n",
       "      <td>RTF SAC GPY DFW SFG PDQ PYG RTF SAC DVA DYR TF...</td>\n",
       "      <td>4 Y W G 5 G 6 3 4 4 3 1 1 Y F 2 G 4 3 P P F F ...</td>\n",
       "      <td>4Y YW WG G5 5G 63 34 44 43 31 11 1Y YF F2 G4 4...</td>\n",
       "      <td>4YW YWG WG5 G5G 634 344 443 431 311 11Y 1YF YF...</td>\n",
       "      <td>4YWG YWG5 WG5G 6344 3443 4431 4311 311Y 11YF 1...</td>\n",
       "      <td>4YWG5 YWG5G 63443 34431 44311 4311Y 311YF 11YF...</td>\n",
       "      <td>4YWG5G 634431 344311 44311Y 4311YF 311YF2 G43P...</td>\n",
       "      <td>4W5 YGG 643 341 431 41Y 31F 1Y2 G3P 4PF 3PF PF...</td>\n",
       "      <td>63F 312 GPY 4FW 3FG P45 PYG 63F 312 411 4Y6 3F...</td>\n",
       "    </tr>\n",
       "    <tr>\n",
       "      <th>1</th>\n",
       "      <td>LUSC</td>\n",
       "      <td>Y Y C A R G V V Y Y C A R V G Y Y Y D S S D Y ...</td>\n",
       "      <td>YY YC CA AR RG GV VV YY YC CA AR RV VG GY YY Y...</td>\n",
       "      <td>YYC YCA CAR ARG RGV GVV YYC YCA CAR ARV RVG VG...</td>\n",
       "      <td>YYCA YCAR CARG ARGV RGVV YYCA YCAR CARV ARVG R...</td>\n",
       "      <td>YYCAR YCARG CARGV ARGVV YYCAR YCARV CARVG ARVG...</td>\n",
       "      <td>YYCARG YCARGV CARGVV YYCARV YCARVG CARVGY ARVG...</td>\n",
       "      <td>YCR YAG CRV AGV YCR YAV CRG AVY RGY VYY GYD YY...</td>\n",
       "      <td>YRY YVY CGD AYS RYS VYD GDY YSP YSM YSL CLR AW...</td>\n",
       "      <td>Y Y 2 1 6 G 1 1 Y Y 2 1 6 1 G Y Y Y 4 3 3 4 Y ...</td>\n",
       "      <td>YY Y2 21 16 6G G1 11 YY Y2 21 16 61 1G GY YY Y...</td>\n",
       "      <td>YY2 Y21 216 16G 6G1 G11 YY2 Y21 216 161 61G 1G...</td>\n",
       "      <td>YY21 Y216 216G 16G1 6G11 YY21 Y216 2161 161G 6...</td>\n",
       "      <td>YY216 Y216G 216G1 16G11 YY216 Y2161 2161G 161G...</td>\n",
       "      <td>YY216G Y216G1 216G11 YY2161 Y2161G 2161GY 161G...</td>\n",
       "      <td>Y26 Y1G 261 1G1 Y26 Y11 26G 11Y 6GY 1YY GY4 YY...</td>\n",
       "      <td>Y6Y Y1Y 2G4 1Y3 6Y3 1Y4 G4Y Y3P Y32 Y31 216 1W...</td>\n",
       "    </tr>\n",
       "    <tr>\n",
       "      <th>2</th>\n",
       "      <td>OV</td>\n",
       "      <td>R E H S S S S W Y F D Y W G Q G Y Y C A R H E ...</td>\n",
       "      <td>RE EH HS SS SS SS SW WY YF FD DY YW WG GQ QG Y...</td>\n",
       "      <td>REH EHS HSS SSS SSS SSW SWY WYF YFD FDY DYW YW...</td>\n",
       "      <td>REHS EHSS HSSS SSSS SSSW SSWY SWYF WYFD YFDY F...</td>\n",
       "      <td>REHSS EHSSS HSSSS SSSSW SSSWY SSWYF SWYFD WYFD...</td>\n",
       "      <td>REHSSS EHSSSS HSSSSW SSSSWY SSSWYF SSWYFD SWYF...</td>\n",
       "      <td>RHS ESS HSS SSW SSY SWF SYD WFY YDW FYG DWQ YG...</td>\n",
       "      <td>RSY ESF HSD SWY SYW SFG SDQ WYG YRG YHQ CES AD...</td>\n",
       "      <td>6 4 6 3 3 3 3 W Y F 4 Y W G 5 G Y Y 2 1 6 6 4 ...</td>\n",
       "      <td>64 46 63 33 33 33 3W WY YF F4 4Y YW WG G5 5G Y...</td>\n",
       "      <td>646 463 633 333 333 33W 3WY WYF YF4 F4Y 4YW YW...</td>\n",
       "      <td>6463 4633 6333 3333 333W 33WY 3WYF WYF4 YF4Y F...</td>\n",
       "      <td>64633 46333 63333 3333W 333WY 33WYF 3WYF4 WYF4...</td>\n",
       "      <td>646333 463333 63333W 3333WY 333WYF 33WYF4 3WYF...</td>\n",
       "      <td>663 433 633 33W 33Y 3WF 3Y4 WFY Y4W FYG 4W5 YG...</td>\n",
       "      <td>63Y 43F 634 3WY 3YW 3FG 345 WYG Y6G Y65 243 14...</td>\n",
       "    </tr>\n",
       "    <tr>\n",
       "      <th>3</th>\n",
       "      <td>COAD</td>\n",
       "      <td>D Y Y F D Y W G Q G Y Y C A R E P N G P A Y Y ...</td>\n",
       "      <td>DY YY YF FD DY YW WG GQ QG YY YC CA AR RE EP P...</td>\n",
       "      <td>DYY YYF YFD FDY DYW YWG WGQ GQG YYC YCA CAR AR...</td>\n",
       "      <td>DYYF YYFD YFDY FDYW DYWG YWGQ WGQG YYCA YCAR C...</td>\n",
       "      <td>DYYFD YYFDY YFDYW FDYWG DYWGQ YWGQG YYCAR YCAR...</td>\n",
       "      <td>DYYFDY YYFDYW YFDYWG FDYWGQ DYWGQG YYCARE YCAR...</td>\n",
       "      <td>DYD YFY YDW FYG DWQ YGG YCR YAE CRP AEN RPG EN...</td>\n",
       "      <td>DDQ YYG YRG YEP AYV YGW YMG YDQ YVG DYK TYE AY...</td>\n",
       "      <td>4 Y Y F 4 Y W G 5 G Y Y 2 1 6 4 P 5 G P 1 Y Y ...</td>\n",
       "      <td>4Y YY YF F4 4Y YW WG G5 5G YY Y2 21 16 64 4P P...</td>\n",
       "      <td>4YY YYF YF4 F4Y 4YW YWG WG5 G5G YY2 Y21 216 16...</td>\n",
       "      <td>4YYF YYF4 YF4Y F4YW 4YWG YWG5 WG5G YY21 Y216 2...</td>\n",
       "      <td>4YYF4 YYF4Y YF4YW F4YWG 4YWG5 YWG5G YY216 Y216...</td>\n",
       "      <td>4YYF4Y YYF4YW YF4YWG F4YWG5 4YWG5G YY2164 Y216...</td>\n",
       "      <td>4Y4 YFY Y4W FYG 4W5 YGG Y26 Y14 26P 145 6PG 45...</td>\n",
       "      <td>445 YYG Y6G Y4P 1Y1 YGW Y2G Y45 Y1G 4Y6 3Y4 1Y...</td>\n",
       "    </tr>\n",
       "    <tr>\n",
       "      <th>4</th>\n",
       "      <td>THCA</td>\n",
       "      <td>Y S S G S T L D Y W G Q G Y Y Y G M D V W G Q ...</td>\n",
       "      <td>YS SS SG GS ST TL LD DY YW WG GQ QG YY YY YG G...</td>\n",
       "      <td>YSS SSG SGS GST STL TLD LDY DYW YWG WGQ GQG YY...</td>\n",
       "      <td>YSSG SSGS SGST GSTL STLD TLDY LDYW DYWG YWGQ W...</td>\n",
       "      <td>YSSGS SSGST SGSTL GSTLD STLDY TLDYW LDYWG DYWG...</td>\n",
       "      <td>YSSGST SSGSTL SGSTLD GSTLDY STLDYW TLDYWG LDYW...</td>\n",
       "      <td>YSS SGT SSL GTD SLY TDW LYG DWQ YGG YYM YGD YM...</td>\n",
       "      <td>YSY STW SLG GDQ SYG YMG YDQ YVG EYV TGW NMG YD...</td>\n",
       "      <td>Y 3 3 G 3 3 1 4 Y W G 5 G Y Y Y G 2 4 1 W G 5 ...</td>\n",
       "      <td>Y3 33 3G G3 33 31 14 4Y YW WG G5 5G YY YY YG G...</td>\n",
       "      <td>Y33 33G 3G3 G33 331 314 14Y 4YW YWG WG5 G5G YY...</td>\n",
       "      <td>Y33G 33G3 3G33 G331 3314 314Y 14YW 4YWG YWG5 W...</td>\n",
       "      <td>Y33G3 33G33 3G331 G3314 3314Y 314YW 14YWG 4YWG...</td>\n",
       "      <td>Y33G33 33G331 3G3314 G3314Y 3314YW 314YWG 14YW...</td>\n",
       "      <td>Y33 3G3 331 G34 31Y 34W 1YG 4W5 YGG YY2 YG4 Y2...</td>\n",
       "      <td>Y3Y 33W 31G G45 3YG Y2G Y45 Y1G 4Y1 3GW 52G Y4...</td>\n",
       "    </tr>\n",
       "  </tbody>\n",
       "</table>\n",
       "</div>"
      ]
     },
     "execution_count": 55,
     "metadata": {},
     "output_type": "execute_result"
    }
   ],
   "source": [
    "df = pd.concat([df1, df2, df3, df4, df5], axis=1)\n",
    "logger.debug(df.shape)\n",
    "df.head()"
   ]
  },
  {
   "cell_type": "code",
   "execution_count": 56,
   "metadata": {},
   "outputs": [
    {
     "name": "stderr",
     "output_type": "stream",
     "text": [
      "[2018-04-24 17:32:34,796]-[11397]-[140735658623872]-[etl]-[12]-[DEBUG]: --- 80.86641097068787 seconds ---\n"
     ]
    },
    {
     "name": "stderr",
     "output_type": "stream",
     "text": [
      "[2018-04-24 17:32:34,796]-[11397]-[140735658623872]-[etl]-[12]-[DEBUG]: --- 80.86641097068787 seconds ---\n"
     ]
    },
    {
     "name": "stderr",
     "output_type": "stream",
     "text": [
      "[2018-04-24 17:34:01,559]-[11397]-[140735658623872]-[etl]-[12]-[DEBUG]: --- 86.76229095458984 seconds ---\n"
     ]
    },
    {
     "name": "stderr",
     "output_type": "stream",
     "text": [
      "[2018-04-24 17:34:01,559]-[11397]-[140735658623872]-[etl]-[12]-[DEBUG]: --- 86.76229095458984 seconds ---\n"
     ]
    },
    {
     "name": "stderr",
     "output_type": "stream",
     "text": [
      "[2018-04-24 17:35:34,378]-[11397]-[140735658623872]-[etl]-[12]-[DEBUG]: --- 92.8165488243103 seconds ---\n"
     ]
    },
    {
     "name": "stderr",
     "output_type": "stream",
     "text": [
      "[2018-04-24 17:35:34,378]-[11397]-[140735658623872]-[etl]-[12]-[DEBUG]: --- 92.8165488243103 seconds ---\n"
     ]
    },
    {
     "name": "stderr",
     "output_type": "stream",
     "text": [
      "[2018-04-24 17:37:13,820]-[11397]-[140735658623872]-[etl]-[12]-[DEBUG]: --- 99.43568730354309 seconds ---\n"
     ]
    },
    {
     "name": "stderr",
     "output_type": "stream",
     "text": [
      "[2018-04-24 17:37:13,820]-[11397]-[140735658623872]-[etl]-[12]-[DEBUG]: --- 99.43568730354309 seconds ---\n"
     ]
    },
    {
     "name": "stderr",
     "output_type": "stream",
     "text": [
      "[2018-04-24 17:39:06,972]-[11397]-[140735658623872]-[etl]-[12]-[DEBUG]: --- 113.1470639705658 seconds ---\n"
     ]
    },
    {
     "name": "stderr",
     "output_type": "stream",
     "text": [
      "[2018-04-24 17:39:06,972]-[11397]-[140735658623872]-[etl]-[12]-[DEBUG]: --- 113.1470639705658 seconds ---\n"
     ]
    },
    {
     "name": "stderr",
     "output_type": "stream",
     "text": [
      "[2018-04-24 17:41:58,275]-[11397]-[140735658623872]-[etl]-[12]-[DEBUG]: --- 171.3006227016449 seconds ---\n"
     ]
    },
    {
     "name": "stderr",
     "output_type": "stream",
     "text": [
      "[2018-04-24 17:41:58,275]-[11397]-[140735658623872]-[etl]-[12]-[DEBUG]: --- 171.3006227016449 seconds ---\n"
     ]
    },
    {
     "name": "stderr",
     "output_type": "stream",
     "text": [
      "[2018-04-24 17:43:21,869]-[11397]-[140735658623872]-[etl]-[12]-[DEBUG]: --- 83.58299684524536 seconds ---\n"
     ]
    },
    {
     "name": "stderr",
     "output_type": "stream",
     "text": [
      "[2018-04-24 17:43:21,869]-[11397]-[140735658623872]-[etl]-[12]-[DEBUG]: --- 83.58299684524536 seconds ---\n"
     ]
    },
    {
     "name": "stderr",
     "output_type": "stream",
     "text": [
      "[2018-04-24 17:44:07,806]-[11397]-[140735658623872]-[etl]-[12]-[DEBUG]: --- 45.931172132492065 seconds ---\n"
     ]
    },
    {
     "name": "stderr",
     "output_type": "stream",
     "text": [
      "[2018-04-24 17:44:07,806]-[11397]-[140735658623872]-[etl]-[12]-[DEBUG]: --- 45.931172132492065 seconds ---\n"
     ]
    },
    {
     "name": "stderr",
     "output_type": "stream",
     "text": [
      "[2018-04-24 17:45:29,110]-[11397]-[140735658623872]-[etl]-[12]-[DEBUG]: --- 81.30311894416809 seconds ---\n"
     ]
    },
    {
     "name": "stderr",
     "output_type": "stream",
     "text": [
      "[2018-04-24 17:45:29,110]-[11397]-[140735658623872]-[etl]-[12]-[DEBUG]: --- 81.30311894416809 seconds ---\n"
     ]
    },
    {
     "name": "stderr",
     "output_type": "stream",
     "text": [
      "[2018-04-24 17:47:03,497]-[11397]-[140735658623872]-[etl]-[12]-[DEBUG]: --- 94.38426280021667 seconds ---\n"
     ]
    },
    {
     "name": "stderr",
     "output_type": "stream",
     "text": [
      "[2018-04-24 17:47:03,497]-[11397]-[140735658623872]-[etl]-[12]-[DEBUG]: --- 94.38426280021667 seconds ---\n"
     ]
    },
    {
     "name": "stderr",
     "output_type": "stream",
     "text": [
      "[2018-04-24 17:48:32,719]-[11397]-[140735658623872]-[etl]-[12]-[DEBUG]: --- 89.22001194953918 seconds ---\n"
     ]
    },
    {
     "name": "stderr",
     "output_type": "stream",
     "text": [
      "[2018-04-24 17:48:32,719]-[11397]-[140735658623872]-[etl]-[12]-[DEBUG]: --- 89.22001194953918 seconds ---\n"
     ]
    },
    {
     "name": "stderr",
     "output_type": "stream",
     "text": [
      "[2018-04-24 17:50:09,805]-[11397]-[140735658623872]-[etl]-[12]-[DEBUG]: --- 97.08258605003357 seconds ---\n"
     ]
    },
    {
     "name": "stderr",
     "output_type": "stream",
     "text": [
      "[2018-04-24 17:50:09,805]-[11397]-[140735658623872]-[etl]-[12]-[DEBUG]: --- 97.08258605003357 seconds ---\n"
     ]
    },
    {
     "name": "stderr",
     "output_type": "stream",
     "text": [
      "[2018-04-24 17:51:57,058]-[11397]-[140735658623872]-[etl]-[12]-[DEBUG]: --- 107.24352478981018 seconds ---\n"
     ]
    },
    {
     "name": "stderr",
     "output_type": "stream",
     "text": [
      "[2018-04-24 17:51:57,058]-[11397]-[140735658623872]-[etl]-[12]-[DEBUG]: --- 107.24352478981018 seconds ---\n"
     ]
    },
    {
     "name": "stderr",
     "output_type": "stream",
     "text": [
      "[2018-04-24 17:53:41,177]-[11397]-[140735658623872]-[etl]-[12]-[DEBUG]: --- 104.10804724693298 seconds ---\n"
     ]
    },
    {
     "name": "stderr",
     "output_type": "stream",
     "text": [
      "[2018-04-24 17:53:41,177]-[11397]-[140735658623872]-[etl]-[12]-[DEBUG]: --- 104.10804724693298 seconds ---\n"
     ]
    },
    {
     "name": "stderr",
     "output_type": "stream",
     "text": [
      "[2018-04-24 17:54:56,507]-[11397]-[140735658623872]-[etl]-[12]-[DEBUG]: --- 75.32597136497498 seconds ---\n"
     ]
    },
    {
     "name": "stderr",
     "output_type": "stream",
     "text": [
      "[2018-04-24 17:54:56,507]-[11397]-[140735658623872]-[etl]-[12]-[DEBUG]: --- 75.32597136497498 seconds ---\n"
     ]
    },
    {
     "name": "stderr",
     "output_type": "stream",
     "text": [
      "[2018-04-24 17:55:46,850]-[11397]-[140735658623872]-[etl]-[12]-[DEBUG]: --- 50.34110999107361 seconds ---\n"
     ]
    },
    {
     "name": "stderr",
     "output_type": "stream",
     "text": [
      "[2018-04-24 17:55:46,850]-[11397]-[140735658623872]-[etl]-[12]-[DEBUG]: --- 50.34110999107361 seconds ---\n"
     ]
    },
    {
     "name": "stderr",
     "output_type": "stream",
     "text": [
      "[2018-04-24 17:55:46,860]-[11397]-[140735658623872]-[etl]-[13]-[DEBUG]: --- 1472.9488430023193 seconds ---\n"
     ]
    },
    {
     "name": "stderr",
     "output_type": "stream",
     "text": [
      "[2018-04-24 17:55:46,860]-[11397]-[140735658623872]-[etl]-[13]-[DEBUG]: --- 1472.9488430023193 seconds ---\n"
     ]
    }
   ],
   "source": [
    "start_time = time.time()\n",
    "\n",
    "df_vec1000 = df.copy()\n",
    "max_features = 1000\n",
    "\n",
    "# ou can change the token_pattern parameter from (?u)\\\\b\\\\w\\\\w+\\\\b (default) to (?u)\\\\b\\\\w\\\\w*\\\\b; The default matches token that has two or more word characters (in case you are not familiar with regex, + means one or more, so \\\\w\\\\w+ matches word with two or more word characters; * on the other hand means zero or more, \\\\w\\\\w* will thus match word with one or more characters):\n",
    "tfidf = TfidfVectorizer(max_features=max_features, stop_words=None, lowercase=False, token_pattern='(?u)\\\\b\\\\w\\\\w*\\\\b')\n",
    "\n",
    "for i in range(1, 17):\n",
    "    start_time1 = time.time()\n",
    "    df_vec1000.iloc[:, i] = tfidf.fit_transform(df_vec1000.iloc[:, i]).toarray().tolist()\n",
    "    logger.debug(\"--- %s seconds ---\" % (time.time() - start_time1))-\n",
    "logger.debug(\"--- %s seconds ---\" % (time.time() - start_time))\n",
    "\n"
   ]
  },
  {
   "cell_type": "code",
   "execution_count": 62,
   "metadata": {},
   "outputs": [],
   "source": [
    "df_vec1000.to_pickle(\"/Volumes/PORT_exFAT/courses/bcr_data/df_vec1000.pickle\")"
   ]
  },
  {
   "cell_type": "code",
   "execution_count": 61,
   "metadata": {},
   "outputs": [
    {
     "data": {
      "text/html": [
       "<div>\n",
       "<style scoped>\n",
       "    .dataframe tbody tr th:only-of-type {\n",
       "        vertical-align: middle;\n",
       "    }\n",
       "\n",
       "    .dataframe tbody tr th {\n",
       "        vertical-align: top;\n",
       "    }\n",
       "\n",
       "    .dataframe thead th {\n",
       "        text-align: right;\n",
       "    }\n",
       "</style>\n",
       "<table border=\"1\" class=\"dataframe\">\n",
       "  <thead>\n",
       "    <tr style=\"text-align: right;\">\n",
       "      <th></th>\n",
       "      <th>cancer</th>\n",
       "      <th>unigram</th>\n",
       "      <th>bigram</th>\n",
       "      <th>trigram</th>\n",
       "      <th>four_gram</th>\n",
       "    </tr>\n",
       "  </thead>\n",
       "  <tbody>\n",
       "    <tr>\n",
       "      <th>0</th>\n",
       "      <td>THCA</td>\n",
       "      <td>[0.30060724694014773, 0.243971098965917, 0.309...</td>\n",
       "      <td>[0.0, 0.0, 0.01928097028890905, 0.0, 0.0374947...</td>\n",
       "      <td>[0.0, 0.0, 0.0, 0.0, 0.0, 0.0, 0.0, 0.0, 0.0, ...</td>\n",
       "      <td>[0.0, 0.0, 0.0, 0.0, 0.022846518859662723, 0.0...</td>\n",
       "    </tr>\n",
       "    <tr>\n",
       "      <th>1</th>\n",
       "      <td>LUSC</td>\n",
       "      <td>[0.27940241270106486, 0.20381893064748305, 0.2...</td>\n",
       "      <td>[0.029900997000142197, 0.001356492831357418, 0...</td>\n",
       "      <td>[0.00990299906143734, 0.004722249473345151, 0....</td>\n",
       "      <td>[0.00381243914199715, 0.0009597048445138287, 0...</td>\n",
       "    </tr>\n",
       "    <tr>\n",
       "      <th>2</th>\n",
       "      <td>OV</td>\n",
       "      <td>[0.25787353497313453, 0.17554041838532652, 0.2...</td>\n",
       "      <td>[0.03319287133586341, 0.00474058368617282, 0.0...</td>\n",
       "      <td>[0.0, 0.0, 0.0, 0.0, 0.014450102681146257, 0.0...</td>\n",
       "      <td>[0.0, 0.0, 0.0, 0.0, 0.0, 0.0, 0.0, 0.0, 0.074...</td>\n",
       "    </tr>\n",
       "    <tr>\n",
       "      <th>3</th>\n",
       "      <td>COAD</td>\n",
       "      <td>[0.2859376320481555, 0.22163586790335493, 0.26...</td>\n",
       "      <td>[0.020788118673426833, 0.0019086076328834192, ...</td>\n",
       "      <td>[0.003525150951508385, 0.0023813738650965005, ...</td>\n",
       "      <td>[0.00567022260820096, 0.0038063052052369367, 0...</td>\n",
       "    </tr>\n",
       "    <tr>\n",
       "      <th>4</th>\n",
       "      <td>THCA</td>\n",
       "      <td>[0.25801557614226805, 0.18356030262722037, 0.2...</td>\n",
       "      <td>[0.027665512770039973, 0.003001862946594738, 0...</td>\n",
       "      <td>[0.0066499984344229185, 0.003808712424861506, ...</td>\n",
       "      <td>[0.0014186431870098696, 0.002380765853566207, ...</td>\n",
       "    </tr>\n",
       "  </tbody>\n",
       "</table>\n",
       "</div>"
      ],
      "text/plain": [
       "<div>\n",
       "<style scoped>\n",
       "    .dataframe tbody tr th:only-of-type {\n",
       "        vertical-align: middle;\n",
       "    }\n",
       "\n",
       "    .dataframe tbody tr th {\n",
       "        vertical-align: top;\n",
       "    }\n",
       "\n",
       "    .dataframe thead th {\n",
       "        text-align: right;\n",
       "    }\n",
       "</style>\n",
       "<table border=\"1\" class=\"dataframe\">\n",
       "  <thead>\n",
       "    <tr style=\"text-align: right;\">\n",
       "      <th></th>\n",
       "      <th>cancer</th>\n",
       "      <th>unigram</th>\n",
       "      <th>bigram</th>\n",
       "      <th>trigram</th>\n",
       "      <th>four_gram</th>\n",
       "    </tr>\n",
       "  </thead>\n",
       "  <tbody>\n",
       "    <tr>\n",
       "      <th>0</th>\n",
       "      <td>THCA</td>\n",
       "      <td>[0.30060724694014773, 0.243971098965917, 0.309...</td>\n",
       "      <td>[0.0, 0.0, 0.01928097028890905, 0.0, 0.0374947...</td>\n",
       "      <td>[0.0, 0.0, 0.0, 0.0, 0.0, 0.0, 0.0, 0.0, 0.0, ...</td>\n",
       "      <td>[0.0, 0.0, 0.0, 0.0, 0.022846518859662723, 0.0...</td>\n",
       "    </tr>\n",
       "    <tr>\n",
       "      <th>1</th>\n",
       "      <td>LUSC</td>\n",
       "      <td>[0.27940241270106486, 0.20381893064748305, 0.2...</td>\n",
       "      <td>[0.029900997000142197, 0.001356492831357418, 0...</td>\n",
       "      <td>[0.00990299906143734, 0.004722249473345151, 0....</td>\n",
       "      <td>[0.00381243914199715, 0.0009597048445138287, 0...</td>\n",
       "    </tr>\n",
       "    <tr>\n",
       "      <th>2</th>\n",
       "      <td>OV</td>\n",
       "      <td>[0.25787353497313453, 0.17554041838532652, 0.2...</td>\n",
       "      <td>[0.03319287133586341, 0.00474058368617282, 0.0...</td>\n",
       "      <td>[0.0, 0.0, 0.0, 0.0, 0.014450102681146257, 0.0...</td>\n",
       "      <td>[0.0, 0.0, 0.0, 0.0, 0.0, 0.0, 0.0, 0.0, 0.074...</td>\n",
       "    </tr>\n",
       "    <tr>\n",
       "      <th>3</th>\n",
       "      <td>COAD</td>\n",
       "      <td>[0.2859376320481555, 0.22163586790335493, 0.26...</td>\n",
       "      <td>[0.020788118673426833, 0.0019086076328834192, ...</td>\n",
       "      <td>[0.003525150951508385, 0.0023813738650965005, ...</td>\n",
       "      <td>[0.00567022260820096, 0.0038063052052369367, 0...</td>\n",
       "    </tr>\n",
       "    <tr>\n",
       "      <th>4</th>\n",
       "      <td>THCA</td>\n",
       "      <td>[0.25801557614226805, 0.18356030262722037, 0.2...</td>\n",
       "      <td>[0.027665512770039973, 0.003001862946594738, 0...</td>\n",
       "      <td>[0.0066499984344229185, 0.003808712424861506, ...</td>\n",
       "      <td>[0.0014186431870098696, 0.002380765853566207, ...</td>\n",
       "    </tr>\n",
       "  </tbody>\n",
       "</table>\n",
       "</div>"
      ]
     },
     "execution_count": 61,
     "metadata": {},
     "output_type": "execute_result"
    }
   ],
   "source": [
    "df_vec1000.iloc[:5, :5].head()"
   ]
  },
  {
   "cell_type": "code",
   "execution_count": null,
   "metadata": {},
   "outputs": [],
   "source": []
  }
 ],
 "metadata": {
  "kernelspec": {
   "display_name": "Python 2",
   "language": "python",
   "name": "python2"
  },
  "language_info": {
   "codemirror_mode": {
    "name": "ipython",
    "version": 2
   },
   "file_extension": ".py",
   "mimetype": "text/x-python",
   "name": "python",
   "nbconvert_exporter": "python",
   "pygments_lexer": "ipython2",
   "version": "2.7.6"
  }
 },
 "nbformat": 4,
 "nbformat_minor": 0
}
